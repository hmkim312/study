{
 "cells": [
  {
   "cell_type": "markdown",
   "metadata": {},
   "source": [
    "## 016 정수형 자료 이해하기"
   ]
  },
  {
   "cell_type": "code",
   "execution_count": 3,
   "metadata": {
    "execution": {
     "iopub.execute_input": "2020-06-12T09:20:19.316870Z",
     "iopub.status.busy": "2020-06-12T09:20:19.316870Z",
     "iopub.status.idle": "2020-06-12T09:20:19.323827Z",
     "shell.execute_reply": "2020-06-12T09:20:19.323827Z",
     "shell.execute_reply.started": "2020-06-12T09:20:19.316870Z"
    }
   },
   "outputs": [
    {
     "name": "stdout",
     "output_type": "stream",
     "text": [
      "10\n",
      "2\n",
      "8\n",
      "16\n",
      "1234567890123456789\n"
     ]
    }
   ],
   "source": [
    "int_data = 10 # 10진수\n",
    "bin_data = 0b10 # 2진수\n",
    "oct_data = 0o10 # 8진수\n",
    "hex_data = 0x10 # 16진수\n",
    "long_data = 1234567890123456789\n",
    "print(int_data)\n",
    "print(bin_data)\n",
    "print(oct_data)\n",
    "print(hex_data)\n",
    "print(long_data)"
   ]
  },
  {
   "cell_type": "markdown",
   "metadata": {},
   "source": [
    "## 017 실수형 자료 이해하기"
   ]
  },
  {
   "cell_type": "code",
   "execution_count": 4,
   "metadata": {
    "execution": {
     "iopub.execute_input": "2020-06-12T09:21:34.684132Z",
     "iopub.status.busy": "2020-06-12T09:21:34.684132Z",
     "iopub.status.idle": "2020-06-12T09:21:34.690117Z",
     "shell.execute_reply": "2020-06-12T09:21:34.690117Z",
     "shell.execute_reply.started": "2020-06-12T09:21:34.684132Z"
    }
   },
   "outputs": [
    {
     "name": "stdout",
     "output_type": "stream",
     "text": [
      "1.0\n",
      "3.14\n",
      "1560.0\n",
      "-7e-05\n"
     ]
    }
   ],
   "source": [
    "f1 = 1.0\n",
    "f2 = 3.14\n",
    "f3 = 1.56e3\n",
    "f4 = -0.7e-4\n",
    "print(f1)\n",
    "print(f2)\n",
    "print(f3)\n",
    "print(f4)"
   ]
  },
  {
   "cell_type": "markdown",
   "metadata": {},
   "source": [
    "## 018 복소수형 자료 이해하기"
   ]
  },
  {
   "cell_type": "code",
   "execution_count": 5,
   "metadata": {
    "execution": {
     "iopub.execute_input": "2020-06-12T09:29:22.651495Z",
     "iopub.status.busy": "2020-06-12T09:29:22.651495Z",
     "iopub.status.idle": "2020-06-12T09:29:22.656481Z",
     "shell.execute_reply": "2020-06-12T09:29:22.656481Z",
     "shell.execute_reply.started": "2020-06-12T09:29:22.651495Z"
    }
   },
   "outputs": [
    {
     "name": "stdout",
     "output_type": "stream",
     "text": [
      "1.0\n",
      "7.0\n",
      "(2+3j)\n"
     ]
    }
   ],
   "source": [
    "c1 = 1+7j\n",
    "print(c1.real); print(c1.imag)\n",
    "c2 = complex(2,3)\n",
    "print(c2)"
   ]
  },
  {
   "cell_type": "markdown",
   "metadata": {},
   "source": [
    "## 019 대입 연산자 이해하기"
   ]
  },
  {
   "cell_type": "code",
   "execution_count": 8,
   "metadata": {
    "execution": {
     "iopub.execute_input": "2020-06-12T09:30:46.619243Z",
     "iopub.status.busy": "2020-06-12T09:30:46.619243Z",
     "iopub.status.idle": "2020-06-12T09:30:46.624230Z",
     "shell.execute_reply": "2020-06-12T09:30:46.624230Z",
     "shell.execute_reply.started": "2020-06-12T09:30:46.619243Z"
    }
   },
   "outputs": [
    {
     "name": "stdout",
     "output_type": "stream",
     "text": [
      "a와 b를 더한 값은 3 입니다\n"
     ]
    }
   ],
   "source": [
    "a = 1\n",
    "b = 2\n",
    "ret = a + b\n",
    "print('a와 b를 더한 값은 ', end ='')\n",
    "print(ret, end='')\n",
    "print(' 입니다')"
   ]
  },
  {
   "cell_type": "markdown",
   "metadata": {},
   "source": [
    "## 020 사칙 연산자 이해하기"
   ]
  },
  {
   "cell_type": "code",
   "execution_count": 90,
   "metadata": {
    "execution": {
     "iopub.execute_input": "2020-06-12T09:48:33.328613Z",
     "iopub.status.busy": "2020-06-12T09:48:33.328613Z",
     "iopub.status.idle": "2020-06-12T09:48:33.332618Z",
     "shell.execute_reply": "2020-06-12T09:48:33.332618Z",
     "shell.execute_reply.started": "2020-06-12T09:48:33.328613Z"
    }
   },
   "outputs": [],
   "source": [
    "a = 2\n",
    "b = 4\n",
    "ret1 = a + b # 2 + 4 = 6\n",
    "ret2 = a - b # 2 - 4 = -2\n",
    "ret3 = a * b # 2 * 4 = 8\n",
    "ret4 = a / b # 2 / 4 = 0.5\n",
    "ret5 = a ** b # 2 ** 4 = 16\n",
    "ret6 = a + a + b / a # 2 + 2 * 4 / 2 =6\n",
    "ret7 = (a + b) * (a - b) # (2 + 4) * (2 - 4) = -12\n",
    "ret8 = a * b ** a # 2 * 4 ** 2 =32"
   ]
  },
  {
   "cell_type": "markdown",
   "metadata": {},
   "source": [
    "## 021 연산자 축약 이해하기"
   ]
  },
  {
   "cell_type": "code",
   "execution_count": 98,
   "metadata": {
    "execution": {
     "iopub.execute_input": "2020-06-12T09:50:50.081067Z",
     "iopub.status.busy": "2020-06-12T09:50:50.081067Z",
     "iopub.status.idle": "2020-06-12T09:50:50.085055Z",
     "shell.execute_reply": "2020-06-12T09:50:50.085055Z",
     "shell.execute_reply.started": "2020-06-12T09:50:50.081067Z"
    }
   },
   "outputs": [],
   "source": [
    "a = 0\n",
    "a += 1  # a + 1\n",
    "a -= 5  # a - 5\n",
    "a *= 2  # a * 2\n",
    "a /= 4  # a / 4"
   ]
  },
  {
   "cell_type": "markdown",
   "metadata": {},
   "source": [
    "## 022 True와 False 이해하기"
   ]
  },
  {
   "cell_type": "code",
   "execution_count": 99,
   "metadata": {
    "execution": {
     "iopub.execute_input": "2020-06-12T09:51:21.278855Z",
     "iopub.status.busy": "2020-06-12T09:51:21.278855Z",
     "iopub.status.idle": "2020-06-12T09:51:21.283842Z",
     "shell.execute_reply": "2020-06-12T09:51:21.283842Z",
     "shell.execute_reply.started": "2020-06-12T09:51:21.278855Z"
    }
   },
   "outputs": [
    {
     "name": "stdout",
     "output_type": "stream",
     "text": [
      "True\n",
      "False\n"
     ]
    }
   ],
   "source": [
    "a = True\n",
    "b = False\n",
    "print(a == 1)\n",
    "print(b != 0)"
   ]
  },
  {
   "cell_type": "markdown",
   "metadata": {},
   "source": [
    "## 023 관계 연산자 이해하기"
   ]
  },
  {
   "cell_type": "code",
   "execution_count": 102,
   "metadata": {
    "execution": {
     "iopub.execute_input": "2020-06-12T09:53:21.394486Z",
     "iopub.status.busy": "2020-06-12T09:53:21.393454Z",
     "iopub.status.idle": "2020-06-12T09:53:21.398475Z",
     "shell.execute_reply": "2020-06-12T09:53:21.398475Z",
     "shell.execute_reply.started": "2020-06-12T09:53:21.394486Z"
    }
   },
   "outputs": [
    {
     "name": "stdout",
     "output_type": "stream",
     "text": [
      "False\n",
      "True\n",
      "False\n",
      "True\n",
      "True\n"
     ]
    }
   ],
   "source": [
    "x = 1\n",
    "y = 2\n",
    "str1 = 'abc'\n",
    "str2 = 'python'\n",
    "print(x == y)\n",
    "print(x != y)\n",
    "print(str1 == str2)\n",
    "print(str2 == 'python')\n",
    "print(str1 < str2) # 문자열끼리의 비교는 사전의 순서(가나다 순)으로 비교함"
   ]
  },
  {
   "cell_type": "markdown",
   "metadata": {},
   "source": [
    "## 024 논리 연산자 이해하기\n",
    "- A and B : A와 B가 모두 참이면 참\n",
    "- A or B : A와 B중 하나만 참이면 참\n",
    "- not A : A 논리값의 반대"
   ]
  },
  {
   "cell_type": "code",
   "execution_count": 104,
   "metadata": {
    "execution": {
     "iopub.execute_input": "2020-06-12T09:55:15.930049Z",
     "iopub.status.busy": "2020-06-12T09:55:15.930049Z",
     "iopub.status.idle": "2020-06-12T09:55:15.937030Z",
     "shell.execute_reply": "2020-06-12T09:55:15.936032Z",
     "shell.execute_reply.started": "2020-06-12T09:55:15.930049Z"
    }
   },
   "outputs": [
    {
     "name": "stdout",
     "output_type": "stream",
     "text": [
      "False\n",
      "True\n",
      "True\n",
      "False\n",
      "False\n",
      "True\n"
     ]
    }
   ],
   "source": [
    "bool1 = True\n",
    "bool2 = False\n",
    "bool3 = True\n",
    "bool4 = False\n",
    "print(bool1 and bool2)\n",
    "print(bool1 and bool3)\n",
    "print(bool2 or bool3)\n",
    "print(bool2 or bool4)\n",
    "print(not bool1)\n",
    "print(not bool2)"
   ]
  },
  {
   "cell_type": "code",
   "execution_count": null,
   "metadata": {},
   "outputs": [],
   "source": []
  }
 ],
 "metadata": {
  "kernelspec": {
   "display_name": "Python 3",
   "language": "python",
   "name": "python3"
  },
  "language_info": {
   "codemirror_mode": {
    "name": "ipython",
    "version": 3
   },
   "file_extension": ".py",
   "mimetype": "text/x-python",
   "name": "python",
   "nbconvert_exporter": "python",
   "pygments_lexer": "ipython3",
   "version": "3.7.6"
  }
 },
 "nbformat": 4,
 "nbformat_minor": 4
}
