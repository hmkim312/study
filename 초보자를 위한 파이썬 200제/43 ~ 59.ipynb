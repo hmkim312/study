{
 "cells": [
  {
   "cell_type": "markdown",
   "metadata": {},
   "source": [
    "## 043 파이썬 모듈 이해하기\n",
    "- 파이썬 모듈을 이해하고 자신의 코드에 모듈을 포함시키는 방법을 이해\n",
    "- 모듈 : 이미 만들어져있고, 안정성이 검증된 함수들을 성격에 맞게 하나의 파이썬 파일에 묶어놓은것"
   ]
  },
  {
   "cell_type": "code",
   "execution_count": 2,
   "metadata": {
    "execution": {
     "iopub.execute_input": "2020-06-13T05:28:33.900409Z",
     "iopub.status.busy": "2020-06-13T05:28:33.900409Z",
     "iopub.status.idle": "2020-06-13T05:28:38.908802Z",
     "shell.execute_reply": "2020-06-13T05:28:38.906795Z",
     "shell.execute_reply.started": "2020-06-13T05:28:33.900409Z"
    }
   },
   "outputs": [
    {
     "name": "stdout",
     "output_type": "stream",
     "text": [
      "5초간 프로그램을 정지 합니다.\n",
      "5초가 지났습니다.\n"
     ]
    }
   ],
   "source": [
    "import time\n",
    "\n",
    "print('5초간 프로그램을 정지 합니다.')\n",
    "time.sleep(5)\n",
    "print('5초가 지났습니다.')"
   ]
  },
  {
   "cell_type": "code",
   "execution_count": 5,
   "metadata": {
    "execution": {
     "iopub.execute_input": "2020-06-13T05:35:17.605614Z",
     "iopub.status.busy": "2020-06-13T05:35:17.605614Z",
     "iopub.status.idle": "2020-06-13T05:35:17.611598Z",
     "shell.execute_reply": "2020-06-13T05:35:17.610611Z",
     "shell.execute_reply.started": "2020-06-13T05:35:17.605614Z"
    }
   },
   "outputs": [
    {
     "name": "stdout",
     "output_type": "stream",
     "text": [
      "대한민국:1등\n",
      "(3, 2, 1)\n"
     ]
    }
   ],
   "source": [
    "import mylib\n",
    "ret1 = mylib.add_txt('대한민국', '1등')\n",
    "ret2 = mylib.reverse(1, 2, 3)\n",
    "print(ret1)\n",
    "print(ret2)"
   ]
  },
  {
   "cell_type": "markdown",
   "metadata": {},
   "source": [
    "## 044 파이썬 패키지 이해하기\n",
    "- 파이썬 모듈의 계층적 구조인 파이썬 패키지에 대해 이해\n",
    "- mypackage 디렉토리에 043에서 만든 mylib.py와 __init__.py를 만듬"
   ]
  },
  {
   "cell_type": "code",
   "execution_count": 9,
   "metadata": {
    "execution": {
     "iopub.execute_input": "2020-06-13T05:39:14.272486Z",
     "iopub.status.busy": "2020-06-13T05:39:14.272486Z",
     "iopub.status.idle": "2020-06-13T05:39:14.276497Z",
     "shell.execute_reply": "2020-06-13T05:39:14.276497Z",
     "shell.execute_reply.started": "2020-06-13T05:39:14.272486Z"
    }
   },
   "outputs": [
    {
     "name": "stdout",
     "output_type": "stream",
     "text": [
      "대한민국:1등\n",
      "(3, 2, 1)\n"
     ]
    }
   ],
   "source": [
    "import mypackage.mylib\n",
    "\n",
    "ret1 = mypackage.mylib.add_txt('대한민국', '1등')\n",
    "ret2 = mypackage.mylib.reverse(1, 2, 3)\n",
    "print(ret1)\n",
    "print(ret2)"
   ]
  },
  {
   "cell_type": "markdown",
   "metadata": {},
   "source": [
    "## 045 파이썬 모듈 임포트 이해하기\n",
    "- 파이썬 모듈을 우리가 작성하는 코드로 임포트하는 방법을 이해\n",
    "- 패키지는 모듈을 계측적으로 모아놓은것"
   ]
  },
  {
   "cell_type": "code",
   "execution_count": 11,
   "metadata": {
    "execution": {
     "iopub.execute_input": "2020-06-13T05:46:34.922553Z",
     "iopub.status.busy": "2020-06-13T05:46:34.922553Z",
     "iopub.status.idle": "2020-06-13T05:46:35.931428Z",
     "shell.execute_reply": "2020-06-13T05:46:35.930430Z",
     "shell.execute_reply.started": "2020-06-13T05:46:34.922553Z"
    }
   },
   "outputs": [
    {
     "data": {
      "text/plain": [
       "(3, 2, 1)"
      ]
     },
     "execution_count": 11,
     "metadata": {},
     "output_type": "execute_result"
    }
   ],
   "source": [
    "import time # 파이썬 내장모듈 임포트\n",
    "import mylib # 043에서 만든 mylib 임포트\n",
    "import mypackage.mylib # 044에서 만든 mypackage에 있는 mylib 임포트\n",
    "\n",
    "time.sleep(1)\n",
    "mylib.add_txt('나는', '가수다')\n",
    "mypackage.mylib.reverse(1, 2, 3)"
   ]
  },
  {
   "cell_type": "markdown",
   "metadata": {
    "execution": {
     "iopub.execute_input": "2020-06-13T05:47:32.567284Z",
     "iopub.status.busy": "2020-06-13T05:47:32.567284Z",
     "iopub.status.idle": "2020-06-13T05:47:32.573232Z",
     "shell.execute_reply": "2020-06-13T05:47:32.573232Z",
     "shell.execute_reply.started": "2020-06-13T05:47:32.567284Z"
    }
   },
   "source": [
    "## 046 파이썬 모듈 임포트 이해하기(2)\n",
    "- 원하는 모듈만 임포트하여 간단하게 사용할 수 있는 방법에 대해 배우기\n",
    "- from 모듈이름 import 함수이름\n",
    "- from 패키지이름 import 모듈이름"
   ]
  },
  {
   "cell_type": "code",
   "execution_count": 14,
   "metadata": {
    "execution": {
     "iopub.execute_input": "2020-06-13T05:49:45.000096Z",
     "iopub.status.busy": "2020-06-13T05:49:45.000096Z",
     "iopub.status.idle": "2020-06-13T05:49:46.010389Z",
     "shell.execute_reply": "2020-06-13T05:49:46.008353Z",
     "shell.execute_reply.started": "2020-06-13T05:49:45.000096Z"
    }
   },
   "outputs": [
    {
     "data": {
      "text/plain": [
       "(3, 2, 1)"
      ]
     },
     "execution_count": 14,
     "metadata": {},
     "output_type": "execute_result"
    }
   ],
   "source": [
    "from time import sleep # from 모듈 import 함수\n",
    "from mypackage import mylib # from 패키지 import 모듈\n",
    "from mypackage.mylib import reverse # from 모듈 import 함수\n",
    "\n",
    "sleep(1) \n",
    "mylib.add_txt('나는', '가수다')\n",
    "reverse(1, 2, 3)"
   ]
  },
  {
   "cell_type": "markdown",
   "metadata": {},
   "source": [
    "## 047 파이썬 모듈 임포트 이해하기(3)\n",
    "- 이름이 긴 모듈에 간단한 별명을 붙이는 방법에 대해 학습\n",
    "- import 이름이 긴 모듈명 as 별명"
   ]
  },
  {
   "cell_type": "code",
   "execution_count": 15,
   "metadata": {
    "execution": {
     "iopub.execute_input": "2020-06-13T05:51:26.387863Z",
     "iopub.status.busy": "2020-06-13T05:51:26.387863Z",
     "iopub.status.idle": "2020-06-13T05:51:26.391854Z",
     "shell.execute_reply": "2020-06-13T05:51:26.391854Z",
     "shell.execute_reply.started": "2020-06-13T05:51:26.387863Z"
    }
   },
   "outputs": [],
   "source": [
    "import mypackage as mp\n",
    "import mypackage.mylib as ml\n",
    "\n",
    "ret1 = mp.mylib.add_txt('나는', '가수다')\n",
    "ret2 = ml.reverse(1, 2, 3)"
   ]
  },
  {
   "cell_type": "markdown",
   "metadata": {},
   "source": [
    "## 048 파일 열고 닫기\n",
    "- 파일을 열고 닫는 방법에 대해 학습"
   ]
  },
  {
   "cell_type": "code",
   "execution_count": 22,
   "metadata": {
    "execution": {
     "iopub.execute_input": "2020-06-13T05:59:03.143693Z",
     "iopub.status.busy": "2020-06-13T05:59:03.143693Z",
     "iopub.status.idle": "2020-06-13T05:59:03.148710Z",
     "shell.execute_reply": "2020-06-13T05:59:03.148710Z",
     "shell.execute_reply.started": "2020-06-13T05:59:03.143693Z"
    }
   },
   "outputs": [],
   "source": [
    "f1 = open('text.txt','r')\n",
    "f2 = open('mypicture1.jpg', 'rb')\n",
    "\n",
    "#------------------------------\n",
    "#오픈한 파일을 처리하는 코드 작성\n",
    "#------------------------------\n",
    "\n",
    "f1.close()\n",
    "f2.close()"
   ]
  },
  {
   "cell_type": "markdown",
   "metadata": {
    "execution": {
     "iopub.execute_input": "2020-06-13T05:59:31.034982Z",
     "iopub.status.busy": "2020-06-13T05:59:31.034982Z",
     "iopub.status.idle": "2020-06-13T05:59:31.037993Z",
     "shell.execute_reply": "2020-06-13T05:59:31.037993Z",
     "shell.execute_reply.started": "2020-06-13T05:59:31.034982Z"
    }
   },
   "source": [
    "## 049 클래스 이해하기\n",
    "- 이름을 지정하여 만드는 하나의 독립된 공간인 클래스에 대해 학습\n",
    "- 클래스 : 프로그래머가 지정한 이름으로 만든 하나의 독립된 공간으로 namespace라고 불림\n",
    "- 클래스 멤버 : 클래스에서 변수 역할\n",
    "- 클래스 메소드 : 클래스에서 함수 역할"
   ]
  },
  {
   "cell_type": "code",
   "execution_count": 26,
   "metadata": {
    "execution": {
     "iopub.execute_input": "2020-06-13T06:03:46.511488Z",
     "iopub.status.busy": "2020-06-13T06:03:46.511488Z",
     "iopub.status.idle": "2020-06-13T06:03:46.516475Z",
     "shell.execute_reply": "2020-06-13T06:03:46.516475Z",
     "shell.execute_reply.started": "2020-06-13T06:03:46.511488Z"
    }
   },
   "outputs": [
    {
     "name": "stdout",
     "output_type": "stream",
     "text": [
      "안녕하세요\n",
      "안녕하세요\n"
     ]
    }
   ],
   "source": [
    "# MyClass 생성\n",
    "class MyClass:\n",
    "    var = '안녕하세요'\n",
    "    def sayHello(self):\n",
    "        print(self.var)\n",
    "        \n",
    "obj = MyClass() # MyClass 인스턴스 객체 생성        \n",
    "print(obj.var) # '안녕하세요'가 출력됨 (클래스 멤버 호출)\n",
    "obj.sayHello() # '안녕하세요'가 출력됨 (클래스 메소드 호출)"
   ]
  },
  {
   "cell_type": "markdown",
   "metadata": {},
   "source": [
    "## 050 클래스 멤버와 인스턴스 멤버 이해하기\n",
    "- 클래스 내에서 선언되는 변수인 클래스 멤버와 인스턴스 멤버에 대해 학습\n",
    "- 클래스 멤버 : 클래스 내에서 선언되는 변수\n",
    "- 인스턴스 멤버 : 클래스 메소드 안에서 self와 함께 선언되는 변수"
   ]
  },
  {
   "cell_type": "code",
   "execution_count": 29,
   "metadata": {
    "execution": {
     "iopub.execute_input": "2020-06-13T06:08:29.529252Z",
     "iopub.status.busy": "2020-06-13T06:08:29.529252Z",
     "iopub.status.idle": "2020-06-13T06:08:29.535235Z",
     "shell.execute_reply": "2020-06-13T06:08:29.535235Z",
     "shell.execute_reply.started": "2020-06-13T06:08:29.529252Z"
    }
   },
   "outputs": [
    {
     "name": "stdout",
     "output_type": "stream",
     "text": [
      "안녕하세요!!\n",
      "안녕\n",
      "안녕하세요!!\n"
     ]
    }
   ],
   "source": [
    "class MyClass:\n",
    "    var = '안녕하세요!!' # 클래스 멤버\n",
    "    def sayHello(self):\n",
    "        param1 = '안녕' # 지역 변수\n",
    "        self.param2 = '하이' # 인스턴스 멤버\n",
    "        print(param1) # 지역변수 출력\n",
    "        print(self.var) # 클래스 멤버 출력\n",
    "        \n",
    "obj = MyClass()\n",
    "print(obj.var)\n",
    "obj.sayHello()"
   ]
  },
  {
   "cell_type": "code",
   "execution_count": 32,
   "metadata": {
    "execution": {
     "iopub.execute_input": "2020-06-13T06:11:46.906772Z",
     "iopub.status.busy": "2020-06-13T06:11:46.906772Z",
     "iopub.status.idle": "2020-06-13T06:11:46.909780Z",
     "shell.execute_reply": "2020-06-13T06:11:46.909780Z",
     "shell.execute_reply.started": "2020-06-13T06:11:46.906772Z"
    }
   },
   "outputs": [
    {
     "data": {
      "text/plain": [
       "'하이'"
      ]
     },
     "execution_count": 32,
     "metadata": {},
     "output_type": "execute_result"
    }
   ],
   "source": [
    "obj.param2 # 인스턴스 멤버 호출"
   ]
  },
  {
   "cell_type": "markdown",
   "metadata": {
    "execution": {
     "iopub.execute_input": "2020-06-13T06:12:37.599708Z",
     "iopub.status.busy": "2020-06-13T06:12:37.598745Z",
     "iopub.status.idle": "2020-06-13T06:12:37.604695Z",
     "shell.execute_reply": "2020-06-13T06:12:37.603725Z",
     "shell.execute_reply.started": "2020-06-13T06:12:37.599708Z"
    }
   },
   "source": [
    "## 051 클래스 메소드 이해하기\n",
    "- 클래스 내에서 정의되는 함수인 클래스 메소드에 대해 이해"
   ]
  },
  {
   "cell_type": "code",
   "execution_count": 35,
   "metadata": {
    "execution": {
     "iopub.execute_input": "2020-06-13T06:14:34.256384Z",
     "iopub.status.busy": "2020-06-13T06:14:34.256384Z",
     "iopub.status.idle": "2020-06-13T06:14:34.261371Z",
     "shell.execute_reply": "2020-06-13T06:14:34.261371Z",
     "shell.execute_reply.started": "2020-06-13T06:14:34.256384Z"
    }
   },
   "outputs": [
    {
     "name": "stdout",
     "output_type": "stream",
     "text": [
      "안녕하세요!\n",
      "철수 다음에보자!\n"
     ]
    }
   ],
   "source": [
    "class MyClass:\n",
    "    def sayHello(self):\n",
    "        print('안녕하세요!')\n",
    "\n",
    "    def sayBye(self, name):\n",
    "        print(f'{name} 다음에보자!')\n",
    "\n",
    "\n",
    "obj = MyClass()\n",
    "obj.sayHello()\n",
    "obj.sayBye('철수')"
   ]
  },
  {
   "cell_type": "markdown",
   "metadata": {},
   "source": [
    "## 052 클래스 생성자 이해하기\n",
    "- 클래스의 인스턴스 객체가 생성될 떄 호출되는 클래스 생성자에 대해 이해"
   ]
  },
  {
   "cell_type": "code",
   "execution_count": 38,
   "metadata": {
    "execution": {
     "iopub.execute_input": "2020-06-13T06:16:53.520987Z",
     "iopub.status.busy": "2020-06-13T06:16:53.520987Z",
     "iopub.status.idle": "2020-06-13T06:16:53.525972Z",
     "shell.execute_reply": "2020-06-13T06:16:53.525004Z",
     "shell.execute_reply.started": "2020-06-13T06:16:53.520987Z"
    }
   },
   "outputs": [
    {
     "name": "stdout",
     "output_type": "stream",
     "text": [
      "MyClass 인스턴스 객체가 생성되었습니다.\n",
      "안녕하세요!\n"
     ]
    }
   ],
   "source": [
    "class MyClass:\n",
    "    def __init__(self):\n",
    "        self.var = '안녕하세요!'\n",
    "        print('MyClass 인스턴스 객체가 생성되었습니다.')\n",
    "\n",
    "obj = MyClass() # 인스턴스 객체가 생성되면서 print문이 실행됨\n",
    "print(obj.var) # 인스턴스 객체 안의 생성자의 var가 생성됨"
   ]
  },
  {
   "cell_type": "code",
   "execution_count": 40,
   "metadata": {
    "execution": {
     "iopub.execute_input": "2020-06-13T06:38:50.900147Z",
     "iopub.status.busy": "2020-06-13T06:38:50.900147Z",
     "iopub.status.idle": "2020-06-13T06:38:50.906099Z",
     "shell.execute_reply": "2020-06-13T06:38:50.906099Z",
     "shell.execute_reply.started": "2020-06-13T06:38:50.900147Z"
    }
   },
   "outputs": [
    {
     "name": "stdout",
     "output_type": "stream",
     "text": [
      "생성자 인자로 전달받은 값은 <철수> 입니다.\n",
      "철수\n"
     ]
    }
   ],
   "source": [
    "class MyClass:\n",
    "    def __init__(self, txt):\n",
    "        self.var = txt\n",
    "        print('생성자 인자로 전달받은 값은 <'+self.var+'> 입니다.')\n",
    "\n",
    "\n",
    "obj = MyClass('철수')  # 인스턴스 객체가 생성되면서 print문이 실행됨\n",
    "print(obj.var)  # 인스턴스 객체 안의 생성자의 var가 생성됨"
   ]
  },
  {
   "cell_type": "markdown",
   "metadata": {},
   "source": [
    "## 053 클래스 소멸자 이해하기\n",
    "- 클래스의 인스턴스 객체가 메모리에서 제거될 떄 자동으로 호출되는 클래스 소멸자에 대해 이해"
   ]
  },
  {
   "cell_type": "code",
   "execution_count": 42,
   "metadata": {
    "execution": {
     "iopub.execute_input": "2020-06-13T06:40:25.991607Z",
     "iopub.status.busy": "2020-06-13T06:40:25.991607Z",
     "iopub.status.idle": "2020-06-13T06:40:25.996587Z",
     "shell.execute_reply": "2020-06-13T06:40:25.996587Z",
     "shell.execute_reply.started": "2020-06-13T06:40:25.991607Z"
    }
   },
   "outputs": [
    {
     "name": "stdout",
     "output_type": "stream",
     "text": [
      "MyClass 인스턴스 객체가 메모리에서 제거 됩니다.\n"
     ]
    }
   ],
   "source": [
    "class MyClass:\n",
    "    def __del__(self):\n",
    "        print('MyClass 인스턴스 객체가 메모리에서 제거 됩니다.')\n",
    "        \n",
    "obj = MyClass()\n",
    "del obj"
   ]
  },
  {
   "cell_type": "markdown",
   "metadata": {},
   "source": [
    "## 054 클래스 상속 이해하기\n",
    "- 부모클래스의 모든 기능들을 자식클래스로 상속하는 개념에 대해 이해\n",
    "- 상속 : 클래스가 가지고 있는 모든 멤버나 메소드를 상속받는 클래스가 모두 사용할 수 있도록 해주는것\n",
    "- 부모클래스 : 상속을 해주는 클래스(슈퍼클래스)\n",
    "- 자식클래스 : 상속을 받는 클래스(서브클래스)"
   ]
  },
  {
   "cell_type": "code",
   "execution_count": 45,
   "metadata": {
    "execution": {
     "iopub.execute_input": "2020-06-13T06:48:14.183488Z",
     "iopub.status.busy": "2020-06-13T06:48:14.183488Z",
     "iopub.status.idle": "2020-06-13T06:48:14.189472Z",
     "shell.execute_reply": "2020-06-13T06:48:14.188474Z",
     "shell.execute_reply.started": "2020-06-13T06:48:14.183488Z"
    }
   },
   "outputs": [],
   "source": [
    "class Add:\n",
    "    def add(self, n1, n2):\n",
    "        return n1 + n2\n",
    "\n",
    "class Calculator(Add): # add를 상속받음\n",
    "    def sub(self, n1, n2):\n",
    "        return n1 - n2"
   ]
  },
  {
   "cell_type": "code",
   "execution_count": 44,
   "metadata": {
    "execution": {
     "iopub.execute_input": "2020-06-13T06:46:31.655500Z",
     "iopub.status.busy": "2020-06-13T06:46:31.654503Z",
     "iopub.status.idle": "2020-06-13T06:46:31.661485Z",
     "shell.execute_reply": "2020-06-13T06:46:31.660488Z",
     "shell.execute_reply.started": "2020-06-13T06:46:31.655500Z"
    }
   },
   "outputs": [
    {
     "name": "stdout",
     "output_type": "stream",
     "text": [
      "3\n",
      "-1\n"
     ]
    }
   ],
   "source": [
    "obj = Calculator()\n",
    "print(obj.add(1,2)) # class add를 상속받아 Calulator에도 add 함수가 있음\n",
    "print(obj.sub(1,2))"
   ]
  },
  {
   "cell_type": "code",
   "execution_count": 48,
   "metadata": {
    "execution": {
     "iopub.execute_input": "2020-06-13T06:52:27.336864Z",
     "iopub.status.busy": "2020-06-13T06:52:27.336864Z",
     "iopub.status.idle": "2020-06-13T06:52:27.341886Z",
     "shell.execute_reply": "2020-06-13T06:52:27.341886Z",
     "shell.execute_reply.started": "2020-06-13T06:52:27.336864Z"
    }
   },
   "outputs": [
    {
     "name": "stdout",
     "output_type": "stream",
     "text": [
      "3\n",
      "6\n"
     ]
    }
   ],
   "source": [
    "class Add:\n",
    "    def add(self, n1, n2):\n",
    "        return n1 + n2\n",
    "\n",
    "class Multiply:\n",
    "    def multiply(self, n1, n2):\n",
    "        return n1 * n2\n",
    "\n",
    "# 다중 상속\n",
    "class Calculator(Add, Multiply):\n",
    "    def sub(self, n1, n2):\n",
    "        return n1 - n2\n",
    "\n",
    "obj = Calculator()\n",
    "print(obj.add(1,2))\n",
    "print(obj.multiply(3,2))"
   ]
  },
  {
   "cell_type": "markdown",
   "metadata": {},
   "source": [
    "## 055 예외처리 이해하기(1)\n",
    "- 코드에서 예외 상황이 발생했을때 프로그램을 종료시키지 않고 예외를 처리하는 방법에 대해 학습"
   ]
  },
  {
   "cell_type": "code",
   "execution_count": 49,
   "metadata": {
    "execution": {
     "iopub.execute_input": "2020-06-13T07:11:51.020876Z",
     "iopub.status.busy": "2020-06-13T07:11:51.020876Z",
     "iopub.status.idle": "2020-06-13T07:11:51.027858Z",
     "shell.execute_reply": "2020-06-13T07:11:51.027858Z",
     "shell.execute_reply.started": "2020-06-13T07:11:51.020876Z"
    }
   },
   "outputs": [
    {
     "name": "stdout",
     "output_type": "stream",
     "text": [
      "안녕하세요.\n",
      "예외발생!\n"
     ]
    }
   ],
   "source": [
    "try :\n",
    "    print('안녕하세요.')\n",
    "    print(param)\n",
    "except:\n",
    "    print('예외발생!')"
   ]
  },
  {
   "cell_type": "markdown",
   "metadata": {},
   "source": [
    "# 056 예외처리 이해하기(2)\n",
    "- 코드에서 예외가 발생하지 않았을때만 실행해야하는 코드 처리 방법에 대해 학습"
   ]
  },
  {
   "cell_type": "code",
   "execution_count": 52,
   "metadata": {
    "execution": {
     "iopub.execute_input": "2020-06-13T07:14:36.074607Z",
     "iopub.status.busy": "2020-06-13T07:14:36.074607Z",
     "iopub.status.idle": "2020-06-13T07:14:36.079644Z",
     "shell.execute_reply": "2020-06-13T07:14:36.079644Z",
     "shell.execute_reply.started": "2020-06-13T07:14:36.074607Z"
    }
   },
   "outputs": [
    {
     "name": "stdout",
     "output_type": "stream",
     "text": [
      "안녕하세요.\n",
      "예외 발생!\n"
     ]
    }
   ],
   "source": [
    "try :\n",
    "    print('안녕하세요.')\n",
    "    print(param)\n",
    "except:\n",
    "    print('예외 발생!')\n",
    "else:\n",
    "    print('정상 작동!')"
   ]
  },
  {
   "cell_type": "code",
   "execution_count": 53,
   "metadata": {
    "execution": {
     "iopub.execute_input": "2020-06-13T07:15:03.330110Z",
     "iopub.status.busy": "2020-06-13T07:15:03.330110Z",
     "iopub.status.idle": "2020-06-13T07:15:03.334100Z",
     "shell.execute_reply": "2020-06-13T07:15:03.334100Z",
     "shell.execute_reply.started": "2020-06-13T07:15:03.330110Z"
    }
   },
   "outputs": [
    {
     "name": "stdout",
     "output_type": "stream",
     "text": [
      "안녕하세요.\n",
      "정상 작동!\n"
     ]
    }
   ],
   "source": [
    "try :\n",
    "    print('안녕하세요.')\n",
    "#     print(param)\n",
    "except:\n",
    "    print('예외 발생!')\n",
    "else:\n",
    "    print('정상 작동!')"
   ]
  },
  {
   "cell_type": "markdown",
   "metadata": {
    "execution": {
     "iopub.execute_input": "2020-06-13T07:49:55.706340Z",
     "iopub.status.busy": "2020-06-13T07:49:55.706340Z",
     "iopub.status.idle": "2020-06-13T07:49:55.709332Z",
     "shell.execute_reply": "2020-06-13T07:49:55.709332Z",
     "shell.execute_reply.started": "2020-06-13T07:49:55.706340Z"
    }
   },
   "source": [
    "## 057 예외처리 이해하기(3)\n",
    "- 코드에서 예외발생 유무와 상관없이 무조건 실행해야하는 코드 처리 방법에 대해 학습"
   ]
  },
  {
   "cell_type": "code",
   "execution_count": 55,
   "metadata": {
    "execution": {
     "iopub.execute_input": "2020-06-13T07:50:29.383635Z",
     "iopub.status.busy": "2020-06-13T07:50:29.383635Z",
     "iopub.status.idle": "2020-06-13T07:50:29.388584Z",
     "shell.execute_reply": "2020-06-13T07:50:29.388584Z",
     "shell.execute_reply.started": "2020-06-13T07:50:29.383635Z"
    }
   },
   "outputs": [
    {
     "name": "stdout",
     "output_type": "stream",
     "text": [
      "안녕하세요.\n",
      "예외 발생!\n",
      "무조건 실행되는 코드!\n"
     ]
    }
   ],
   "source": [
    "try :\n",
    "    print('안녕하세요.')\n",
    "    print(param)\n",
    "except:\n",
    "    print('예외 발생!')\n",
    "finally:\n",
    "    print('무조건 실행되는 코드!')"
   ]
  },
  {
   "cell_type": "markdown",
   "metadata": {},
   "source": [
    "## 058 예외처리 이해하기(4)\n",
    "- 코드에서 예외 발생 내용을 확인하고자 하는 경우 코드 처리 방법에 대해 이해\n",
    "- Exception as e : print(e)하면 오류 코드가 저장되어서 출력됨"
   ]
  },
  {
   "cell_type": "code",
   "execution_count": 57,
   "metadata": {
    "execution": {
     "iopub.execute_input": "2020-06-13T07:51:40.380170Z",
     "iopub.status.busy": "2020-06-13T07:51:40.380170Z",
     "iopub.status.idle": "2020-06-13T07:51:40.385176Z",
     "shell.execute_reply": "2020-06-13T07:51:40.385176Z",
     "shell.execute_reply.started": "2020-06-13T07:51:40.380170Z"
    }
   },
   "outputs": [
    {
     "name": "stdout",
     "output_type": "stream",
     "text": [
      "name 'param' is not defined\n"
     ]
    }
   ],
   "source": [
    "try:\n",
    "    print(param)\n",
    "except Exception as e:\n",
    "    print(e) # name 'param' is not defined가 출력"
   ]
  },
  {
   "cell_type": "markdown",
   "metadata": {},
   "source": [
    "## 059 예외처리 이해하기(5)\n",
    "- 코드에서 특정 예외가 발생했을 때만 코드를 처리하는 방법에 대해 학습"
   ]
  },
  {
   "cell_type": "code",
   "execution_count": 58,
   "metadata": {
    "execution": {
     "iopub.execute_input": "2020-06-13T07:53:33.229043Z",
     "iopub.status.busy": "2020-06-13T07:53:33.229043Z",
     "iopub.status.idle": "2020-06-13T07:54:23.309724Z",
     "shell.execute_reply": "2020-06-13T07:54:23.308727Z",
     "shell.execute_reply.started": "2020-06-13T07:53:33.229043Z"
    },
    "scrolled": true
   },
   "outputs": [
    {
     "name": "stdout",
     "output_type": "stream",
     "text": [
      "1\n",
      "2\n",
      "3\n",
      "4\n",
      "5\n",
      "6\n",
      "7\n",
      "8\n",
      "9\n",
      "10\n",
      "11\n",
      "12\n",
      "13\n",
      "14\n",
      "15\n",
      "16\n",
      "17\n",
      "18\n",
      "19\n",
      "20\n",
      "21\n",
      "22\n",
      "23\n",
      "24\n",
      "25\n",
      "26\n",
      "27\n",
      "28\n",
      "29\n",
      "30\n",
      "31\n",
      "32\n",
      "33\n",
      "34\n",
      "35\n",
      "36\n",
      "37\n",
      "38\n",
      "39\n",
      "40\n",
      "41\n",
      "42\n",
      "43\n",
      "44\n",
      "45\n",
      "46\n",
      "47\n",
      "48\n",
      "49\n",
      "50\n",
      "51\n",
      "52\n",
      "53\n",
      "54\n",
      "55\n",
      "56\n",
      "57\n",
      "58\n",
      "59\n",
      "60\n",
      "61\n",
      "62\n",
      "63\n",
      "64\n",
      "65\n",
      "66\n",
      "67\n",
      "68\n",
      "69\n",
      "70\n",
      "71\n",
      "72\n",
      "73\n",
      "74\n",
      "75\n",
      "76\n",
      "77\n",
      "78\n",
      "79\n",
      "80\n",
      "81\n",
      "82\n",
      "83\n",
      "84\n",
      "85\n",
      "86\n",
      "87\n",
      "88\n",
      "89\n",
      "90\n",
      "91\n",
      "92\n",
      "93\n",
      "94\n",
      "95\n",
      "96\n",
      "97\n",
      "98\n",
      "99\n",
      "100\n",
      "사용자에 의해 프로그램이 중단되었습니다.\n"
     ]
    }
   ],
   "source": [
    "import time\n",
    "count = 1\n",
    "try:\n",
    "    while True:\n",
    "        print(count)\n",
    "        count += 1\n",
    "        time.sleep(0.5)\n",
    "\n",
    "except KeyboardInterrupt: # Ctrl + C가 입력되면 발생하는 오류\n",
    "    print('사용자에 의해 프로그램이 중단되었습니다.')"
   ]
  },
  {
   "cell_type": "code",
   "execution_count": null,
   "metadata": {},
   "outputs": [],
   "source": []
  }
 ],
 "metadata": {
  "kernelspec": {
   "display_name": "Python 3",
   "language": "python",
   "name": "python3"
  },
  "language_info": {
   "codemirror_mode": {
    "name": "ipython",
    "version": 3
   },
   "file_extension": ".py",
   "mimetype": "text/x-python",
   "name": "python",
   "nbconvert_exporter": "python",
   "pygments_lexer": "ipython3",
   "version": "3.7.6"
  }
 },
 "nbformat": 4,
 "nbformat_minor": 4
}
