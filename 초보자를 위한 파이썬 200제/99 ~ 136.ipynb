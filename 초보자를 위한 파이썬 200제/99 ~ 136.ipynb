{
 "cells": [
  {
   "cell_type": "markdown",
   "metadata": {},
   "source": [
    "## 099 순차적인 정수 리스트 만들기\n",
    "- [0,1,2]과 같이 요소가 순차적인 정수로 된 리스트를 간단하게 만드는 방법을 학습"
   ]
  },
  {
   "cell_type": "code",
   "execution_count": 2,
   "metadata": {
    "execution": {
     "iopub.execute_input": "2020-06-13T14:37:25.204465Z",
     "iopub.status.busy": "2020-06-13T14:37:25.204465Z",
     "iopub.status.idle": "2020-06-13T14:37:25.210422Z",
     "shell.execute_reply": "2020-06-13T14:37:25.210422Z",
     "shell.execute_reply.started": "2020-06-13T14:37:25.204465Z"
    }
   },
   "outputs": [
    {
     "name": "stdout",
     "output_type": "stream",
     "text": [
      "[0, 1, 2, 3, 4, 5, 6, 7, 8, 9]\n",
      "[10, 11, 12, 13, 14, 15, 16, 17, 18, 19]\n"
     ]
    }
   ],
   "source": [
    "range1 = range(10)\n",
    "range2 = range(10, 20)\n",
    "print(list(range1))\n",
    "print(list(range2))"
   ]
  },
  {
   "cell_type": "code",
   "execution_count": 4,
   "metadata": {
    "execution": {
     "iopub.execute_input": "2020-06-13T14:37:29.061909Z",
     "iopub.status.busy": "2020-06-13T14:37:29.061909Z",
     "iopub.status.idle": "2020-06-13T14:37:29.067891Z",
     "shell.execute_reply": "2020-06-13T14:37:29.067891Z",
     "shell.execute_reply.started": "2020-06-13T14:37:29.061909Z"
    }
   },
   "outputs": [
    {
     "data": {
      "text/plain": [
       "55"
      ]
     },
     "execution_count": 4,
     "metadata": {},
     "output_type": "execute_result"
    }
   ],
   "source": [
    "ret = 0\n",
    "for i in range(10):\n",
    "    ret += (i + 1)\n",
    "ret"
   ]
  },
  {
   "cell_type": "markdown",
   "metadata": {},
   "source": [
    "## 100 리스트에서 특정위치의 요소 얻기\n",
    "- 리스트의 특정 위치에 있는 요소를 얻는 방법에 대해 학습"
   ]
  },
  {
   "cell_type": "code",
   "execution_count": 1,
   "metadata": {
    "execution": {
     "iopub.execute_input": "2020-06-14T07:23:47.001648Z",
     "iopub.status.busy": "2020-06-14T07:23:47.000622Z",
     "iopub.status.idle": "2020-06-14T07:23:47.009598Z",
     "shell.execute_reply": "2020-06-14T07:23:47.009598Z",
     "shell.execute_reply.started": "2020-06-14T07:23:47.001648Z"
    }
   },
   "outputs": [
    {
     "name": "stdout",
     "output_type": "stream",
     "text": [
      "2\n",
      "b\n",
      "5\n"
     ]
    }
   ],
   "source": [
    "listdata = [1, 2, 'a', 'b', 'c', [4, 5, 6]]\n",
    "val1 = listdata[1]\n",
    "val2 = listdata[3]\n",
    "val3 = listdata[5][1]\n",
    "\n",
    "print(val1)\n",
    "print(val2)\n",
    "print(val3)"
   ]
  },
  {
   "cell_type": "markdown",
   "metadata": {},
   "source": [
    "## 101 리스트에서 특정요소의 위치 구하기\n",
    "- 리스트의 특정요소 값을 알때 그 요소의 위치를 구하는 방법에 대해 학습"
   ]
  },
  {
   "cell_type": "code",
   "execution_count": 5,
   "metadata": {
    "execution": {
     "iopub.execute_input": "2020-06-14T07:26:23.625275Z",
     "iopub.status.busy": "2020-06-14T07:26:23.625275Z",
     "iopub.status.idle": "2020-06-14T07:26:23.630261Z",
     "shell.execute_reply": "2020-06-14T07:26:23.630261Z",
     "shell.execute_reply.started": "2020-06-14T07:26:23.625275Z"
    }
   },
   "outputs": [
    {
     "name": "stdout",
     "output_type": "stream",
     "text": [
      "지구는 태양계에서 3번쨰에 있습니다.\n",
      "지구는 태양계에서 9번쨰에 있습니다.\n"
     ]
    }
   ],
   "source": [
    "solarsys = ['태양','수성','금성','지구','화성','목성','토성','천왕성','해왕성','지구']\n",
    "planet = '지구'\n",
    "pos = solarsys.index(planet)\n",
    "print(f'{planet}는 태양계에서 {pos}번쨰에 있습니다.')\n",
    "pos = solarsys.index(planet,5)\n",
    "print(f'{planet}는 태양계에서 {pos}번쨰에 있습니다.')"
   ]
  },
  {
   "cell_type": "markdown",
   "metadata": {
    "execution": {
     "iopub.execute_input": "2020-06-14T07:26:57.056746Z",
     "iopub.status.busy": "2020-06-14T07:26:57.056746Z",
     "iopub.status.idle": "2020-06-14T07:26:57.061733Z",
     "shell.execute_reply": "2020-06-14T07:26:57.061733Z",
     "shell.execute_reply.started": "2020-06-14T07:26:57.056746Z"
    }
   },
   "source": [
    "## 102 리스트에서 특정 위치의 요소를 변경하기\n",
    "- 리스트의 특정 요소를 다른 값으로 변경하는 방법을 학습"
   ]
  },
  {
   "cell_type": "code",
   "execution_count": 7,
   "metadata": {
    "execution": {
     "iopub.execute_input": "2020-06-14T07:27:41.923304Z",
     "iopub.status.busy": "2020-06-14T07:27:41.922286Z",
     "iopub.status.idle": "2020-06-14T07:27:41.928270Z",
     "shell.execute_reply": "2020-06-14T07:27:41.928270Z",
     "shell.execute_reply.started": "2020-06-14T07:27:41.923304Z"
    }
   },
   "outputs": [
    {
     "name": "stdout",
     "output_type": "stream",
     "text": [
      "['태양', '수성', '금성', '지구', 'Mars', '목성', '토성', '천왕성', '해왕성']\n"
     ]
    }
   ],
   "source": [
    "solarsys = ['태양','수성','금성','지구','화성','목성','토성','천왕성','해왕성']\n",
    "planet = '화성'\n",
    "pos = solarsys.index(planet)\n",
    "solarsys[pos] = 'Mars'\n",
    "print(solarsys)"
   ]
  },
  {
   "cell_type": "markdown",
   "metadata": {},
   "source": [
    "## 103 리스트에서 특정 구간에 있는 요소 추출하기\n",
    "- 리스트의 특정 구간에 있는 요소를 추출하여 새로운 리스트를 만드는 방법에 대해 학습"
   ]
  },
  {
   "cell_type": "code",
   "execution_count": 8,
   "metadata": {
    "execution": {
     "iopub.execute_input": "2020-06-14T07:29:14.626901Z",
     "iopub.status.busy": "2020-06-14T07:29:14.626901Z",
     "iopub.status.idle": "2020-06-14T07:29:14.632894Z",
     "shell.execute_reply": "2020-06-14T07:29:14.631923Z",
     "shell.execute_reply.started": "2020-06-14T07:29:14.626901Z"
    }
   },
   "outputs": [
    {
     "name": "stdout",
     "output_type": "stream",
     "text": [
      "태양계의 암석형 행성 : ['수성', '금성', '지구']\n",
      "태양계의 가스형 행성 : ['화성', '목성', '토성', '천왕성', '해왕성']\n"
     ]
    }
   ],
   "source": [
    "solarsys = ['태양','수성','금성','지구','화성','목성','토성','천왕성','해왕성']\n",
    "rock_planet = solarsys[1:4]\n",
    "gas_planet = solarsys[4:]\n",
    "print(f'태양계의 암석형 행성 : {rock_planet}')\n",
    "print(f'태양계의 가스형 행성 : {gas_planet}')"
   ]
  },
  {
   "cell_type": "markdown",
   "metadata": {},
   "source": [
    "## 104 리스트에서 짝수 번째 요소만 추출하기\n",
    "- 리스트의 짝수 번째 요소를 추출하여 새로운 리스트를 만드는 방법을 학습"
   ]
  },
  {
   "cell_type": "code",
   "execution_count": 9,
   "metadata": {
    "execution": {
     "iopub.execute_input": "2020-06-14T07:30:07.970904Z",
     "iopub.status.busy": "2020-06-14T07:30:07.970904Z",
     "iopub.status.idle": "2020-06-14T07:30:07.975890Z",
     "shell.execute_reply": "2020-06-14T07:30:07.975890Z",
     "shell.execute_reply.started": "2020-06-14T07:30:07.970904Z"
    }
   },
   "outputs": [
    {
     "name": "stdout",
     "output_type": "stream",
     "text": [
      "[2, 4, 6, 8, 10, 12, 14, 16, 18, 20]\n"
     ]
    }
   ],
   "source": [
    "listdata = list(range(1,21))\n",
    "evenlist = listdata[1::2]\n",
    "print(evenlist)"
   ]
  },
  {
   "cell_type": "code",
   "execution_count": 10,
   "metadata": {
    "execution": {
     "iopub.execute_input": "2020-06-14T07:30:31.142693Z",
     "iopub.status.busy": "2020-06-14T07:30:31.141695Z",
     "iopub.status.idle": "2020-06-14T07:30:31.147680Z",
     "shell.execute_reply": "2020-06-14T07:30:31.146682Z",
     "shell.execute_reply.started": "2020-06-14T07:30:31.142693Z"
    }
   },
   "outputs": [
    {
     "name": "stdout",
     "output_type": "stream",
     "text": [
      "[1, 3, 5, 7, 9, 11, 13, 15, 17, 19]\n"
     ]
    }
   ],
   "source": [
    "oddlist = listdata[::2]\n",
    "print(oddlist)"
   ]
  },
  {
   "cell_type": "markdown",
   "metadata": {},
   "source": [
    "## 105 리스트 요소 순서를 역순으로 만들기\n",
    "- 리스트의 요소 순서를 역순으로 만드는 방법을 학습"
   ]
  },
  {
   "cell_type": "code",
   "execution_count": 11,
   "metadata": {
    "execution": {
     "iopub.execute_input": "2020-06-14T07:31:09.954598Z",
     "iopub.status.busy": "2020-06-14T07:31:09.954598Z",
     "iopub.status.idle": "2020-06-14T07:31:09.959585Z",
     "shell.execute_reply": "2020-06-14T07:31:09.959585Z",
     "shell.execute_reply.started": "2020-06-14T07:31:09.954598Z"
    }
   },
   "outputs": [
    {
     "name": "stdout",
     "output_type": "stream",
     "text": [
      "[4, 3, 2, 1, 0]\n"
     ]
    }
   ],
   "source": [
    "listdata = list(range(5))\n",
    "listdata.reverse()\n",
    "print(listdata)"
   ]
  },
  {
   "cell_type": "markdown",
   "metadata": {},
   "source": [
    "## 106 리스트 요소 순서를 역순으로 만들기\n",
    "- 리스트의 요소 순서를 역순으로 만드는 방법을 학습"
   ]
  },
  {
   "cell_type": "code",
   "execution_count": 14,
   "metadata": {
    "execution": {
     "iopub.execute_input": "2020-06-14T07:33:10.199976Z",
     "iopub.status.busy": "2020-06-14T07:33:10.199976Z",
     "iopub.status.idle": "2020-06-14T07:33:10.203002Z",
     "shell.execute_reply": "2020-06-14T07:33:10.203002Z",
     "shell.execute_reply.started": "2020-06-14T07:33:10.199976Z"
    }
   },
   "outputs": [
    {
     "name": "stdout",
     "output_type": "stream",
     "text": [
      "원본 리스트 : [0, 1, 2, 3, 4]\n",
      "역순 리스트 : [4, 3, 2, 1, 0]\n",
      "슬라이싱 리스트 : [4, 3, 2, 1, 0]\n"
     ]
    }
   ],
   "source": [
    "listdata = list(range(5))\n",
    "ret1 = reversed(listdata)\n",
    "ret2 = listdata[::-1]\n",
    "print(f'원본 리스트 : {listdata}')\n",
    "print(f'역순 리스트 : {list(ret1)}')\n",
    "print(f'슬라이싱 리스트 : {ret2}')"
   ]
  },
  {
   "cell_type": "markdown",
   "metadata": {},
   "source": [
    "## 107 리스트 합치기\n",
    "- 두 개의 리스트를 합쳐 새로운 리스트를 만드는 방법을 학습"
   ]
  },
  {
   "cell_type": "code",
   "execution_count": 15,
   "metadata": {
    "execution": {
     "iopub.execute_input": "2020-06-14T07:36:57.609792Z",
     "iopub.status.busy": "2020-06-14T07:36:57.609792Z",
     "iopub.status.idle": "2020-06-14T07:36:57.614753Z",
     "shell.execute_reply": "2020-06-14T07:36:57.613762Z",
     "shell.execute_reply.started": "2020-06-14T07:36:57.609792Z"
    }
   },
   "outputs": [
    {
     "name": "stdout",
     "output_type": "stream",
     "text": [
      "['a', 'b', 'c', 'd', 'e', 'f', 'g', 'h', 'i', 'j']\n",
      "['f', 'g', 'h', 'i', 'j', 'a', 'b', 'c', 'd', 'e']\n"
     ]
    }
   ],
   "source": [
    "listdata1 = ['a','b','c','d','e']\n",
    "listdata2 = ['f','g','h','i','j']\n",
    "listdata3 = listdata1 + listdata2\n",
    "listdata4 = listdata2 + listdata1\n",
    "\n",
    "print(listdata3)\n",
    "print(listdata4)"
   ]
  },
  {
   "cell_type": "markdown",
   "metadata": {},
   "source": [
    "## 108 리스트 반복하기\n",
    "- 동일한 리스트를 n번 반복하여 새로운 리스트를 만드는 방법을 학습"
   ]
  },
  {
   "cell_type": "code",
   "execution_count": 16,
   "metadata": {
    "execution": {
     "iopub.execute_input": "2020-06-14T07:37:42.806838Z",
     "iopub.status.busy": "2020-06-14T07:37:42.806838Z",
     "iopub.status.idle": "2020-06-14T07:37:42.811826Z",
     "shell.execute_reply": "2020-06-14T07:37:42.811826Z",
     "shell.execute_reply.started": "2020-06-14T07:37:42.806838Z"
    }
   },
   "outputs": [
    {
     "name": "stdout",
     "output_type": "stream",
     "text": [
      "[0, 1, 2, 0, 1, 2, 0, 1, 2]\n"
     ]
    }
   ],
   "source": [
    "listdata = list(range(3))\n",
    "ret = listdata * 3\n",
    "print(ret)"
   ]
  },
  {
   "cell_type": "markdown",
   "metadata": {},
   "source": [
    "## 109 리스트에 요소 추가하기\n",
    "- 리스트의 맨 끝에 새로운 요소를 추가하는 방법을 학습"
   ]
  },
  {
   "cell_type": "code",
   "execution_count": 1,
   "metadata": {
    "execution": {
     "iopub.execute_input": "2020-06-14T07:44:53.245694Z",
     "iopub.status.busy": "2020-06-14T07:44:53.244696Z",
     "iopub.status.idle": "2020-06-14T07:44:56.446263Z",
     "shell.execute_reply": "2020-06-14T07:44:56.446263Z",
     "shell.execute_reply.started": "2020-06-14T07:44:53.244696Z"
    }
   },
   "outputs": [
    {
     "name": "stdin",
     "output_type": "stream",
     "text": [
      "리스트에 추가할 값을 입력하세요 : [1/3] :  123\n"
     ]
    },
    {
     "name": "stdout",
     "output_type": "stream",
     "text": [
      "['123']\n"
     ]
    },
    {
     "name": "stdin",
     "output_type": "stream",
     "text": [
      "리스트에 추가할 값을 입력하세요 : [2/3] :  4534\n"
     ]
    },
    {
     "name": "stdout",
     "output_type": "stream",
     "text": [
      "['123', '4534']\n"
     ]
    },
    {
     "name": "stdin",
     "output_type": "stream",
     "text": [
      "리스트에 추가할 값을 입력하세요 : [3/3] :  547\n"
     ]
    },
    {
     "name": "stdout",
     "output_type": "stream",
     "text": [
      "['123', '4534', '547']\n"
     ]
    }
   ],
   "source": [
    "listdata = []\n",
    "for i in range(3):\n",
    "    txt = input(f'리스트에 추가할 값을 입력하세요 : [{i+1}/3] : ')\n",
    "    listdata.append(txt)\n",
    "    print(listdata)"
   ]
  },
  {
   "cell_type": "markdown",
   "metadata": {},
   "source": [
    "## 110 리스트의 특정 위치에 요소 삽입하기\n",
    "- 리스트의 특정 위치에 새로운 요소를 삽입하는 방법을 학습"
   ]
  },
  {
   "cell_type": "code",
   "execution_count": 5,
   "metadata": {
    "execution": {
     "iopub.execute_input": "2020-06-14T07:46:42.989506Z",
     "iopub.status.busy": "2020-06-14T07:46:42.989506Z",
     "iopub.status.idle": "2020-06-14T07:46:42.994491Z",
     "shell.execute_reply": "2020-06-14T07:46:42.994491Z",
     "shell.execute_reply.started": "2020-06-14T07:46:42.989506Z"
    }
   },
   "outputs": [
    {
     "name": "stdout",
     "output_type": "stream",
     "text": [
      "9\n",
      "['태양', '수성', '금성', '지구', '화성', '소행성', '목성', '토성', '천왕성', '해왕성']\n",
      "10\n"
     ]
    }
   ],
   "source": [
    "solarsys = ['태양','수성','금성','지구','화성','목성','토성','천왕성','해왕성']\n",
    "print(len(solarsys))\n",
    "pos = solarsys.index('목성')\n",
    "solarsys.insert(pos, '소행성')\n",
    "print(solarsys)\n",
    "print(len(solarsys))"
   ]
  },
  {
   "cell_type": "markdown",
   "metadata": {},
   "source": [
    "## 111 리스트의 특정 위치의 요소 제거하기\n",
    "- 리스트에서 특정 위치의 요소를 제거하는 방법을 학습"
   ]
  },
  {
   "cell_type": "code",
   "execution_count": 7,
   "metadata": {
    "execution": {
     "iopub.execute_input": "2020-06-14T07:47:49.202298Z",
     "iopub.status.busy": "2020-06-14T07:47:49.202298Z",
     "iopub.status.idle": "2020-06-14T07:47:49.207284Z",
     "shell.execute_reply": "2020-06-14T07:47:49.207284Z",
     "shell.execute_reply.started": "2020-06-14T07:47:49.202298Z"
    }
   },
   "outputs": [
    {
     "name": "stdout",
     "output_type": "stream",
     "text": [
      "['태양', '수성', '금성', '지구', '화성', '목성', '토성', '천왕성', '해왕성']\n",
      "['수성', '금성', '지구', '화성', '목성', '토성', '천왕성', '해왕성']\n",
      "['수성', '금성', '지구', '화성', '목성', '토성', '해왕성']\n"
     ]
    }
   ],
   "source": [
    "solarsys = ['태양','수성','금성','지구','화성','목성','토성','천왕성','해왕성']\n",
    "print(solarsys)\n",
    "del solarsys[0]\n",
    "print(solarsys)\n",
    "del solarsys[-2]\n",
    "print(solarsys)"
   ]
  },
  {
   "cell_type": "markdown",
   "metadata": {},
   "source": [
    "## 112 리스트에서 특정 요소 제거하기\n",
    "- 요소값을 아는 경우 리스트에서 요소를 제거하는 방법을 학습"
   ]
  },
  {
   "cell_type": "code",
   "execution_count": 8,
   "metadata": {
    "execution": {
     "iopub.execute_input": "2020-06-14T07:55:03.982057Z",
     "iopub.status.busy": "2020-06-14T07:55:03.981041Z",
     "iopub.status.idle": "2020-06-14T07:55:03.988023Z",
     "shell.execute_reply": "2020-06-14T07:55:03.988023Z",
     "shell.execute_reply.started": "2020-06-14T07:55:03.981041Z"
    }
   },
   "outputs": [
    {
     "name": "stdout",
     "output_type": "stream",
     "text": [
      "['태양', '수성', '금성', '지구', '화성', '목성', '토성', '천왕성', '해왕성']\n",
      "['수성', '금성', '지구', '화성', '목성', '토성', '천왕성', '해왕성']\n"
     ]
    }
   ],
   "source": [
    "solarsys = ['태양','수성','금성','지구','화성','목성','토성','천왕성','해왕성']\n",
    "print(solarsys)\n",
    "solarsys.remove('태양')\n",
    "print(solarsys)"
   ]
  },
  {
   "cell_type": "markdown",
   "metadata": {
    "execution": {
     "iopub.execute_input": "2020-06-14T07:55:29.497300Z",
     "iopub.status.busy": "2020-06-14T07:55:29.497300Z",
     "iopub.status.idle": "2020-06-14T07:55:29.503300Z",
     "shell.execute_reply": "2020-06-14T07:55:29.502287Z",
     "shell.execute_reply.started": "2020-06-14T07:55:29.497300Z"
    }
   },
   "source": [
    "## 113 리스트에서 특정 구간에 있는 모든 요소 제거하기\n",
    "- 리스트에서 특정 범위에 있는 모든 요소를 제거하는 방법을 학습"
   ]
  },
  {
   "cell_type": "code",
   "execution_count": 11,
   "metadata": {
    "execution": {
     "iopub.execute_input": "2020-06-14T07:55:53.022460Z",
     "iopub.status.busy": "2020-06-14T07:55:53.021459Z",
     "iopub.status.idle": "2020-06-14T07:55:53.026468Z",
     "shell.execute_reply": "2020-06-14T07:55:53.026468Z",
     "shell.execute_reply.started": "2020-06-14T07:55:53.022460Z"
    }
   },
   "outputs": [
    {
     "name": "stdout",
     "output_type": "stream",
     "text": [
      "['태양', '수성', '금성', '지구', '화성', '목성', '토성', '천왕성', '해왕성']\n",
      "['태양', '지구', '화성', '목성', '토성', '천왕성', '해왕성']\n"
     ]
    }
   ],
   "source": [
    "solarsys = ['태양','수성','금성','지구','화성','목성','토성','천왕성','해왕성']\n",
    "print(solarsys)\n",
    "del solarsys[1:3]\n",
    "print(solarsys)"
   ]
  },
  {
   "cell_type": "markdown",
   "metadata": {
    "execution": {
     "iopub.execute_input": "2020-06-14T07:56:49.552325Z",
     "iopub.status.busy": "2020-06-14T07:56:49.552325Z",
     "iopub.status.idle": "2020-06-14T07:56:49.557346Z",
     "shell.execute_reply": "2020-06-14T07:56:49.557346Z",
     "shell.execute_reply.started": "2020-06-14T07:56:49.552325Z"
    }
   },
   "source": [
    "# 114 리스트에 있는 요소 개수 구하기\n",
    "- 리스트에서 특정 범위에 있는 모든 요소를 제거하는 방법을 학습"
   ]
  },
  {
   "cell_type": "code",
   "execution_count": 13,
   "metadata": {
    "execution": {
     "iopub.execute_input": "2020-06-14T07:57:18.393360Z",
     "iopub.status.busy": "2020-06-14T07:57:18.393360Z",
     "iopub.status.idle": "2020-06-14T07:57:18.398316Z",
     "shell.execute_reply": "2020-06-14T07:57:18.398316Z",
     "shell.execute_reply.started": "2020-06-14T07:57:18.393360Z"
    }
   },
   "outputs": [
    {
     "name": "stdout",
     "output_type": "stream",
     "text": [
      "15\n"
     ]
    }
   ],
   "source": [
    "listdata = [2, 2, 1, 3, 8, 5, 7, 6, 3, 6, 2, 3, 9, 4, 4]\n",
    "listsize = len(listdata)\n",
    "print(listsize)"
   ]
  },
  {
   "cell_type": "markdown",
   "metadata": {
    "execution": {
     "iopub.execute_input": "2020-06-14T07:57:40.894355Z",
     "iopub.status.busy": "2020-06-14T07:57:40.894355Z",
     "iopub.status.idle": "2020-06-14T07:57:40.901338Z",
     "shell.execute_reply": "2020-06-14T07:57:40.900368Z",
     "shell.execute_reply.started": "2020-06-14T07:57:40.894355Z"
    }
   },
   "source": [
    "## 115 리스트에서 특정 요소 개수 구하기\n",
    "- 리스트에서 값이 동일한 요소의 개수를 구하는 방법에 대해 학습"
   ]
  },
  {
   "cell_type": "code",
   "execution_count": 15,
   "metadata": {
    "execution": {
     "iopub.execute_input": "2020-06-14T07:58:30.676952Z",
     "iopub.status.busy": "2020-06-14T07:58:30.676952Z",
     "iopub.status.idle": "2020-06-14T07:58:30.681932Z",
     "shell.execute_reply": "2020-06-14T07:58:30.681932Z",
     "shell.execute_reply.started": "2020-06-14T07:58:30.676952Z"
    }
   },
   "outputs": [
    {
     "name": "stdout",
     "output_type": "stream",
     "text": [
      "3\n",
      "1\n"
     ]
    }
   ],
   "source": [
    "listdata = [2, 2, 1, 3, 8, 5, 7, 6, 3, 6, 2, 3, 9, 4, 4]\n",
    "c1 = listdata.count(2)\n",
    "c2 = listdata.count(7)\n",
    "print(c1)\n",
    "print(c2)"
   ]
  },
  {
   "cell_type": "markdown",
   "metadata": {},
   "source": [
    "## 116 리스트 제거하기\n",
    "- 리스트 자체를 메모리에서 제거하는 방법을 학습"
   ]
  },
  {
   "cell_type": "code",
   "execution_count": 16,
   "metadata": {
    "execution": {
     "iopub.execute_input": "2020-06-14T07:58:59.517092Z",
     "iopub.status.busy": "2020-06-14T07:58:59.517092Z",
     "iopub.status.idle": "2020-06-14T07:58:59.529060Z",
     "shell.execute_reply": "2020-06-14T07:58:59.528089Z",
     "shell.execute_reply.started": "2020-06-14T07:58:59.517092Z"
    }
   },
   "outputs": [
    {
     "ename": "NameError",
     "evalue": "name 'listdata' is not defined",
     "output_type": "error",
     "traceback": [
      "\u001b[1;31m---------------------------------------------------------------------------\u001b[0m",
      "\u001b[1;31mNameError\u001b[0m                                 Traceback (most recent call last)",
      "\u001b[1;32m<ipython-input-16-2443101a1406>\u001b[0m in \u001b[0;36m<module>\u001b[1;34m\u001b[0m\n\u001b[0;32m      1\u001b[0m \u001b[0mlistdata\u001b[0m \u001b[1;33m=\u001b[0m \u001b[1;33m[\u001b[0m\u001b[1;36m2\u001b[0m\u001b[1;33m,\u001b[0m \u001b[1;36m2\u001b[0m\u001b[1;33m,\u001b[0m \u001b[1;36m1\u001b[0m\u001b[1;33m,\u001b[0m \u001b[1;36m3\u001b[0m\u001b[1;33m,\u001b[0m \u001b[1;36m8\u001b[0m\u001b[1;33m,\u001b[0m \u001b[1;36m5\u001b[0m\u001b[1;33m,\u001b[0m \u001b[1;36m7\u001b[0m\u001b[1;33m,\u001b[0m \u001b[1;36m6\u001b[0m\u001b[1;33m,\u001b[0m \u001b[1;36m3\u001b[0m\u001b[1;33m,\u001b[0m \u001b[1;36m6\u001b[0m\u001b[1;33m,\u001b[0m \u001b[1;36m2\u001b[0m\u001b[1;33m,\u001b[0m \u001b[1;36m3\u001b[0m\u001b[1;33m,\u001b[0m \u001b[1;36m9\u001b[0m\u001b[1;33m,\u001b[0m \u001b[1;36m4\u001b[0m\u001b[1;33m,\u001b[0m \u001b[1;36m4\u001b[0m\u001b[1;33m]\u001b[0m\u001b[1;33m\u001b[0m\u001b[1;33m\u001b[0m\u001b[0m\n\u001b[0;32m      2\u001b[0m \u001b[1;32mdel\u001b[0m \u001b[0mlistdata\u001b[0m\u001b[1;33m\u001b[0m\u001b[1;33m\u001b[0m\u001b[0m\n\u001b[1;32m----> 3\u001b[1;33m \u001b[0mprint\u001b[0m\u001b[1;33m(\u001b[0m\u001b[0mlistdata\u001b[0m\u001b[1;33m)\u001b[0m\u001b[1;33m\u001b[0m\u001b[1;33m\u001b[0m\u001b[0m\n\u001b[0m",
      "\u001b[1;31mNameError\u001b[0m: name 'listdata' is not defined"
     ]
    }
   ],
   "source": [
    "listdata = [2, 2, 1, 3, 8, 5, 7, 6, 3, 6, 2, 3, 9, 4, 4]\n",
    "del listdata\n",
    "print(listdata)"
   ]
  },
  {
   "cell_type": "markdown",
   "metadata": {},
   "source": [
    "## 117 리스트 요소 정렬하기\n",
    "- 리스트의 모든 요소를 정렬하는 방법을 학습"
   ]
  },
  {
   "cell_type": "code",
   "execution_count": 17,
   "metadata": {
    "execution": {
     "iopub.execute_input": "2020-06-14T08:00:01.329242Z",
     "iopub.status.busy": "2020-06-14T08:00:01.329242Z",
     "iopub.status.idle": "2020-06-14T08:00:01.335195Z",
     "shell.execute_reply": "2020-06-14T08:00:01.334220Z",
     "shell.execute_reply.started": "2020-06-14T08:00:01.329242Z"
    }
   },
   "outputs": [
    {
     "name": "stdout",
     "output_type": "stream",
     "text": [
      "['Aimy', 'Bob', 'Kelly', 'Mary', 'Michale', 'Sams', 'Tom']\n"
     ]
    }
   ],
   "source": [
    "namelist = ['Mary', 'Sams', 'Aimy', 'Tom', 'Michale', 'Bob', 'Kelly', ]\n",
    "namelist.sort()\n",
    "print(namelist)"
   ]
  },
  {
   "cell_type": "markdown",
   "metadata": {},
   "source": [
    "## 118 리스트 요소 정렬하기\n",
    "- 리스트의 모든 요소를 정렬하는 방법을 학습"
   ]
  },
  {
   "cell_type": "code",
   "execution_count": 19,
   "metadata": {
    "execution": {
     "iopub.execute_input": "2020-06-14T08:01:06.462549Z",
     "iopub.status.busy": "2020-06-14T08:01:06.462549Z",
     "iopub.status.idle": "2020-06-14T08:01:06.468604Z",
     "shell.execute_reply": "2020-06-14T08:01:06.468604Z",
     "shell.execute_reply.started": "2020-06-14T08:01:06.462549Z"
    }
   },
   "outputs": [
    {
     "name": "stdout",
     "output_type": "stream",
     "text": [
      "['Mary', 'Sams', 'Aimy', 'Tom', 'Michale', 'Bob', 'Kelly']\n",
      "['Aimy', 'Bob', 'Kelly', 'Mary', 'Michale', 'Sams', 'Tom']\n",
      "['Tom', 'Sams', 'Michale', 'Mary', 'Kelly', 'Bob', 'Aimy']\n"
     ]
    }
   ],
   "source": [
    "namelist = ['Mary', 'Sams', 'Aimy', 'Tom', 'Michale', 'Bob', 'Kelly', ]\n",
    "ret1 = sorted(namelist)\n",
    "ret2 = sorted(namelist, reverse=True)\n",
    "print(namelist)\n",
    "print(ret1)\n",
    "print(ret2)"
   ]
  },
  {
   "cell_type": "markdown",
   "metadata": {
    "execution": {
     "iopub.execute_input": "2020-06-14T08:01:28.107337Z",
     "iopub.status.busy": "2020-06-14T08:01:28.106340Z",
     "iopub.status.idle": "2020-06-14T08:01:28.111325Z",
     "shell.execute_reply": "2020-06-14T08:01:28.110312Z",
     "shell.execute_reply.started": "2020-06-14T08:01:28.107337Z"
    }
   },
   "source": [
    "## 119 리스트 요소 무작위로 섞기\n",
    "- 리스트의 모든 요소를 무작위로 섞는 방법을 학습"
   ]
  },
  {
   "cell_type": "code",
   "execution_count": 21,
   "metadata": {
    "execution": {
     "iopub.execute_input": "2020-06-14T08:01:59.867395Z",
     "iopub.status.busy": "2020-06-14T08:01:59.867395Z",
     "iopub.status.idle": "2020-06-14T08:01:59.871377Z",
     "shell.execute_reply": "2020-06-14T08:01:59.871377Z",
     "shell.execute_reply.started": "2020-06-14T08:01:59.867395Z"
    }
   },
   "outputs": [
    {
     "name": "stdout",
     "output_type": "stream",
     "text": [
      "[10, 6, 5, 2, 3, 9, 7, 8, 4, 1]\n",
      "[6, 2, 7, 3, 9, 10, 4, 5, 8, 1]\n",
      "[8, 1, 7, 10, 3, 9, 4, 6, 2, 5]\n"
     ]
    }
   ],
   "source": [
    "from random import shuffle\n",
    "\n",
    "listdata = list(range(1,11))\n",
    "for i in range(3):\n",
    "    shuffle(listdata)\n",
    "    print(listdata)"
   ]
  },
  {
   "cell_type": "markdown",
   "metadata": {},
   "source": [
    "## 120 리스트의 모든 요소를 인덱스 쌍으로 추출하기\n",
    "- 리스트의 모든 요소에 대해 (인덱스, 요소)가 요소인 리스트를 생성하는 방법을 학습"
   ]
  },
  {
   "cell_type": "code",
   "execution_count": 23,
   "metadata": {
    "execution": {
     "iopub.execute_input": "2020-06-14T08:30:38.363033Z",
     "iopub.status.busy": "2020-06-14T08:30:38.362006Z",
     "iopub.status.idle": "2020-06-14T08:30:38.369011Z",
     "shell.execute_reply": "2020-06-14T08:30:38.367985Z",
     "shell.execute_reply.started": "2020-06-14T08:30:38.363033Z"
    }
   },
   "outputs": [
    {
     "name": "stdout",
     "output_type": "stream",
     "text": [
      "[(0, '태양'), (1, '수성'), (2, '금성'), (3, '지구'), (4, '화성'), (5, '목성'), (6, '토성'), (7, '천왕성'), (8, '해왕성')]\n",
      "태양계의0번째 행성은 태양입니다.\n",
      "태양계의1번째 행성은 수성입니다.\n",
      "태양계의2번째 행성은 금성입니다.\n",
      "태양계의3번째 행성은 지구입니다.\n",
      "태양계의4번째 행성은 화성입니다.\n",
      "태양계의5번째 행성은 목성입니다.\n",
      "태양계의6번째 행성은 토성입니다.\n",
      "태양계의7번째 행성은 천왕성입니다.\n",
      "태양계의8번째 행성은 해왕성입니다.\n"
     ]
    }
   ],
   "source": [
    "solarsys = ['태양','수성','금성','지구','화성','목성','토성','천왕성','해왕성']\n",
    "ret = list(enumerate(solarsys))\n",
    "print(ret)\n",
    "\n",
    "for i, body in enumerate(solarsys):\n",
    "    print(f'태양계의{i}번째 행성은 {body}입니다.')"
   ]
  },
  {
   "cell_type": "markdown",
   "metadata": {},
   "source": [
    "## 121 리스트의 모든 요소의 합 구하기\n",
    "- 리스트의 모든 요소가 수치형 자료일때 모든 요소의 합을 구하는 방법을 학습"
   ]
  },
  {
   "cell_type": "code",
   "execution_count": 24,
   "metadata": {
    "execution": {
     "iopub.execute_input": "2020-06-14T08:31:27.272397Z",
     "iopub.status.busy": "2020-06-14T08:31:27.272397Z",
     "iopub.status.idle": "2020-06-14T08:31:27.277356Z",
     "shell.execute_reply": "2020-06-14T08:31:27.277356Z",
     "shell.execute_reply.started": "2020-06-14T08:31:27.272397Z"
    }
   },
   "outputs": [
    {
     "name": "stdout",
     "output_type": "stream",
     "text": [
      "65\n"
     ]
    }
   ],
   "source": [
    "listdata = [2, 2, 1, 3, 8, 5, 7, 6, 3, 6, 2, 3, 9, 4, 4]\n",
    "ret = sum(listdata)\n",
    "print(ret)"
   ]
  },
  {
   "cell_type": "markdown",
   "metadata": {},
   "source": [
    "## 122 리스트 요소가 모두 참인지 확인하기\n",
    "- 리스트의 모든 요소가 참인지 거짓인지 확인하는 방법을 학습\n",
    "- all : 인자로 입력되는 리스트의 모든 요소가 참인 경우에만 True를 리턴\n",
    "- any : 인자로 입력되는 리스트의 모든 요소가 거짓인 경우에만 False를 리턴, 참이 하나라도 있으면 True를 리턴"
   ]
  },
  {
   "cell_type": "code",
   "execution_count": 25,
   "metadata": {
    "execution": {
     "iopub.execute_input": "2020-06-14T09:23:40.159669Z",
     "iopub.status.busy": "2020-06-14T09:23:40.158651Z",
     "iopub.status.idle": "2020-06-14T09:23:40.167640Z",
     "shell.execute_reply": "2020-06-14T09:23:40.167640Z",
     "shell.execute_reply.started": "2020-06-14T09:23:40.159669Z"
    }
   },
   "outputs": [
    {
     "name": "stdout",
     "output_type": "stream",
     "text": [
      "False\n",
      "True\n",
      "True\n",
      "True\n",
      "False\n",
      "False\n"
     ]
    }
   ],
   "source": [
    "listdata1 = [0, 1, 2, 3, 4]\n",
    "listdata2 = [True, True, True]\n",
    "listdata3 = ['', [], (), None, False]\n",
    "print(all(listdata1))\n",
    "print(any(listdata1))\n",
    "print(all(listdata2))\n",
    "print(any(listdata2))\n",
    "print(all(listdata3))\n",
    "print(any(listdata3))"
   ]
  },
  {
   "cell_type": "markdown",
   "metadata": {
    "execution": {
     "iopub.execute_input": "2020-06-14T09:24:58.821864Z",
     "iopub.status.busy": "2020-06-14T09:24:58.821864Z",
     "iopub.status.idle": "2020-06-14T09:24:58.826852Z",
     "shell.execute_reply": "2020-06-14T09:24:58.825900Z",
     "shell.execute_reply.started": "2020-06-14T09:24:58.821864Z"
    }
   },
   "source": [
    "## 123 사전에 요소 추가하기\n",
    "- 키값 쌍이 요소인 사전에 새로운 요소를 추가하는 방법을 학습"
   ]
  },
  {
   "cell_type": "code",
   "execution_count": 27,
   "metadata": {
    "execution": {
     "iopub.execute_input": "2020-06-14T09:29:09.170169Z",
     "iopub.status.busy": "2020-06-14T09:29:09.169216Z",
     "iopub.status.idle": "2020-06-14T09:29:09.178180Z",
     "shell.execute_reply": "2020-06-14T09:29:09.177150Z",
     "shell.execute_reply.started": "2020-06-14T09:29:09.169216Z"
    }
   },
   "outputs": [
    {
     "name": "stdout",
     "output_type": "stream",
     "text": [
      "{'태양': 'Sun', '수성': 'Mercury', '금성': 'Venus', '지구': 'Earth', '화성': 'Mars', '목성': 'Jupiter', '토성': 'Saturn', '천왕성': 'Uranus', '해왕성': 'Neptune'}\n"
     ]
    }
   ],
   "source": [
    "solar1 = ['태양', '수성', '금성', '지구', '화성', '목성', '토성', '천왕성', '해왕성']\n",
    "solar2 = ['Sun', 'Mercury', 'Venus', 'Earth', 'Mars', 'Jupiter', 'Saturn', 'Uranus', 'Neptune']\n",
    "solardict = {}\n",
    "for i, k in enumerate(solar1):\n",
    "    val = solar2[i]\n",
    "    solardict[k] = val\n",
    "print(solardict)"
   ]
  },
  {
   "cell_type": "markdown",
   "metadata": {},
   "source": [
    "## 124 사전의 특정 요소값 변경하기\n",
    "- 사전의 특정 키값요소에서 값을 변경하는 방법을 학습"
   ]
  },
  {
   "cell_type": "code",
   "execution_count": 29,
   "metadata": {
    "execution": {
     "iopub.execute_input": "2020-06-14T09:30:39.015510Z",
     "iopub.status.busy": "2020-06-14T09:30:39.015510Z",
     "iopub.status.idle": "2020-06-14T09:30:39.020512Z",
     "shell.execute_reply": "2020-06-14T09:30:39.020512Z",
     "shell.execute_reply.started": "2020-06-14T09:30:39.015510Z"
    }
   },
   "outputs": [
    {
     "name": "stdout",
     "output_type": "stream",
     "text": [
      "{'Mary': 10999, 'Sams': 2111, 'Aimy': 10000, 'Tom': 20245, 'Michale': 27115, 'Bob': 5887, 'Kelly': 7855}\n"
     ]
    }
   ],
   "source": [
    "names = {'Mary':10999, 'Sams':2111, 'Aimy':9778, 'Tom':20245, 'Michale':27115, 'Bob':5887, 'Kelly':7855}\n",
    "names['Aimy'] = 10000\n",
    "print(names)"
   ]
  },
  {
   "cell_type": "markdown",
   "metadata": {},
   "source": [
    "## 125 사전의 특정 요소 제거하기\n",
    "- 사전의 특정 키값요소를 제거하는 방법에 대해 학습"
   ]
  },
  {
   "cell_type": "code",
   "execution_count": 31,
   "metadata": {
    "execution": {
     "iopub.execute_input": "2020-06-14T09:31:33.769161Z",
     "iopub.status.busy": "2020-06-14T09:31:33.769161Z",
     "iopub.status.idle": "2020-06-14T09:31:33.774148Z",
     "shell.execute_reply": "2020-06-14T09:31:33.774148Z",
     "shell.execute_reply.started": "2020-06-14T09:31:33.769161Z"
    }
   },
   "outputs": [
    {
     "name": "stdout",
     "output_type": "stream",
     "text": [
      "{'Mary': 10999, 'Sams': 2111, 'Aimy': 9778, 'Tom': 20245, 'Michale': 27115, 'Bob': 5887, 'Kelly': 7855}\n",
      "{'Mary': 10999, 'Aimy': 9778, 'Tom': 20245, 'Michale': 27115, 'Bob': 5887, 'Kelly': 7855}\n"
     ]
    }
   ],
   "source": [
    "names = {'Mary':10999, 'Sams':2111, 'Aimy':9778, 'Tom':20245, 'Michale':27115, 'Bob':5887, 'Kelly':7855}\n",
    "print(names)\n",
    "del names['Sams']\n",
    "print(names)"
   ]
  },
  {
   "cell_type": "markdown",
   "metadata": {},
   "source": [
    "## 126 사전의 모든 요소 제거하기\n",
    "- 사전의 모든 요소를 제거하는 방법을 학습"
   ]
  },
  {
   "cell_type": "code",
   "execution_count": 32,
   "metadata": {
    "execution": {
     "iopub.execute_input": "2020-06-14T09:32:11.082138Z",
     "iopub.status.busy": "2020-06-14T09:32:11.082138Z",
     "iopub.status.idle": "2020-06-14T09:32:11.087125Z",
     "shell.execute_reply": "2020-06-14T09:32:11.087125Z",
     "shell.execute_reply.started": "2020-06-14T09:32:11.082138Z"
    }
   },
   "outputs": [
    {
     "name": "stdout",
     "output_type": "stream",
     "text": [
      "{}\n"
     ]
    }
   ],
   "source": [
    "names = {'Mary':10999, 'Sams':2111, 'Aimy':9778, 'Tom':20245, 'Michale':27115, 'Bob':5887, 'Kelly':7855}\n",
    "names.clear()\n",
    "print(names)"
   ]
  },
  {
   "cell_type": "markdown",
   "metadata": {},
   "source": [
    "## 127 사전에서 키만 추출하기\n",
    "- 사전에서 키만 추출하는 방법을 학습"
   ]
  },
  {
   "cell_type": "code",
   "execution_count": 33,
   "metadata": {
    "execution": {
     "iopub.execute_input": "2020-06-14T09:33:19.539536Z",
     "iopub.status.busy": "2020-06-14T09:33:19.539536Z",
     "iopub.status.idle": "2020-06-14T09:33:19.544516Z",
     "shell.execute_reply": "2020-06-14T09:33:19.544516Z",
     "shell.execute_reply.started": "2020-06-14T09:33:19.539536Z"
    }
   },
   "outputs": [
    {
     "name": "stdout",
     "output_type": "stream",
     "text": [
      "dict_keys(['Mary', 'Sams', 'Aimy', 'Tom', 'Michale', 'Bob', 'Kelly'])\n",
      "Key : Mary, Value : 10999\n",
      "Key : Sams, Value : 2111\n",
      "Key : Aimy, Value : 9778\n",
      "Key : Tom, Value : 20245\n",
      "Key : Michale, Value : 27115\n",
      "Key : Bob, Value : 5887\n",
      "Key : Kelly, Value : 7855\n"
     ]
    }
   ],
   "source": [
    "names = {'Mary': 10999, 'Sams': 2111, 'Aimy': 9778, 'Tom': 20245, 'Michale': 27115, 'Bob': 5887, 'Kelly': 7855}\n",
    "ks = names.keys()\n",
    "print(ks)\n",
    "\n",
    "for k in ks:\n",
    "    print(f'Key : {k}, Value : {names[k]}')"
   ]
  },
  {
   "cell_type": "markdown",
   "metadata": {},
   "source": [
    "## 128 사전에서 값만 추출하기\n",
    "- 사전에서 값만 추출하는 방법을 학습"
   ]
  },
  {
   "cell_type": "code",
   "execution_count": 34,
   "metadata": {
    "execution": {
     "iopub.execute_input": "2020-06-14T09:34:55.693185Z",
     "iopub.status.busy": "2020-06-14T09:34:55.693185Z",
     "iopub.status.idle": "2020-06-14T09:34:55.698191Z",
     "shell.execute_reply": "2020-06-14T09:34:55.698191Z",
     "shell.execute_reply.started": "2020-06-14T09:34:55.693185Z"
    }
   },
   "outputs": [
    {
     "name": "stdout",
     "output_type": "stream",
     "text": [
      "dict_values([10999, 2111, 9778, 20245, 27115, 5887, 7855])\n",
      "출생아 수의 총계 : 83990\n"
     ]
    }
   ],
   "source": [
    "names = {'Mary': 10999, 'Sams': 2111, 'Aimy': 9778, 'Tom': 20245, 'Michale': 27115, 'Bob': 5887, 'Kelly': 7855}\n",
    "vals = names.values()\n",
    "print(vals)\n",
    "\n",
    "vals_list = list(vals)\n",
    "ret = sum(vals_list)\n",
    "print(f'출생아 수의 총계 : {ret}')"
   ]
  },
  {
   "cell_type": "markdown",
   "metadata": {},
   "source": [
    "## 129 사전 요소를 모두 추출하기\n",
    "- 사전의 모든 키값을 추출하여 리스트로 만드는 방법을 학습"
   ]
  },
  {
   "cell_type": "code",
   "execution_count": 35,
   "metadata": {
    "execution": {
     "iopub.execute_input": "2020-06-14T09:35:53.421189Z",
     "iopub.status.busy": "2020-06-14T09:35:53.421189Z",
     "iopub.status.idle": "2020-06-14T09:35:53.427195Z",
     "shell.execute_reply": "2020-06-14T09:35:53.427195Z",
     "shell.execute_reply.started": "2020-06-14T09:35:53.421189Z"
    }
   },
   "outputs": [
    {
     "name": "stdout",
     "output_type": "stream",
     "text": [
      "dict_items([('Mary', 10999), ('Sams', 2111), ('Aimy', 9778), ('Tom', 20245), ('Michale', 27115), ('Bob', 5887), ('Kelly', 7855)])\n",
      "('Mary', 10999)\n",
      "('Sams', 2111)\n",
      "('Aimy', 9778)\n",
      "('Tom', 20245)\n",
      "('Michale', 27115)\n",
      "('Bob', 5887)\n",
      "('Kelly', 7855)\n"
     ]
    }
   ],
   "source": [
    "names = {'Mary': 10999, 'Sams': 2111, 'Aimy': 9778, 'Tom': 20245, 'Michale': 27115, 'Bob': 5887, 'Kelly': 7855}\n",
    "items = names.items()\n",
    "print(items)\n",
    "\n",
    "for item in items:\n",
    "    print(item)"
   ]
  },
  {
   "cell_type": "markdown",
   "metadata": {},
   "source": [
    "## 130 사전에 특정 키가 존재하는지 확인하기\n",
    "- 특정 값이 사전의 키로 존재하는지 확인하는 방법에 대해 학습"
   ]
  },
  {
   "cell_type": "code",
   "execution_count": 37,
   "metadata": {
    "execution": {
     "iopub.execute_input": "2020-06-14T09:38:35.383319Z",
     "iopub.status.busy": "2020-06-14T09:38:35.383319Z",
     "iopub.status.idle": "2020-06-14T09:38:38.499767Z",
     "shell.execute_reply": "2020-06-14T09:38:38.499767Z",
     "shell.execute_reply.started": "2020-06-14T09:38:35.383319Z"
    }
   },
   "outputs": [
    {
     "name": "stdin",
     "output_type": "stream",
     "text": [
      "이름을 입력하세요 :  Michale\n"
     ]
    },
    {
     "name": "stdout",
     "output_type": "stream",
     "text": [
      "이름이 Michale인 출생아 수는 27115입니다.\n"
     ]
    }
   ],
   "source": [
    "names = {'Mary': 10999, 'Sams': 2111, 'Aimy': 9778, 'Tom': 20245, 'Michale': 27115, 'Bob': 5887, 'Kelly': 7855}\n",
    "k = input('이름을 입력하세요 : ')\n",
    "if k in names:\n",
    "    print(f'이름이 {k}인 출생아 수는 {names[k]}입니다.')\n",
    "else :\n",
    "    print(f'자료에 {k}인 이름은 존재하지 않습니다.')"
   ]
  },
  {
   "cell_type": "markdown",
   "metadata": {},
   "source": [
    "## 131 사전 정렬하기\n",
    "- 사전의 키나 값을 기준으로 오름차순 또는 내림차순 정렬을 수행하는 방법에 대해 학습"
   ]
  },
  {
   "cell_type": "code",
   "execution_count": 38,
   "metadata": {
    "execution": {
     "iopub.execute_input": "2020-06-14T09:40:43.080236Z",
     "iopub.status.busy": "2020-06-14T09:40:43.080236Z",
     "iopub.status.idle": "2020-06-14T09:40:43.087252Z",
     "shell.execute_reply": "2020-06-14T09:40:43.087252Z",
     "shell.execute_reply.started": "2020-06-14T09:40:43.080236Z"
    }
   },
   "outputs": [
    {
     "name": "stdout",
     "output_type": "stream",
     "text": [
      "['Aimy', 'Bob', 'Kelly', 'Mary', 'Michale', 'Sams', 'Tom']\n",
      "[('Aimy', 9778), ('Bob', 5887), ('Kelly', 7855), ('Mary', 10999), ('Michale', 27115), ('Sams', 2111), ('Tom', 20245)]\n",
      "[('Sams', 2111), ('Bob', 5887), ('Kelly', 7855), ('Aimy', 9778), ('Mary', 10999), ('Tom', 20245), ('Michale', 27115)]\n",
      "[('Michale', 27115), ('Tom', 20245), ('Mary', 10999), ('Aimy', 9778), ('Kelly', 7855), ('Bob', 5887), ('Sams', 2111)]\n"
     ]
    }
   ],
   "source": [
    "names = {'Mary': 10999, 'Sams': 2111, 'Aimy': 9778, 'Tom': 20245, 'Michale': 27115, 'Bob': 5887, 'Kelly': 7855}\n",
    "\n",
    "ret1 = sorted(names)\n",
    "print(ret1)\n",
    "\n",
    "# sorted의 key 인자로 사용할 함수 f1을 정의, 정렬할 데이터의 첫번째 요소를 기준으로 정렬(key)\n",
    "def f1(x):\n",
    "    return x[0]\n",
    "\n",
    "# sorted의 key 인자로 사용할 함수 f2을 정의, 정렬할 데이터의 두번째 요소를 기준으로 정렬(value)\n",
    "def f2(x):\n",
    "    return x[1]\n",
    "\n",
    "ret2 = sorted(names.items(), key = f1)\n",
    "print(ret2)\n",
    "\n",
    "ret3 = sorted(names.items(), key = f2)\n",
    "print(ret3)\n",
    "\n",
    "ret4 = sorted(names.items(), key = f2, reverse= True)\n",
    "print(ret4)"
   ]
  },
  {
   "cell_type": "markdown",
   "metadata": {
    "execution": {
     "iopub.execute_input": "2020-06-14T09:43:02.461603Z",
     "iopub.status.busy": "2020-06-14T09:43:02.461603Z",
     "iopub.status.idle": "2020-06-14T09:43:02.465613Z",
     "shell.execute_reply": "2020-06-14T09:43:02.465613Z",
     "shell.execute_reply.started": "2020-06-14T09:43:02.461603Z"
    }
   },
   "source": [
    "## 132 문자 코드값 구하기\n",
    "- 문자에 대응하는 코드 값을 구하는 방법을 학습"
   ]
  },
  {
   "cell_type": "code",
   "execution_count": 40,
   "metadata": {
    "execution": {
     "iopub.execute_input": "2020-06-14T09:44:31.262758Z",
     "iopub.status.busy": "2020-06-14T09:44:31.262758Z",
     "iopub.status.idle": "2020-06-14T09:44:32.721692Z",
     "shell.execute_reply": "2020-06-14T09:44:32.721692Z",
     "shell.execute_reply.started": "2020-06-14T09:44:31.262758Z"
    }
   },
   "outputs": [
    {
     "name": "stdin",
     "output_type": "stream",
     "text": [
      "문자를 1개 입력하세요 :  d\n"
     ]
    },
    {
     "name": "stdout",
     "output_type": "stream",
     "text": [
      "문자 : d, 코드값 : 100[0x64]\n"
     ]
    }
   ],
   "source": [
    "ch = input('문자를 1개 입력하세요 : ')\n",
    "if len(ch) !=0:\n",
    "    ch = ch[0]\n",
    "    chv = ord(ch)\n",
    "    print(f'문자 : {ch}, 코드값 : {chv}[{hex(chv)}]')"
   ]
  },
  {
   "cell_type": "markdown",
   "metadata": {},
   "source": [
    "## 133 코드값에 대응하는 문자 얻기\n",
    "- 코드값을 알고 있을때 그에 상응하는 문자를 얻는 방법에 대해 학습ㅡ"
   ]
  },
  {
   "cell_type": "code",
   "execution_count": 1,
   "metadata": {
    "execution": {
     "iopub.execute_input": "2020-06-14T09:49:57.902048Z",
     "iopub.status.busy": "2020-06-14T09:49:57.902048Z",
     "iopub.status.idle": "2020-06-14T09:49:59.002039Z",
     "shell.execute_reply": "2020-06-14T09:49:59.002039Z",
     "shell.execute_reply.started": "2020-06-14T09:49:57.902048Z"
    }
   },
   "outputs": [
    {
     "name": "stdin",
     "output_type": "stream",
     "text": [
      "문자 코드값을 입력하세요 :  114\n"
     ]
    },
    {
     "name": "stdout",
     "output_type": "stream",
     "text": [
      "코드값 : 114[0x72], 문자 : r\n"
     ]
    }
   ],
   "source": [
    "val = input('문자 코드값을 입력하세요 : ')\n",
    "val = int(val)\n",
    "try:\n",
    "    ch = chr(val)\n",
    "    print(f'코드값 : {val}[{hex(val)}], 문자 : {ch}')\n",
    "except ValueError:\n",
    "    print(f'입력한 {val}에 대한 문자가 존재하지 않습니다.')"
   ]
  },
  {
   "cell_type": "markdown",
   "metadata": {},
   "source": [
    "## 134 문자열로 된 식을 실행하기\n",
    "- 파이썬 코드로 실행가능한 문자열을 실제로 실행하는 방법에 대해 학습"
   ]
  },
  {
   "cell_type": "code",
   "execution_count": 2,
   "metadata": {
    "execution": {
     "iopub.execute_input": "2020-06-14T09:52:04.454285Z",
     "iopub.status.busy": "2020-06-14T09:52:04.454285Z",
     "iopub.status.idle": "2020-06-14T09:52:04.460250Z",
     "shell.execute_reply": "2020-06-14T09:52:04.460250Z",
     "shell.execute_reply.started": "2020-06-14T09:52:04.454285Z"
    }
   },
   "outputs": [
    {
     "name": "stdout",
     "output_type": "stream",
     "text": [
      "2 + 3을 eval로 실행한 결과 : 5\n",
      "round(3.7)을 eval로 실행한 결과 : 4\n"
     ]
    }
   ],
   "source": [
    "expr1 = '2 + 3'\n",
    "expr2 = 'round(3.7)'\n",
    "ret1 = eval(expr1)\n",
    "ret2 = eval(expr2)\n",
    "\n",
    "print(f'{expr1}을 eval로 실행한 결과 : {ret1}')\n",
    "print(f'{expr2}을 eval로 실행한 결과 : {ret2}')"
   ]
  },
  {
   "cell_type": "markdown",
   "metadata": {},
   "source": [
    "## 135 이름없는 한줄짜리 함수 만들기\n",
    "- 함수 이름없이 한줄로 간단하게 함수를 만드는 방법에 대해 학습\n",
    "- lambda 인자, 인자 : 실행코드"
   ]
  },
  {
   "cell_type": "code",
   "execution_count": 7,
   "metadata": {
    "execution": {
     "iopub.execute_input": "2020-06-14T09:55:06.376776Z",
     "iopub.status.busy": "2020-06-14T09:55:06.376776Z",
     "iopub.status.idle": "2020-06-14T09:55:06.383773Z",
     "shell.execute_reply": "2020-06-14T09:55:06.383773Z",
     "shell.execute_reply.started": "2020-06-14T09:55:06.376776Z"
    }
   },
   "outputs": [
    {
     "name": "stdout",
     "output_type": "stream",
     "text": [
      "4\n",
      "intro.pptx\n",
      "Report.docx\n",
      "[('Aimy', 9778), ('Bob', 5887), ('Kelly', 7855), ('Mary', 10999), ('Michale', 27115), ('Sams', 2111), ('Tom', 20245)]\n"
     ]
    }
   ],
   "source": [
    "add = lambda x, y : x + y\n",
    "ret = add(1,3)\n",
    "print(ret)\n",
    "\n",
    "funcs = [lambda x : x+'.pptx', lambda x:x+'.docx']\n",
    "ret1 = funcs[0]('intro')\n",
    "ret2 = funcs[1]('Report')\n",
    "print(ret1)\n",
    "print(ret2)\n",
    "\n",
    "names = {'Mary': 10999, 'Sams': 2111, 'Aimy': 9778, 'Tom': 20245, 'Michale': 27115, 'Bob': 5887, 'Kelly': 7855}\n",
    "ret3 = sorted(names.items(), key = lambda x : x[0])\n",
    "print(ret3)"
   ]
  },
  {
   "cell_type": "markdown",
   "metadata": {},
   "source": [
    "## 136 인자를 바꾸어 함수를 반복호출하여 결과값 얻기\n",
    "- 함수에 인자를 바꾸어 반복적으로 호출한 결과를 리스트로 얻는 방법에 대해 학습\n",
    "- map : 집합A와 함수f가 주어지면 집합B를 쉽게 구해주는 역할"
   ]
  },
  {
   "cell_type": "code",
   "execution_count": 8,
   "metadata": {
    "execution": {
     "iopub.execute_input": "2020-06-14T09:57:56.821398Z",
     "iopub.status.busy": "2020-06-14T09:57:56.820431Z",
     "iopub.status.idle": "2020-06-14T09:57:56.825376Z",
     "shell.execute_reply": "2020-06-14T09:57:56.824407Z",
     "shell.execute_reply.started": "2020-06-14T09:57:56.821398Z"
    }
   },
   "outputs": [
    {
     "name": "stdout",
     "output_type": "stream",
     "text": [
      "[1, 4, 9, 16, 25]\n"
     ]
    }
   ],
   "source": [
    "f = lambda x : x * x\n",
    "args = [1,2,3,4,5]\n",
    "ret = map(f, args)\n",
    "print(list(ret))"
   ]
  },
  {
   "cell_type": "code",
   "execution_count": 9,
   "metadata": {
    "execution": {
     "iopub.execute_input": "2020-06-14T09:59:40.355415Z",
     "iopub.status.busy": "2020-06-14T09:59:40.355415Z",
     "iopub.status.idle": "2020-06-14T09:59:40.360366Z",
     "shell.execute_reply": "2020-06-14T09:59:40.360366Z",
     "shell.execute_reply.started": "2020-06-14T09:59:40.355415Z"
    }
   },
   "outputs": [
    {
     "name": "stdout",
     "output_type": "stream",
     "text": [
      "[11, 13, 17, 23, 31]\n"
     ]
    }
   ],
   "source": [
    "f = lambda x, y : x * x + y\n",
    "X = [1, 2, 3, 4, 5]\n",
    "Y = [10, 9, 8, 7, 6]\n",
    "ret = map(f, X, Y)\n",
    "print(list(ret))"
   ]
  }
 ],
 "metadata": {
  "kernelspec": {
   "display_name": "Python 3",
   "language": "python",
   "name": "python3"
  },
  "language_info": {
   "codemirror_mode": {
    "name": "ipython",
    "version": 3
   },
   "file_extension": ".py",
   "mimetype": "text/x-python",
   "name": "python",
   "nbconvert_exporter": "python",
   "pygments_lexer": "ipython3",
   "version": "3.7.6"
  }
 },
 "nbformat": 4,
 "nbformat_minor": 4
}
