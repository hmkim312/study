{
 "cells": [
  {
   "cell_type": "markdown",
   "metadata": {},
   "source": [
    "## 060 사용자 입력받기\n",
    "- 사용자가 입력하는 값을 프로그램에서 받는 방법을 학습"
   ]
  },
  {
   "cell_type": "code",
   "execution_count": 1,
   "metadata": {
    "execution": {
     "iopub.execute_input": "2020-06-13T08:00:20.127957Z",
     "iopub.status.busy": "2020-06-13T08:00:20.127957Z",
     "iopub.status.idle": "2020-06-13T08:00:22.589771Z",
     "shell.execute_reply": "2020-06-13T08:00:22.589771Z",
     "shell.execute_reply.started": "2020-06-13T08:00:20.127957Z"
    }
   },
   "outputs": [
    {
     "name": "stdin",
     "output_type": "stream",
     "text": [
      "<값>을 입력하세요 1\n"
     ]
    },
    {
     "name": "stdout",
     "output_type": "stream",
     "text": [
      "당신이 입력한 값은 <1>입니다.\n"
     ]
    }
   ],
   "source": [
    "k = input('<값>을 입력하세요')\n",
    "print(f'당신이 입력한 값은 <{k}>입니다.')"
   ]
  },
  {
   "cell_type": "markdown",
   "metadata": {},
   "source": [
    "## 061 자료형 확인하기\n",
    "- 자료형을 확인하는 방법에 대해 학습"
   ]
  },
  {
   "cell_type": "code",
   "execution_count": 4,
   "metadata": {
    "execution": {
     "iopub.execute_input": "2020-06-13T08:02:07.842757Z",
     "iopub.status.busy": "2020-06-13T08:02:07.842757Z",
     "iopub.status.idle": "2020-06-13T08:02:07.847743Z",
     "shell.execute_reply": "2020-06-13T08:02:07.847743Z",
     "shell.execute_reply.started": "2020-06-13T08:02:07.842757Z"
    }
   },
   "outputs": [
    {
     "name": "stdout",
     "output_type": "stream",
     "text": [
      "<class 'int'>\n",
      "<class 'str'>\n",
      "<class 'list'>\n",
      "<class 'dict'>\n",
      "<class 'function'>\n"
     ]
    }
   ],
   "source": [
    "numdata = 57\n",
    "strdata = '파이썬'\n",
    "listdata = [1, 2, 3]\n",
    "dictdata = {'a': 1, 'b': 2}\n",
    "\n",
    "\n",
    "def func():\n",
    "    print('안녕하세요')\n",
    "\n",
    "\n",
    "print(type(numdata))\n",
    "print(type(strdata))\n",
    "print(type(listdata))\n",
    "print(type(dictdata))\n",
    "print(type(func))"
   ]
  },
  {
   "cell_type": "markdown",
   "metadata": {},
   "source": [
    "## 062 나눗셈에서 나머지만 구하기\n",
    "- 나누기 연산에서 나머지만 구하는 방법을 학습"
   ]
  },
  {
   "cell_type": "code",
   "execution_count": 5,
   "metadata": {
    "execution": {
     "iopub.execute_input": "2020-06-13T08:25:19.358697Z",
     "iopub.status.busy": "2020-06-13T08:25:19.357700Z",
     "iopub.status.idle": "2020-06-13T08:25:19.364681Z",
     "shell.execute_reply": "2020-06-13T08:25:19.363706Z",
     "shell.execute_reply.started": "2020-06-13T08:25:19.358697Z"
    }
   },
   "outputs": [
    {
     "name": "stdout",
     "output_type": "stream",
     "text": [
      "11113에서 23를 나누면 4가 남습니다.\n"
     ]
    }
   ],
   "source": [
    "a = 11113\n",
    "b = 23\n",
    "ret = a % b\n",
    "print(f'{a}에서 {b}를 나누면 {ret}가 남습니다.')"
   ]
  },
  {
   "cell_type": "markdown",
   "metadata": {
    "execution": {
     "iopub.execute_input": "2020-06-13T08:25:29.365166Z",
     "iopub.status.busy": "2020-06-13T08:25:29.364142Z",
     "iopub.status.idle": "2020-06-13T08:25:29.370124Z",
     "shell.execute_reply": "2020-06-13T08:25:29.370124Z",
     "shell.execute_reply.started": "2020-06-13T08:25:29.365166Z"
    }
   },
   "source": [
    "## 063 몫과 나머지 구하기\n",
    "- 두 정수의 나누기 연산에서 몫과 나머지를 구하는 방법을 학습"
   ]
  },
  {
   "cell_type": "code",
   "execution_count": 9,
   "metadata": {
    "execution": {
     "iopub.execute_input": "2020-06-13T08:27:09.736122Z",
     "iopub.status.busy": "2020-06-13T08:27:09.736122Z",
     "iopub.status.idle": "2020-06-13T08:27:09.741075Z",
     "shell.execute_reply": "2020-06-13T08:27:09.740077Z",
     "shell.execute_reply.started": "2020-06-13T08:27:09.736122Z"
    }
   },
   "outputs": [
    {
     "name": "stdout",
     "output_type": "stream",
     "text": [
      "<11113/23>는 몫이 483이고 4가 남습니다.\n"
     ]
    }
   ],
   "source": [
    "a = 11113\n",
    "b = 23\n",
    "ret1, ret2 = divmod(a,b)\n",
    "print(f'<{a}/{b}>는 몫이 {ret1}이고 {ret2}가 남습니다.')"
   ]
  },
  {
   "cell_type": "markdown",
   "metadata": {},
   "source": [
    "## 10진수를 16진수로 변환하기\n",
    "- 10진수 정수를 16진수로 변환하는 방법에 대해 학습\n",
    "- hex : 입력받은 10진수를 16진수로 변환해서 문자열로 리턴"
   ]
  },
  {
   "cell_type": "code",
   "execution_count": 11,
   "metadata": {
    "execution": {
     "iopub.execute_input": "2020-06-13T08:28:46.073923Z",
     "iopub.status.busy": "2020-06-13T08:28:46.073923Z",
     "iopub.status.idle": "2020-06-13T08:28:46.078871Z",
     "shell.execute_reply": "2020-06-13T08:28:46.077907Z",
     "shell.execute_reply.started": "2020-06-13T08:28:46.073923Z"
    }
   },
   "outputs": [
    {
     "name": "stdout",
     "output_type": "stream",
     "text": [
      "0x610x62\n",
      "195\n",
      "0xc3\n"
     ]
    }
   ],
   "source": [
    "h1 = hex(97) #문자열\n",
    "h2 = hex(98) #문자열\n",
    "ret1 = h1 + h2\n",
    "print(ret1)\n",
    "\n",
    "a = int(h1, 16)\n",
    "b = int(h2, 16)\n",
    "ret2 = a + b\n",
    "print(ret2)\n",
    "print(hex(ret2))"
   ]
  },
  {
   "cell_type": "markdown",
   "metadata": {},
   "source": [
    "## 10진수를 2진수로 변환하기\n",
    "- 10진수 정수를 2진수로 변환하는 방법에 대해 학습\n",
    "- bin : 입력받은 숫자를 2진수로 변환해서 문자열로 반환"
   ]
  },
  {
   "cell_type": "code",
   "execution_count": 12,
   "metadata": {
    "execution": {
     "iopub.execute_input": "2020-06-13T08:34:08.504578Z",
     "iopub.status.busy": "2020-06-13T08:34:08.503579Z",
     "iopub.status.idle": "2020-06-13T08:34:08.509564Z",
     "shell.execute_reply": "2020-06-13T08:34:08.509564Z",
     "shell.execute_reply.started": "2020-06-13T08:34:08.504578Z"
    }
   },
   "outputs": [
    {
     "name": "stdout",
     "output_type": "stream",
     "text": [
      "0b11000010b1100010\n",
      "195\n",
      "0b11000011\n"
     ]
    }
   ],
   "source": [
    "b1 = bin(97)\n",
    "b2 = bin(98)\n",
    "ret1 = b1 + b2\n",
    "print(ret1)\n",
    "\n",
    "a = int(b1, 2)\n",
    "b = int(b2, 2)\n",
    "ret2 = a + b\n",
    "print(ret2)\n",
    "print(bin(ret2))"
   ]
  },
  {
   "cell_type": "markdown",
   "metadata": {},
   "source": [
    "## 066 2진수, 16진수를 10진수로 변환하기\n",
    "- 2진수나 16진수 정수를 10진수로 변환하는 방법을 학습"
   ]
  },
  {
   "cell_type": "code",
   "execution_count": 13,
   "metadata": {
    "execution": {
     "iopub.execute_input": "2020-06-13T10:02:32.484635Z",
     "iopub.status.busy": "2020-06-13T10:02:32.483634Z",
     "iopub.status.idle": "2020-06-13T10:02:32.491612Z",
     "shell.execute_reply": "2020-06-13T10:02:32.491612Z",
     "shell.execute_reply.started": "2020-06-13T10:02:32.484635Z"
    }
   },
   "outputs": [
    {
     "name": "stdout",
     "output_type": "stream",
     "text": [
      "240\n",
      "240\n",
      "240\n",
      "240\n",
      "240\n",
      "240\n"
     ]
    }
   ],
   "source": [
    "bnum = 0b11110000\n",
    "bstr = '0b11110000'\n",
    "onum = 0o360\n",
    "ostr = '0o360'\n",
    "hnum = 0xf0\n",
    "hstr = '0xf0'\n",
    "b1 = int(bnum)\n",
    "b2 = int(bstr, 2)   # b2 = int(bstr, 0)로도 가능\n",
    "o1 = int(onum)\n",
    "o2 = int(ostr, 8)   # o2 = int(ostr, 0)로도 가능\n",
    "h1 = int(hnum)\n",
    "h2 = int(hstr, 16)  # h2 = int(hstr, 0)로도 가능\n",
    "print(b1)\n",
    "print(b2)\n",
    "print(o1)\n",
    "print(o2)\n",
    "print(h1)\n",
    "print(h2)"
   ]
  },
  {
   "cell_type": "markdown",
   "metadata": {},
   "source": [
    "## 067 절대값 구하기\n",
    "- 주어진 수의 절대값을 구하는 방법을 학습"
   ]
  },
  {
   "cell_type": "code",
   "execution_count": 14,
   "metadata": {
    "execution": {
     "iopub.execute_input": "2020-06-13T10:03:50.128572Z",
     "iopub.status.busy": "2020-06-13T10:03:50.127547Z",
     "iopub.status.idle": "2020-06-13T10:03:50.133541Z",
     "shell.execute_reply": "2020-06-13T10:03:50.133541Z",
     "shell.execute_reply.started": "2020-06-13T10:03:50.128572Z"
    }
   },
   "outputs": [
    {
     "name": "stdout",
     "output_type": "stream",
     "text": [
      "3\n",
      "5.72\n",
      "5.0\n"
     ]
    }
   ],
   "source": [
    "abs1 = abs(-3)\n",
    "abs2 = abs(-5.72)\n",
    "abs3 = abs(3+4j)\n",
    "print(abs1)\n",
    "print(abs2)\n",
    "print(abs3)"
   ]
  },
  {
   "cell_type": "markdown",
   "metadata": {},
   "source": [
    "## 068 반올림수 구하기\n",
    "- 수치형 자료의 반올림에 대해 이해"
   ]
  },
  {
   "cell_type": "code",
   "execution_count": 15,
   "metadata": {
    "execution": {
     "iopub.execute_input": "2020-06-13T10:06:01.203778Z",
     "iopub.status.busy": "2020-06-13T10:06:01.203778Z",
     "iopub.status.idle": "2020-06-13T10:06:01.208793Z",
     "shell.execute_reply": "2020-06-13T10:06:01.208793Z",
     "shell.execute_reply.started": "2020-06-13T10:06:01.203778Z"
    }
   },
   "outputs": [
    {
     "name": "stdout",
     "output_type": "stream",
     "text": [
      "1118\n",
      "17\n",
      "1120\n",
      "16.55\n"
     ]
    }
   ],
   "source": [
    "ret1 = round(1118)\n",
    "ret2 = round(16.554)\n",
    "ret3 = round(1118, -1)\n",
    "ret4 = round(16.554, 2)\n",
    "print(ret1)\n",
    "print(ret2)\n",
    "print(ret3)\n",
    "print(ret4)"
   ]
  },
  {
   "cell_type": "markdown",
   "metadata": {
    "execution": {
     "iopub.execute_input": "2020-06-13T10:06:39.350859Z",
     "iopub.status.busy": "2020-06-13T10:06:39.349835Z",
     "iopub.status.idle": "2020-06-13T10:06:39.353824Z",
     "shell.execute_reply": "2020-06-13T10:06:39.353824Z",
     "shell.execute_reply.started": "2020-06-13T10:06:39.350859Z"
    }
   },
   "source": [
    "## 069 실수형 자료를 정수형 자료로 변환하기\n",
    "- 실수형 자료를 정수형으로 변환하는 방법에 대해 학습"
   ]
  },
  {
   "cell_type": "code",
   "execution_count": 17,
   "metadata": {
    "execution": {
     "iopub.execute_input": "2020-06-13T10:08:02.204598Z",
     "iopub.status.busy": "2020-06-13T10:08:02.204598Z",
     "iopub.status.idle": "2020-06-13T10:08:02.209584Z",
     "shell.execute_reply": "2020-06-13T10:08:02.209584Z",
     "shell.execute_reply.started": "2020-06-13T10:08:02.204598Z"
    }
   },
   "outputs": [
    {
     "name": "stdout",
     "output_type": "stream",
     "text": [
      "-5\n",
      "17\n",
      "171\n"
     ]
    }
   ],
   "source": [
    "idata1 = int(-5.4)\n",
    "idata2 = int(1.78e1)\n",
    "idata3 = int(171.56)\n",
    "print(idata1)\n",
    "print(idata2)\n",
    "print(idata3)"
   ]
  },
  {
   "cell_type": "markdown",
   "metadata": {
    "execution": {
     "iopub.execute_input": "2020-06-13T10:09:10.150491Z",
     "iopub.status.busy": "2020-06-13T10:09:10.149475Z",
     "iopub.status.idle": "2020-06-13T10:09:10.156457Z",
     "shell.execute_reply": "2020-06-13T10:09:10.156457Z",
     "shell.execute_reply.started": "2020-06-13T10:09:10.150491Z"
    }
   },
   "source": [
    "## 070 정수형 자료를 실수형 자료로 변환하기\n",
    "- 정수형 자료를 실수형 자료로 변환하는 방법에 대해 학습"
   ]
  },
  {
   "cell_type": "code",
   "execution_count": 19,
   "metadata": {
    "execution": {
     "iopub.execute_input": "2020-06-13T10:09:25.169551Z",
     "iopub.status.busy": "2020-06-13T10:09:25.169551Z",
     "iopub.status.idle": "2020-06-13T10:09:25.172549Z",
     "shell.execute_reply": "2020-06-13T10:09:25.172549Z",
     "shell.execute_reply.started": "2020-06-13T10:09:25.169551Z"
    }
   },
   "outputs": [
    {
     "name": "stdout",
     "output_type": "stream",
     "text": [
      "10.0\n"
     ]
    }
   ],
   "source": [
    "fdata = float(10)\n",
    "print(fdata)"
   ]
  },
  {
   "cell_type": "markdown",
   "metadata": {},
   "source": [
    "## 071 정수 리스트에서 소수만 걸러내기\n",
    "- 요소가 정수로 이루어진 리스트에서 소수(prime number)만 걸러내는 방법을 학습"
   ]
  },
  {
   "cell_type": "code",
   "execution_count": 20,
   "metadata": {
    "execution": {
     "iopub.execute_input": "2020-06-13T10:12:41.782672Z",
     "iopub.status.busy": "2020-06-13T10:12:41.782672Z",
     "iopub.status.idle": "2020-06-13T10:12:41.789625Z",
     "shell.execute_reply": "2020-06-13T10:12:41.789625Z",
     "shell.execute_reply.started": "2020-06-13T10:12:41.782672Z"
    }
   },
   "outputs": [
    {
     "name": "stdout",
     "output_type": "stream",
     "text": [
      "[11113, 11119]\n"
     ]
    }
   ],
   "source": [
    "def getprime(x):\n",
    "    if x % 2 == 0:\n",
    "        return\n",
    "\n",
    "    for i in range(3, int(x/2), 2):\n",
    "        if x % i ==0:\n",
    "            break\n",
    "    else : \n",
    "        return x\n",
    "\n",
    "listdata = [117,119,1113,11113,11119]\n",
    "ret = filter(getprime, listdata)\n",
    "print(list(ret))"
   ]
  },
  {
   "cell_type": "code",
   "execution_count": 22,
   "metadata": {
    "execution": {
     "iopub.execute_input": "2020-06-13T10:16:33.354280Z",
     "iopub.status.busy": "2020-06-13T10:16:33.354280Z",
     "iopub.status.idle": "2020-06-13T10:16:33.360298Z",
     "shell.execute_reply": "2020-06-13T10:16:33.360298Z",
     "shell.execute_reply.started": "2020-06-13T10:16:33.354280Z"
    }
   },
   "outputs": [
    {
     "name": "stdout",
     "output_type": "stream",
     "text": [
      "[2, 3, 5, 7]\n"
     ]
    }
   ],
   "source": [
    "# 정수 n 이하의 모든 소수를 구하는 함수\n",
    "def getprime(n):\n",
    "    ret = [2]\n",
    "    if n <= 2:\n",
    "        return ret\n",
    "\n",
    "    for i in range(3, n + 1, 2):\n",
    "        for k in range(3, int(i/2), 2):\n",
    "            a = i % k\n",
    "            if a == 0:\n",
    "                break\n",
    "        else :\n",
    "            ret.append(i)\n",
    "            \n",
    "    return ret\n",
    "ret = getprime(10)\n",
    "print(ret)"
   ]
  },
  {
   "cell_type": "markdown",
   "metadata": {},
   "source": [
    "## 최대값, 최소값 구하기\n",
    "- 주어진 자료에서 최대값, 최소값을 구하는 방법을 학습"
   ]
  },
  {
   "cell_type": "code",
   "execution_count": 24,
   "metadata": {
    "execution": {
     "iopub.execute_input": "2020-06-13T10:20:39.793333Z",
     "iopub.status.busy": "2020-06-13T10:20:39.793333Z",
     "iopub.status.idle": "2020-06-13T10:20:39.800372Z",
     "shell.execute_reply": "2020-06-13T10:20:39.800372Z",
     "shell.execute_reply.started": "2020-06-13T10:20:39.793333Z"
    }
   },
   "outputs": [
    {
     "name": "stdout",
     "output_type": "stream",
     "text": [
      "9.96\n",
      "0.93\n",
      "y\n",
      "A\n",
      "9\n",
      "a12\n"
     ]
    }
   ],
   "source": [
    "listdata = [9.96, 1.27, 5.07, 6.45, 8.38, 9.29, 4.93, 7.79, 3.71, 0.93]\n",
    "maxval = max(listdata)\n",
    "minval = min(listdata)\n",
    "print(maxval)\n",
    "print(minval)\n",
    "\n",
    "txt = 'Alotofhingsoccureachday'\n",
    "maxval = max(txt)\n",
    "minval = min(txt)\n",
    "print(maxval)\n",
    "print(minval)\n",
    "\n",
    "maxval = max(2 + 3, 2*3, 2**3, 3**2)\n",
    "minval = min('abz', 'a12')\n",
    "print(maxval)\n",
    "print(minval)"
   ]
  },
  {
   "cell_type": "markdown",
   "metadata": {},
   "source": [
    "## 073 1바이트에서 하위 4비트 추출하기\n",
    "- 비트연산을 이용해 1바이트에서 하위 4비트 값을 얻는 방법에 대해 학습"
   ]
  },
  {
   "cell_type": "code",
   "execution_count": 25,
   "metadata": {
    "execution": {
     "iopub.execute_input": "2020-06-13T10:23:16.111590Z",
     "iopub.status.busy": "2020-06-13T10:23:16.110594Z",
     "iopub.status.idle": "2020-06-13T10:23:16.115549Z",
     "shell.execute_reply": "2020-06-13T10:23:16.115549Z",
     "shell.execute_reply.started": "2020-06-13T10:23:16.110594Z"
    }
   },
   "outputs": [
    {
     "name": "stdout",
     "output_type": "stream",
     "text": [
      "11\n"
     ]
    }
   ],
   "source": [
    "a = 107\n",
    "b = a & 0x0f\n",
    "print(b)"
   ]
  },
  {
   "cell_type": "markdown",
   "metadata": {},
   "source": [
    "## 074 1바이트에서 상위 4비트 추출하기\n",
    "- 비트연산을 이용해 1바이트에서 상위 4비트 값을 얻는 방법에 대해 학습"
   ]
  },
  {
   "cell_type": "code",
   "execution_count": 26,
   "metadata": {
    "execution": {
     "iopub.execute_input": "2020-06-13T10:24:58.062643Z",
     "iopub.status.busy": "2020-06-13T10:24:58.062643Z",
     "iopub.status.idle": "2020-06-13T10:24:58.065661Z",
     "shell.execute_reply": "2020-06-13T10:24:58.065661Z",
     "shell.execute_reply.started": "2020-06-13T10:24:58.062643Z"
    }
   },
   "outputs": [
    {
     "name": "stdout",
     "output_type": "stream",
     "text": [
      "6\n"
     ]
    }
   ],
   "source": [
    "a = 107\n",
    "b = (a >> 4) & 0x0f\n",
    "print(b)"
   ]
  },
  {
   "cell_type": "markdown",
   "metadata": {
    "execution": {
     "iopub.execute_input": "2020-06-13T10:28:41.636854Z",
     "iopub.status.busy": "2020-06-13T10:28:41.635857Z",
     "iopub.status.idle": "2020-06-13T10:28:41.642839Z",
     "shell.execute_reply": "2020-06-13T10:28:41.641841Z",
     "shell.execute_reply.started": "2020-06-13T10:28:41.636854Z"
    }
   },
   "source": [
    "## 075 문자열에서 특정 위치의 문자 얻기\n",
    "- 문자열에서 지정된 위치에 있는 문자를 얻는 방법에 대해 학습"
   ]
  },
  {
   "cell_type": "code",
   "execution_count": 29,
   "metadata": {
    "execution": {
     "iopub.execute_input": "2020-06-13T10:29:36.818570Z",
     "iopub.status.busy": "2020-06-13T10:29:36.818570Z",
     "iopub.status.idle": "2020-06-13T10:29:36.822559Z",
     "shell.execute_reply": "2020-06-13T10:29:36.822559Z",
     "shell.execute_reply.started": "2020-06-13T10:29:36.818570Z"
    }
   },
   "outputs": [
    {
     "name": "stdout",
     "output_type": "stream",
     "text": [
      "e\n",
      "리\n"
     ]
    }
   ],
   "source": [
    "txt1 = 'A tale that was not right'\n",
    "txt2 = '이 또한 지나가리라'\n",
    "print(txt1[5])\n",
    "print(txt2[-2])"
   ]
  },
  {
   "cell_type": "markdown",
   "metadata": {},
   "source": [
    "## 076 문자열에서 지정한 구간의 문자열 얻기\n",
    "- 문자열에서 특정 구간에 있는 문자열을 얻는 방법에 대해 학습"
   ]
  },
  {
   "cell_type": "code",
   "execution_count": 30,
   "metadata": {
    "execution": {
     "iopub.execute_input": "2020-06-13T10:31:31.752788Z",
     "iopub.status.busy": "2020-06-13T10:31:31.752788Z",
     "iopub.status.idle": "2020-06-13T10:31:31.758772Z",
     "shell.execute_reply": "2020-06-13T10:31:31.758772Z",
     "shell.execute_reply.started": "2020-06-13T10:31:31.752788Z"
    }
   },
   "outputs": [
    {
     "name": "stdout",
     "output_type": "stream",
     "text": [
      "ale \n",
      "A tale\n",
      "나가리라\n"
     ]
    }
   ],
   "source": [
    "txt1 = 'A tale that was not right'\n",
    "txt2 = '이 또한 지나가리라'\n",
    "print(txt1[3:7])\n",
    "print(txt1[:6])\n",
    "print(txt2[-4:])"
   ]
  },
  {
   "cell_type": "code",
   "execution_count": 32,
   "metadata": {
    "execution": {
     "iopub.execute_input": "2020-06-13T10:32:07.271041Z",
     "iopub.status.busy": "2020-06-13T10:32:07.271041Z",
     "iopub.status.idle": "2020-06-13T10:32:07.276034Z",
     "shell.execute_reply": "2020-06-13T10:32:07.276034Z",
     "shell.execute_reply.started": "2020-06-13T10:32:07.271041Z"
    }
   },
   "outputs": [
    {
     "name": "stdout",
     "output_type": "stream",
     "text": [
      "p\n",
      "py\n",
      "pyt\n",
      "pyth\n",
      "pytho\n",
      "python\n"
     ]
    }
   ],
   "source": [
    "txt = 'python'\n",
    "for i in range(len(txt)):\n",
    "    print(txt[:i+1])"
   ]
  },
  {
   "cell_type": "markdown",
   "metadata": {},
   "source": [
    "## 077 문자열에서 홀수 번째 문자만 추출하기\n",
    "- 문자열에서 홀수 번째 문자만 추출하여 새로운 문자를 만드는 방법에 대해 학습"
   ]
  },
  {
   "cell_type": "code",
   "execution_count": 33,
   "metadata": {
    "execution": {
     "iopub.execute_input": "2020-06-13T10:33:42.200704Z",
     "iopub.status.busy": "2020-06-13T10:33:42.200704Z",
     "iopub.status.idle": "2020-06-13T10:33:42.204679Z",
     "shell.execute_reply": "2020-06-13T10:33:42.204679Z",
     "shell.execute_reply.started": "2020-06-13T10:33:42.200704Z"
    }
   },
   "outputs": [
    {
     "name": "stdout",
     "output_type": "stream",
     "text": [
      "abcdefghijk\n"
     ]
    }
   ],
   "source": [
    "txt = 'aAbBcCdDeEfFgGhHiIjJkK'\n",
    "ret = txt[::2]\n",
    "print(ret)"
   ]
  },
  {
   "cell_type": "code",
   "execution_count": 34,
   "metadata": {
    "execution": {
     "iopub.execute_input": "2020-06-13T10:34:03.959297Z",
     "iopub.status.busy": "2020-06-13T10:34:03.958299Z",
     "iopub.status.idle": "2020-06-13T10:34:03.963291Z",
     "shell.execute_reply": "2020-06-13T10:34:03.963291Z",
     "shell.execute_reply.started": "2020-06-13T10:34:03.958299Z"
    }
   },
   "outputs": [
    {
     "name": "stdout",
     "output_type": "stream",
     "text": [
      "ABCDEFGHIJK\n"
     ]
    }
   ],
   "source": [
    "ret = txt[1::2]\n",
    "print(ret)"
   ]
  },
  {
   "cell_type": "markdown",
   "metadata": {},
   "source": [
    "## 078 문자열을 거꾸로 만들기\n",
    "- 주어진 문자열과 거꾸로 된 문자열을 만드는 방법에 대해 학습"
   ]
  },
  {
   "cell_type": "code",
   "execution_count": 35,
   "metadata": {
    "execution": {
     "iopub.execute_input": "2020-06-13T10:35:13.454511Z",
     "iopub.status.busy": "2020-06-13T10:35:13.454511Z",
     "iopub.status.idle": "2020-06-13T10:35:13.458535Z",
     "shell.execute_reply": "2020-06-13T10:35:13.458535Z",
     "shell.execute_reply.started": "2020-06-13T10:35:13.454511Z"
    }
   },
   "outputs": [
    {
     "name": "stdout",
     "output_type": "stream",
     "text": [
      "kjihgfedcba\n"
     ]
    }
   ],
   "source": [
    "txt = 'abcdefghijk'\n",
    "ret = txt[::-1]\n",
    "print(ret)"
   ]
  },
  {
   "cell_type": "code",
   "execution_count": 37,
   "metadata": {
    "execution": {
     "iopub.execute_input": "2020-06-13T10:35:30.819817Z",
     "iopub.status.busy": "2020-06-13T10:35:30.819817Z",
     "iopub.status.idle": "2020-06-13T10:35:30.823806Z",
     "shell.execute_reply": "2020-06-13T10:35:30.823806Z",
     "shell.execute_reply.started": "2020-06-13T10:35:30.819817Z"
    }
   },
   "outputs": [
    {
     "name": "stdout",
     "output_type": "stream",
     "text": [
      "kigeca\n"
     ]
    }
   ],
   "source": [
    "ret = txt[::-2]\n",
    "print(ret)"
   ]
  },
  {
   "cell_type": "code",
   "execution_count": 38,
   "metadata": {
    "execution": {
     "iopub.execute_input": "2020-06-13T10:35:39.630293Z",
     "iopub.status.busy": "2020-06-13T10:35:39.630293Z",
     "iopub.status.idle": "2020-06-13T10:35:39.635323Z",
     "shell.execute_reply": "2020-06-13T10:35:39.634303Z",
     "shell.execute_reply.started": "2020-06-13T10:35:39.630293Z"
    }
   },
   "outputs": [
    {
     "name": "stdout",
     "output_type": "stream",
     "text": [
      "jhfdb\n"
     ]
    }
   ],
   "source": [
    "ret = txt[-2::-2]\n",
    "print(ret)"
   ]
  },
  {
   "cell_type": "markdown",
   "metadata": {},
   "source": [
    "## 079 두 개의 문자열 합치기\n",
    "- 사용자가 입력한 문자열에 .jpg를 이어 새로운 문자열을 만드는 방법을 학습"
   ]
  },
  {
   "cell_type": "code",
   "execution_count": 2,
   "metadata": {
    "execution": {
     "iopub.execute_input": "2020-06-13T13:26:42.531574Z",
     "iopub.status.busy": "2020-06-13T13:26:42.531574Z",
     "iopub.status.idle": "2020-06-13T13:26:43.018977Z",
     "shell.execute_reply": "2020-06-13T13:26:43.017980Z",
     "shell.execute_reply.started": "2020-06-13T13:26:42.531574Z"
    }
   },
   "outputs": [
    {
     "name": "stdin",
     "output_type": "stream",
     "text": [
      "저장할 파일 이름을 입력하세요 \n"
     ]
    },
    {
     "name": "stdout",
     "output_type": "stream",
     "text": [
      "당신이 저장한 파일은.jpg입니다.\n"
     ]
    }
   ],
   "source": [
    "filename = input('저장할 파일 이름을 입력하세요')\n",
    "filename = filename +'.jpg'\n",
    "display_msg = f'당신이 저장한 파일은{filename}입니다.'\n",
    "print(display_msg)"
   ]
  },
  {
   "cell_type": "markdown",
   "metadata": {},
   "source": [
    "## 080 문자열을 반복해서 새로운 문자열로 만들기\n",
    "- 두개의 문자열을 이어서 새로운 문자열로 만드는 방법을 학습"
   ]
  },
  {
   "cell_type": "code",
   "execution_count": 4,
   "metadata": {
    "execution": {
     "iopub.execute_input": "2020-06-13T13:28:21.737287Z",
     "iopub.status.busy": "2020-06-13T13:28:21.736259Z",
     "iopub.status.idle": "2020-06-13T13:28:21.741245Z",
     "shell.execute_reply": "2020-06-13T13:28:21.741245Z",
     "shell.execute_reply.started": "2020-06-13T13:28:21.737287Z"
    }
   },
   "outputs": [
    {
     "name": "stdout",
     "output_type": "stream",
     "text": [
      "여러분. 화이팅 화이팅 화이팅 !!\n"
     ]
    }
   ],
   "source": [
    "msg1 = '여러분'\n",
    "msg2 = '화이팅 '\n",
    "display_msg = f'{msg1}. {msg2*3}!!'\n",
    "print(display_msg)"
   ]
  },
  {
   "cell_type": "markdown",
   "metadata": {},
   "source": [
    "## 081 문자열에서 특정 문자가 있는지 확인하기\n",
    "- 문자열에 특정 문자가 있는지 없는지 확인하는 방법을 학습"
   ]
  },
  {
   "cell_type": "code",
   "execution_count": 6,
   "metadata": {
    "execution": {
     "iopub.execute_input": "2020-06-13T13:40:11.737111Z",
     "iopub.status.busy": "2020-06-13T13:40:11.737111Z",
     "iopub.status.idle": "2020-06-13T13:40:13.109920Z",
     "shell.execute_reply": "2020-06-13T13:40:13.109920Z",
     "shell.execute_reply.started": "2020-06-13T13:40:11.737111Z"
    }
   },
   "outputs": [
    {
     "name": "stdin",
     "output_type": "stream",
     "text": [
      "임의의 문장을 입력하세요 :  dasdas\n"
     ]
    },
    {
     "name": "stdout",
     "output_type": "stream",
     "text": [
      "당신의 문장에는 a가 있습니다.\n"
     ]
    }
   ],
   "source": [
    "msg = input('임의의 문장을 입력하세요 : ')\n",
    "if 'a' in msg:\n",
    "    print('당신의 문장에는 a가 있습니다.')\n",
    "else:\n",
    "    print('당신의 문장에는 a가 없습니다')"
   ]
  },
  {
   "cell_type": "markdown",
   "metadata": {},
   "source": [
    "## 082 문자열에서 특정 문자열이 있는지 확인하기\n",
    "- 문자열에 특정 문자열이 있는지 없는지 확인하는 방법을 학습"
   ]
  },
  {
   "cell_type": "code",
   "execution_count": 7,
   "metadata": {
    "execution": {
     "iopub.execute_input": "2020-06-13T13:42:28.189673Z",
     "iopub.status.busy": "2020-06-13T13:42:28.189673Z",
     "iopub.status.idle": "2020-06-13T13:42:29.573826Z",
     "shell.execute_reply": "2020-06-13T13:42:29.573826Z",
     "shell.execute_reply.started": "2020-06-13T13:42:28.189673Z"
    }
   },
   "outputs": [
    {
     "name": "stdin",
     "output_type": "stream",
     "text": [
      "임의의 문장을 입력하세요 :  dasda\n"
     ]
    },
    {
     "name": "stdout",
     "output_type": "stream",
     "text": [
      "당신의 문장에는 is가 없습니다\n"
     ]
    }
   ],
   "source": [
    "msg = input('임의의 문장을 입력하세요 : ')\n",
    "if 'is' in msg:\n",
    "    print('당신의 문장에는 is가 있습니다.')\n",
    "else:\n",
    "    print('당신의 문장에는 is가 없습니다')"
   ]
  },
  {
   "cell_type": "markdown",
   "metadata": {},
   "source": [
    "## 083 문자열 길이 구하기\n",
    "- 문자열의 길이를 구하는 방법을 학습"
   ]
  },
  {
   "cell_type": "code",
   "execution_count": 10,
   "metadata": {
    "execution": {
     "iopub.execute_input": "2020-06-13T13:45:13.491481Z",
     "iopub.status.busy": "2020-06-13T13:45:13.490485Z",
     "iopub.status.idle": "2020-06-13T13:45:14.569257Z",
     "shell.execute_reply": "2020-06-13T13:45:14.569257Z",
     "shell.execute_reply.started": "2020-06-13T13:45:13.491481Z"
    }
   },
   "outputs": [
    {
     "name": "stdin",
     "output_type": "stream",
     "text": [
      "임의의 문장을 입력하세요 :  ㅁㄴㅇㅁㄴ\n"
     ]
    },
    {
     "name": "stdout",
     "output_type": "stream",
     "text": [
      "당신이 입력한 문장의 길이는 5개 입니다.\n"
     ]
    }
   ],
   "source": [
    "msg = input('임의의 문장을 입력하세요 : ')\n",
    "msglen = len(msg)\n",
    "\n",
    "#유니코드 형식으로 된 문자열을 바이트로 변환\n",
    "# msglen = len(msg.encode()) \n",
    "print(f'당신이 입력한 문장의 길이는 {msglen}개 입니다.')"
   ]
  },
  {
   "cell_type": "markdown",
   "metadata": {},
   "source": [
    "## 084 문자열이 알파벳인지 검사하기\n",
    "- 문자열의 모든 요소가 알파벳이나 한글과 같은 언어 문자인지 판단하는 방법을 학습"
   ]
  },
  {
   "cell_type": "code",
   "execution_count": 12,
   "metadata": {
    "execution": {
     "iopub.execute_input": "2020-06-13T13:47:41.840408Z",
     "iopub.status.busy": "2020-06-13T13:47:41.839425Z",
     "iopub.status.idle": "2020-06-13T13:47:41.847398Z",
     "shell.execute_reply": "2020-06-13T13:47:41.846391Z",
     "shell.execute_reply.started": "2020-06-13T13:47:41.840408Z"
    }
   },
   "outputs": [
    {
     "name": "stdout",
     "output_type": "stream",
     "text": [
      "True\n",
      "True\n",
      "False\n",
      "False\n"
     ]
    }
   ],
   "source": [
    "txt1 = 'A'\n",
    "txt2 = '안녕'\n",
    "txt3 = 'Warcraft Three' \n",
    "txt4 = '3PO'\n",
    "ret1 = txt1.isalpha()\n",
    "ret2 = txt2.isalpha()\n",
    "ret3 = txt3.isalpha()\n",
    "ret4 = txt4.isalpha()\n",
    "print(ret1)        # True가 출력됨\n",
    "print(ret2)        # True가 출력됨\n",
    "print(ret3)        # False가 출력됨 공백이 있으므로\n",
    "print(ret4)        # False가 출력됨 숫자가 있으므로"
   ]
  },
  {
   "cell_type": "markdown",
   "metadata": {},
   "source": [
    "## 085 문자열이 숫자인지 검사하기\n",
    "- 문자열이 숫자인지 검사하기"
   ]
  },
  {
   "cell_type": "code",
   "execution_count": 14,
   "metadata": {
    "execution": {
     "iopub.execute_input": "2020-06-13T13:51:00.884777Z",
     "iopub.status.busy": "2020-06-13T13:51:00.884777Z",
     "iopub.status.idle": "2020-06-13T13:51:00.889770Z",
     "shell.execute_reply": "2020-06-13T13:51:00.889770Z",
     "shell.execute_reply.started": "2020-06-13T13:51:00.884777Z"
    }
   },
   "outputs": [
    {
     "name": "stdout",
     "output_type": "stream",
     "text": [
      "False\n",
      "False\n",
      "True\n"
     ]
    }
   ],
   "source": [
    "txt1 = '010-1234-5678'\n",
    "txt2 = 'R2D2'\n",
    "txt3 = '1212'\n",
    "ret1 = txt1.isdigit()\n",
    "ret2 = txt2.isdigit()\n",
    "ret3 = txt3.isdigit()\n",
    "print(ret1)      # False가 출력됨 특수문자가 있음\n",
    "print(ret2)      # False가 출력됨 알파벳이 있음\n",
    "print(ret3)      # True가 출력됨 숫자만 있음"
   ]
  },
  {
   "cell_type": "markdown",
   "metadata": {},
   "source": [
    "## 086 문자열이 알파벳 또는 숫자인지 검사하기\n",
    "- 문자열을 구성하는 요소가 언어 문자 또는 숫자 인지 판단하는 방법을 학습"
   ]
  },
  {
   "cell_type": "code",
   "execution_count": 16,
   "metadata": {
    "execution": {
     "iopub.execute_input": "2020-06-13T13:52:49.941955Z",
     "iopub.status.busy": "2020-06-13T13:52:49.940957Z",
     "iopub.status.idle": "2020-06-13T13:52:49.947939Z",
     "shell.execute_reply": "2020-06-13T13:52:49.946942Z",
     "shell.execute_reply.started": "2020-06-13T13:52:49.941955Z"
    }
   },
   "outputs": [
    {
     "name": "stdout",
     "output_type": "stream",
     "text": [
      "False\n",
      "False\n",
      "True\n"
     ]
    }
   ],
   "source": [
    "txt1 = '안녕하세요?'\n",
    "txt2 = '1. Title-제목을 넣으세요'\n",
    "txt3 = '3피오R2D2'\n",
    "ret1 = txt1.isalnum()\n",
    "ret2 = txt2.isalnum ()\n",
    "ret3 = txt3.isalnum ()\n",
    "print(ret1)      # False가 출력됨 특수문자가 있음\n",
    "print(ret2)      # False가 출력됨 특수문자가 있음\n",
    "print(ret3)      # True가 출력됨"
   ]
  },
  {
   "cell_type": "markdown",
   "metadata": {},
   "source": [
    "## 087 문자열에서 대소문자 변환하기\n",
    "- 문자열에 있는 모든 알파벳을 대문자 또는 소문자로 변환하는 방법을 학습"
   ]
  },
  {
   "cell_type": "code",
   "execution_count": 18,
   "metadata": {
    "execution": {
     "iopub.execute_input": "2020-06-13T13:56:51.222706Z",
     "iopub.status.busy": "2020-06-13T13:56:51.221724Z",
     "iopub.status.idle": "2020-06-13T13:56:51.226694Z",
     "shell.execute_reply": "2020-06-13T13:56:51.226694Z",
     "shell.execute_reply.started": "2020-06-13T13:56:51.222706Z"
    }
   },
   "outputs": [
    {
     "name": "stdout",
     "output_type": "stream",
     "text": [
      "A LOT OF THING OCCUR EACH DAY.\n",
      "a lot of thing occur each day.\n"
     ]
    }
   ],
   "source": [
    "txt = 'A lot of Thing occur each day.'\n",
    "ret1 = txt.upper() # 대문자로 변환\n",
    "ret2 = txt.lower() # 소문자로 변환\n",
    "print(ret1)\n",
    "print(ret2)"
   ]
  },
  {
   "cell_type": "markdown",
   "metadata": {},
   "source": [
    "## 088 문자열에서 좌우 공백 제거하기\n",
    "- 문자열의 왼쪽 또는 오른쪽에 있는 공백을 제거하는 방법을 학습"
   ]
  },
  {
   "cell_type": "code",
   "execution_count": 20,
   "metadata": {
    "execution": {
     "iopub.execute_input": "2020-06-13T14:01:06.879388Z",
     "iopub.status.busy": "2020-06-13T14:01:06.879388Z",
     "iopub.status.idle": "2020-06-13T14:01:06.885321Z",
     "shell.execute_reply": "2020-06-13T14:01:06.884349Z",
     "shell.execute_reply.started": "2020-06-13T14:01:06.879388Z"
    }
   },
   "outputs": [
    {
     "name": "stdout",
     "output_type": "stream",
     "text": [
      "< 양쪽에 공백이 있는 문자열입니다. >\n",
      "<양쪽에 공백이 있는 문자열입니다. >\n",
      "< 양쪽에 공백이 있는 문자열입니다.>\n",
      "<양쪽에 공백이 있는 문자열입니다.>\n"
     ]
    }
   ],
   "source": [
    "txt = ' 양쪽에 공백이 있는 문자열입니다. '\n",
    "ret1 = txt.lstrip() # 왼쪽 공백 제거\n",
    "ret2 = txt.rstrip() # 오른쪽 공백 제거\n",
    "ret3 = txt.strip() # 공백 제거\n",
    "\n",
    "print(f'<{txt}>')\n",
    "print(f'<{ret1}>')\n",
    "print(f'<{ret2}>')\n",
    "print(f'<{ret3}>')"
   ]
  },
  {
   "cell_type": "markdown",
   "metadata": {},
   "source": [
    "## 089 문자열을 수치형 자료로 변환하기\n",
    "- 숫자로 된 문자열을 수치형 자료로 변환하는 방법을 학습"
   ]
  },
  {
   "cell_type": "code",
   "execution_count": 24,
   "metadata": {
    "execution": {
     "iopub.execute_input": "2020-06-13T14:03:44.371048Z",
     "iopub.status.busy": "2020-06-13T14:03:44.371048Z",
     "iopub.status.idle": "2020-06-13T14:03:45.777085Z",
     "shell.execute_reply": "2020-06-13T14:03:45.777085Z",
     "shell.execute_reply.started": "2020-06-13T14:03:44.371048Z"
    }
   },
   "outputs": [
    {
     "name": "stdin",
     "output_type": "stream",
     "text": [
      "숫자를 입력하세요 :  13.54\n"
     ]
    },
    {
     "name": "stdout",
     "output_type": "stream",
     "text": [
      "당신이 입력한 숫자는 실수 13.54입니다.\n"
     ]
    }
   ],
   "source": [
    "numstr = input('숫자를 입력하세요 : ')\n",
    "try :\n",
    "    num = int(numstr)\n",
    "    print(f'당신이 입력한 숫자는 정수 {num}입니다.')\n",
    "    \n",
    "except:\n",
    "    try:\n",
    "        num = float(numstr)\n",
    "        print(f'당신이 입력한 숫자는 실수 {num}입니다.')\n",
    "    except:\n",
    "        print('+++ 숫자를 입력하세요. +++')"
   ]
  },
  {
   "cell_type": "markdown",
   "metadata": {},
   "source": [
    "## 090 수치형 자료를 문자열로 변환하기\n",
    "- 정수형 자료나 실수형 자료를 문자열로 변환하는 방법을 학습"
   ]
  },
  {
   "cell_type": "code",
   "execution_count": 25,
   "metadata": {
    "execution": {
     "iopub.execute_input": "2020-06-13T14:05:32.258398Z",
     "iopub.status.busy": "2020-06-13T14:05:32.258398Z",
     "iopub.status.idle": "2020-06-13T14:05:32.263396Z",
     "shell.execute_reply": "2020-06-13T14:05:32.263396Z",
     "shell.execute_reply.started": "2020-06-13T14:05:32.258398Z"
    }
   },
   "outputs": [
    {
     "name": "stdout",
     "output_type": "stream",
     "text": [
      "num1을 문자열로 변환한 값은 1234입니다.\n",
      "num2을 문자열로 변환한 값은 3.14입니다.\n"
     ]
    }
   ],
   "source": [
    "num1 = 1234\n",
    "num2 = 3.14\n",
    "\n",
    "numstr1 = str(num1)\n",
    "numstr2 = str(num2)\n",
    "\n",
    "print(f'num1을 문자열로 변환한 값은 {numstr1}입니다.')\n",
    "print(f'num2을 문자열로 변환한 값은 {numstr2}입니다.')"
   ]
  },
  {
   "cell_type": "markdown",
   "metadata": {
    "execution": {
     "iopub.execute_input": "2020-06-13T14:07:24.705172Z",
     "iopub.status.busy": "2020-06-13T14:07:24.705172Z",
     "iopub.status.idle": "2020-06-13T14:07:24.710159Z",
     "shell.execute_reply": "2020-06-13T14:07:24.710159Z",
     "shell.execute_reply.started": "2020-06-13T14:07:24.705172Z"
    }
   },
   "source": [
    "## 091 문자열에 있는 문자열 개수 구하기\n",
    "- 문자열에 있는 특정문자나 문자열의 개수를 구하는 방법을 학습"
   ]
  },
  {
   "cell_type": "code",
   "execution_count": 29,
   "metadata": {
    "execution": {
     "iopub.execute_input": "2020-06-13T14:08:44.654978Z",
     "iopub.status.busy": "2020-06-13T14:08:44.653965Z",
     "iopub.status.idle": "2020-06-13T14:08:44.660946Z",
     "shell.execute_reply": "2020-06-13T14:08:44.659972Z",
     "shell.execute_reply.started": "2020-06-13T14:08:44.653965Z"
    }
   },
   "outputs": [
    {
     "name": "stdout",
     "output_type": "stream",
     "text": [
      "3\n",
      "2\n",
      "8\n"
     ]
    }
   ],
   "source": [
    "txt = 'A lot of things occur each day. every day'\n",
    "word_count1 = txt.count('o') # o의 갯수를 셈\n",
    "word_count2 = txt.count('day') # day의 갯수를 셈\n",
    "word_count3 = txt.count(' ') # 공백의 이름을 셈\n",
    "\n",
    "print(word_count1)\n",
    "print(word_count2)\n",
    "print(word_count3)"
   ]
  },
  {
   "cell_type": "markdown",
   "metadata": {
    "execution": {
     "iopub.execute_input": "2020-06-13T14:10:32.213428Z",
     "iopub.status.busy": "2020-06-13T14:10:32.213428Z",
     "iopub.status.idle": "2020-06-13T14:10:32.219413Z",
     "shell.execute_reply": "2020-06-13T14:10:32.219413Z",
     "shell.execute_reply.started": "2020-06-13T14:10:32.213428Z"
    }
   },
   "source": [
    "## 092 문자열에서 특정 문자열 위치 찾기\n",
    "- 문자열에서 특정 문자나 문자열의 위치를 찾는 방법을 학습"
   ]
  },
  {
   "cell_type": "code",
   "execution_count": 33,
   "metadata": {
    "execution": {
     "iopub.execute_input": "2020-06-13T14:14:54.035299Z",
     "iopub.status.busy": "2020-06-13T14:14:54.035299Z",
     "iopub.status.idle": "2020-06-13T14:14:54.040286Z",
     "shell.execute_reply": "2020-06-13T14:14:54.040286Z",
     "shell.execute_reply.started": "2020-06-13T14:14:54.035299Z"
    }
   },
   "outputs": [
    {
     "name": "stdout",
     "output_type": "stream",
     "text": [
      "22\n",
      "27\n",
      "38\n"
     ]
    }
   ],
   "source": [
    "txt = 'A lot of things occur each day. every day'\n",
    "offset1 = txt.find('e') # e가 최초로 나타나는 위치의 인덱스\n",
    "offset2 = txt.find('day') # day가 최초로 나타나는 위치의 인덱스\n",
    "offset3 = txt.find('day', 30) # txt의 30번 인덱스 이후부터 day가 위치하는 인덱스\n",
    "\n",
    "print(offset1)\n",
    "print(offset2)\n",
    "print(offset3)"
   ]
  },
  {
   "cell_type": "markdown",
   "metadata": {},
   "source": [
    "## 093 문자열을 특정 문자열로 분리하기\n",
    "- 문자열을 구분자를 기준으로 여러개의 문자열로 분리하는 방법을 학습"
   ]
  },
  {
   "cell_type": "code",
   "execution_count": 36,
   "metadata": {
    "execution": {
     "iopub.execute_input": "2020-06-13T14:19:39.098160Z",
     "iopub.status.busy": "2020-06-13T14:19:39.098160Z",
     "iopub.status.idle": "2020-06-13T14:19:39.103136Z",
     "shell.execute_reply": "2020-06-13T14:19:39.102164Z",
     "shell.execute_reply.started": "2020-06-13T14:19:39.098160Z"
    }
   },
   "outputs": [
    {
     "name": "stdout",
     "output_type": "stream",
     "text": [
      "['http:', '', 'www.naver.com', 'news', 'today=20160831']\n",
      "name -> 홍길동\n",
      "age -> 17\n",
      "sex -> 남자\n",
      "nation -> 조선\n"
     ]
    }
   ],
   "source": [
    "url = 'http://www.naver.com/news/today=20160831'\n",
    "log = 'name:홍길동 age:17 sex:남자 nation:조선'\n",
    "\n",
    "ret1 = url.split('/')\n",
    "print(ret1)\n",
    "\n",
    "ret2 = log.split()\n",
    "for data in ret2:\n",
    "    d1, d2 = data.split(':')\n",
    "    print(f'{d1} -> {d2}')"
   ]
  },
  {
   "cell_type": "markdown",
   "metadata": {},
   "source": [
    "## 094 문자열을 특정 문자열로 결합하기\n",
    "- 문자열이 요소인 리스트를 이용하여 리스트의 각 요소를 특정 문자와 결합하여 새로운 문자열을 만드는 방법을 학습"
   ]
  },
  {
   "cell_type": "code",
   "execution_count": 38,
   "metadata": {
    "execution": {
     "iopub.execute_input": "2020-06-13T14:23:29.571744Z",
     "iopub.status.busy": "2020-06-13T14:23:29.571744Z",
     "iopub.status.idle": "2020-06-13T14:23:29.577739Z",
     "shell.execute_reply": "2020-06-13T14:23:29.576730Z",
     "shell.execute_reply.started": "2020-06-13T14:23:29.571744Z"
    }
   },
   "outputs": [
    {
     "name": "stdout",
     "output_type": "stream",
     "text": [
      "2016/08/26 10:12:11;200;OK;이 또한 지나가리라\n"
     ]
    }
   ],
   "source": [
    "loglist = ['2016/08/26 10:12:11', '200', 'OK', '이 또한 지나가리라']\n",
    "bond = ';'\n",
    "log = bond.join(loglist)\n",
    "print(log)"
   ]
  },
  {
   "cell_type": "markdown",
   "metadata": {},
   "source": [
    "## 095 문자열에서 특정 문자열을 다른 문자열로 바꾸기\n",
    "- 문자열에서 특정문자 또는 문자열을 다른 문자나 문자열로 바꾸는 방법에 대해 학습"
   ]
  },
  {
   "cell_type": "code",
   "execution_count": 41,
   "metadata": {
    "execution": {
     "iopub.execute_input": "2020-06-13T14:26:38.175584Z",
     "iopub.status.busy": "2020-06-13T14:26:38.174586Z",
     "iopub.status.idle": "2020-06-13T14:26:38.180569Z",
     "shell.execute_reply": "2020-06-13T14:26:38.180569Z",
     "shell.execute_reply.started": "2020-06-13T14:26:38.175584Z"
    }
   },
   "outputs": [
    {
     "name": "stdout",
     "output_type": "stream",
     "text": [
      "My password is 0234\n",
      "My password is python234\n",
      "항상 많은 일들이 일어납니다.\n",
      "항상 많은 사건들이 사건어납니다.\n"
     ]
    }
   ],
   "source": [
    "txt = 'My password is 1234'\n",
    "ret1 = txt.replace('1', '0')\n",
    "ret2 = txt.replace('1', 'python')\n",
    "print(ret1)\n",
    "print(ret2)\n",
    "\n",
    "txt = '매일 많은 일들이 일어납니다.'\n",
    "ret3 = txt.replace('매일', '항상')\n",
    "ret4 = ret3.replace('일', '사건')\n",
    "print(ret3)\n",
    "print(ret4)"
   ]
  },
  {
   "cell_type": "markdown",
   "metadata": {},
   "source": [
    "## 096 문자열을 바이트 객체로 바꾸기\n",
    "- 문자열을 2진 스트림 데이터인 바이트 객체로 바꾸는 방법에 대해 학습"
   ]
  },
  {
   "cell_type": "code",
   "execution_count": 42,
   "metadata": {
    "execution": {
     "iopub.execute_input": "2020-06-13T14:28:55.954050Z",
     "iopub.status.busy": "2020-06-13T14:28:55.953053Z",
     "iopub.status.idle": "2020-06-13T14:28:55.960034Z",
     "shell.execute_reply": "2020-06-13T14:28:55.959036Z",
     "shell.execute_reply.started": "2020-06-13T14:28:55.954050Z"
    }
   },
   "outputs": [
    {
     "name": "stdout",
     "output_type": "stream",
     "text": [
      "I love python\n",
      "b'I love python'\n",
      "True\n",
      "False\n"
     ]
    }
   ],
   "source": [
    "u_txt = 'I love python'\n",
    "b_txt = u_txt.encode()\n",
    "print(u_txt)\n",
    "print(b_txt)\n",
    "\n",
    "ret1 = 'I' == u_txt[0]\n",
    "ret2 = 'I' == b_txt[0]\n",
    "print(ret1)    # True가 출력됨\n",
    "print(ret2)    # False가 출력됨"
   ]
  },
  {
   "cell_type": "markdown",
   "metadata": {},
   "source": [
    "## 097 바이트 객체를 문자열로 바꾸기\n",
    "- 2진 스트림 데이터인 바이트 객체를 유니코드 문자열로 바꾸는 방법에 대해 학습"
   ]
  },
  {
   "cell_type": "code",
   "execution_count": 43,
   "metadata": {
    "execution": {
     "iopub.execute_input": "2020-06-13T14:30:36.890732Z",
     "iopub.status.busy": "2020-06-13T14:30:36.890732Z",
     "iopub.status.idle": "2020-06-13T14:30:36.894720Z",
     "shell.execute_reply": "2020-06-13T14:30:36.894720Z",
     "shell.execute_reply.started": "2020-06-13T14:30:36.890732Z"
    }
   },
   "outputs": [
    {
     "name": "stdout",
     "output_type": "stream",
     "text": [
      "A lot of things occur each day.\n"
     ]
    }
   ],
   "source": [
    "b_txt = b'A lot of things occur each day.'\n",
    "u_txt = b_txt.decode()\n",
    "print(u_txt)"
   ]
  },
  {
   "cell_type": "markdown",
   "metadata": {},
   "source": [
    "## 098 문자열을 정렬하기\n",
    "- 문자열을 정렬하는 방법에 대해 학습"
   ]
  },
  {
   "cell_type": "code",
   "execution_count": 45,
   "metadata": {
    "execution": {
     "iopub.execute_input": "2020-06-13T14:33:08.087431Z",
     "iopub.status.busy": "2020-06-13T14:33:08.087431Z",
     "iopub.status.idle": "2020-06-13T14:33:09.353756Z",
     "shell.execute_reply": "2020-06-13T14:33:09.353756Z",
     "shell.execute_reply.started": "2020-06-13T14:33:08.087431Z"
    }
   },
   "outputs": [
    {
     "name": "stdin",
     "output_type": "stream",
     "text": [
      "정렬할 문자열을 입력하세요. :  ㅇㅁㄴㅇㅁㄴㅇ\n"
     ]
    },
    {
     "name": "stdout",
     "output_type": "stream",
     "text": [
      "['ㄴ', 'ㄴ', 'ㅁ', 'ㅁ', 'ㅇ', 'ㅇ', 'ㅇ']\n",
      "['ㅇ', 'ㅇ', 'ㅇ', 'ㅁ', 'ㅁ', 'ㄴ', 'ㄴ']\n",
      "오름차순으로 정렬된 문자열은 ㄴㄴㅁㅁㅇㅇㅇ 입니다.\n",
      "내림차순으로 정렬된 문자열은 ㅇㅇㅇㅁㅁㄴㄴ 입니다.\n"
     ]
    }
   ],
   "source": [
    "strdata = input('정렬할 문자열을 입력하세요. : ')\n",
    "ret1 = sorted(strdata)\n",
    "ret2 = sorted(strdata, reverse=True)\n",
    "print(ret1)\n",
    "print(ret2)\n",
    "\n",
    "ret1 = ''.join(ret1)\n",
    "ret2 = ''.join(ret2)\n",
    "print(f'오름차순으로 정렬된 문자열은 {ret1} 입니다.')\n",
    "print(f'내림차순으로 정렬된 문자열은 {ret2} 입니다.')"
   ]
  }
 ],
 "metadata": {
  "kernelspec": {
   "display_name": "Python 3",
   "language": "python",
   "name": "python3"
  },
  "language_info": {
   "codemirror_mode": {
    "name": "ipython",
    "version": 3
   },
   "file_extension": ".py",
   "mimetype": "text/x-python",
   "name": "python",
   "nbconvert_exporter": "python",
   "pygments_lexer": "ipython3",
   "version": "3.7.6"
  }
 },
 "nbformat": 4,
 "nbformat_minor": 4
}
