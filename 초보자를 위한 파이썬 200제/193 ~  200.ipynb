{
 "cells": [
  {
   "cell_type": "markdown",
   "metadata": {},
   "source": [
    "## 193 에코 서버 만들기\n",
    "- 네트워크로 메시지를 수신하여 메시지 송신자에게 수신한 메세지를 그대로 돌려보내는 서버 프로그램을 작성해보면서 소켓프로그래밍에 대해 이해"
   ]
  },
  {
   "cell_type": "code",
   "execution_count": null,
   "metadata": {
    "execution": {
     "iopub.execute_input": "2020-06-16T04:39:13.816470Z",
     "iopub.status.busy": "2020-06-16T04:39:13.815470Z"
    }
   },
   "outputs": [
    {
     "name": "stdout",
     "output_type": "stream",
     "text": [
      "클라이언트 연결을 기다리는중\n"
     ]
    }
   ],
   "source": [
    "import socket\n",
    "\n",
    "HOST = ''\n",
    "PORT = 9009\n",
    "\n",
    "def runserver():\n",
    "    with socket.socket(socket.AF_INET, socket.SOCK_STREAM) as sock:\n",
    "        sock.bind((HOST,PORT))\n",
    "        sock.listen(1)\n",
    "        print('클라이언트 연결을 기다리는중')\n",
    "        conn, addr = sock.accept()\n",
    "        with conn:\n",
    "            print(f'{addr[0]}과 연결됨')\n",
    "            while conn:\n",
    "                data = conn.recv(1024)\n",
    "                if not data :\n",
    "                    break\n",
    "                print(f'메세지 수신{data.decode()}')\n",
    "                conn.sendall(data)\n",
    "runserver()"
   ]
  },
  {
   "cell_type": "markdown",
   "metadata": {},
   "source": [
    "## 194 에코 클라이언트 만들기\n",
    "- 네트워크로 메시지를 서버로 송신하고 서버로부터 메시지를 그대로 수신하는 클라이언트\n",
    "- 193을 실행 후 194를 명령프롬프트로 실행하여 메세지를 보내면 됨"
   ]
  },
  {
   "cell_type": "code",
   "execution_count": null,
   "metadata": {},
   "outputs": [],
   "source": [
    "import socket\n",
    "\n",
    "HOST = 'localhost'\n",
    "PORT = 9009\n",
    "\n",
    "with socket.socket(socket.AF_INET, socket.SOCK_STREAM) as sock :\n",
    "    sock.connect((HOST, PORT))\n",
    "    msg = input('메시지 입력 : ')\n",
    "    sock.sendall(msg.encode())\n",
    "    data = sock.recv(1024)\n",
    "\n",
    "print(f'에코 서버로 받은 데이터 [{data.decode()}]')"
   ]
  },
  {
   "cell_type": "markdown",
   "metadata": {},
   "source": [
    "## 195 에코서버 만들기\n",
    "- socketserver를 이용하여 기능이 향상된 에코서버를 만듬"
   ]
  },
  {
   "cell_type": "code",
   "execution_count": 12,
   "metadata": {
    "execution": {
     "iopub.execute_input": "2020-06-16T05:32:56.250136Z",
     "iopub.status.busy": "2020-06-16T05:32:56.250136Z",
     "iopub.status.idle": "2020-06-16T05:36:20.538649Z",
     "shell.execute_reply": "2020-06-16T05:36:20.538649Z",
     "shell.execute_reply.started": "2020-06-16T05:32:56.250136Z"
    },
    "scrolled": true
   },
   "outputs": [
    {
     "name": "stdout",
     "output_type": "stream",
     "text": [
      "+++에코 서버를 시작합니다.\n",
      "+++에코 서버를 끝내려면 Ctrl + C를 누르세요.\n",
      "[127.0.0.1에 연결됨]\n",
      "[안녕하세요]\n",
      "[하이루]\n",
      "[오 계삭나옴]\n",
      "[신기방기]\n",
      "[quit]\n",
      "[127.0.0.1]사용자에 의해 중단\n",
      "+++ 에코 서버를 종료 합니다.\n"
     ]
    }
   ],
   "source": [
    "import socketserver\n",
    "\n",
    "HOST = ''\n",
    "PORT = 9009\n",
    "\n",
    "class MyTcpHandler(socketserver.BaseRequestHandler):\n",
    "    # 이 클래스는 서버 하나당 단 한번 초기화 됩니다.\n",
    "    # handle 메소드에 클라이언트 연결 처리를 위한 로직을 구현합니다.\n",
    "    \n",
    "    def handle(self):\n",
    "        print(f'[{self.client_address[0]}에 연결됨]')\n",
    "        \n",
    "        try :\n",
    "            while True:\n",
    "                self.data = self.request.recv(1024)\n",
    "                if self.data.decode() == '/quit':\n",
    "                    print(f'[{self.client_address[0]}]사용자에 의해 중단')\n",
    "                    return\n",
    "                \n",
    "                print(f'[{self.data.decode()}]')\n",
    "                self.request.sendall(self.data)\n",
    "        except Exception as e:\n",
    "            print(e)\n",
    "            \n",
    "def runserver():\n",
    "    print('+++에코 서버를 시작합니다.')\n",
    "    print('+++에코 서버를 끝내려면 Ctrl + C를 누르세요.')\n",
    "\n",
    "    try:\n",
    "        server = socketserver.TCPServer((HOST,PORT), MyTcpHandler)\n",
    "        server.serve_forever()\n",
    "    except KeyboardInterrupt :\n",
    "        print('+++ 에코 서버를 종료 합니다.')\n",
    "            \n",
    "runserver()"
   ]
  },
  {
   "cell_type": "markdown",
   "metadata": {},
   "source": [
    "## 196 에코 클라이언트 만들기\n",
    "- 사용자가 '/quit'를 입력할때까지 동작하는 에코 클라이언트를 작성\n",
    "- 195 에코서버를 실행하고 명령프롬프트에서 196을 실행하면 됨."
   ]
  },
  {
   "cell_type": "code",
   "execution_count": 10,
   "metadata": {
    "execution": {
     "iopub.execute_input": "2020-06-16T05:31:45.248096Z",
     "iopub.status.busy": "2020-06-16T05:31:45.247110Z",
     "iopub.status.idle": "2020-06-16T05:31:45.251088Z",
     "shell.execute_reply": "2020-06-16T05:31:45.251088Z",
     "shell.execute_reply.started": "2020-06-16T05:31:45.248096Z"
    }
   },
   "outputs": [],
   "source": [
    "import socket\n",
    "\n",
    "HOST = 'localhost'\n",
    "PORT = 9009\n",
    "\n",
    "with socket.socket(socket.AF_INET, socket.SOCK_STREAM) as sock:\n",
    "    sock.connect((HOST, PORT))\n",
    "    \n",
    "    while True:\n",
    "        msg = input('메시지 입력하세요 : ')\n",
    "        if msg == '/quit':\n",
    "            sock.sendall(msg.encode())\n",
    "            break\n",
    "\n",
    "        sock.sendall(msg.encode())\n",
    "        data = sock.recv(1024)\n",
    "        print(f'에코 서버로 부터 받은 데이터[{data.decode()}]')\n",
    "    \n",
    "print('클라이언트 종료')"
   ]
  },
  {
   "cell_type": "markdown",
   "metadata": {},
   "source": [
    "## 197 파일 송신 프로그램 만들기\n",
    "- 클라이언트가 요청하는 파일을 클라이언트로 전송하는 서버 프로그램을 작성"
   ]
  },
  {
   "cell_type": "code",
   "execution_count": 18,
   "metadata": {
    "execution": {
     "iopub.execute_input": "2020-06-16T05:53:23.497975Z",
     "iopub.status.busy": "2020-06-16T05:53:23.497975Z",
     "iopub.status.idle": "2020-06-16T05:54:07.497504Z",
     "shell.execute_reply": "2020-06-16T05:54:07.494512Z",
     "shell.execute_reply.started": "2020-06-16T05:53:23.497975Z"
    }
   },
   "outputs": [
    {
     "name": "stdout",
     "output_type": "stream",
     "text": [
      "+++ 파일 서버를 시작합니다.\n",
      "+++ 파일 서버를 끝내려면 Ctrl + C를 누르세요.\n",
      "연결 됨 : [127.0.0.1]\n",
      "연결 됨 : [127.0.0.1]\n",
      "파일 [access_log.txt] 전송 시작..\n",
      "전송완료 : [access_log.txt], 전송량 : [50406]\n",
      "+++ 파일 서버를 종료합니다.\n"
     ]
    }
   ],
   "source": [
    "import socketserver\n",
    "from os.path import exists\n",
    "\n",
    "HOST =''\n",
    "PORT = 9009\n",
    "\n",
    "class MyTcpHandler(socketserver.BaseRequestHandler):\n",
    "    def handle(self):\n",
    "        data_trasferred = 0\n",
    "        print(f'연결 됨 : [{self.client_address[0]}]')\n",
    "        filename = self.request.recv(1024)\n",
    "        filename = filename.decode()\n",
    "        \n",
    "        if not exists(filename):\n",
    "            return\n",
    "        \n",
    "        print(f'파일 [{filename}] 전송 시작..')\n",
    "        with open(filename, 'rb') as f:\n",
    "            try :\n",
    "                data = f.read(1024)\n",
    "                while data :\n",
    "                    data_trasferred +=self.request.send(data)\n",
    "                    data = f.read(1024)\n",
    "                    \n",
    "            except Exception as e:\n",
    "                print(e)\n",
    "                \n",
    "        print(f'전송완료 : [{filename}], 전송량 : [{data_trasferred}]')\n",
    "\n",
    "def runserver():\n",
    "    print('+++ 파일 서버를 시작합니다.')\n",
    "    print('+++ 파일 서버를 끝내려면 Ctrl + C를 누르세요.')\n",
    "    \n",
    "    try:\n",
    "        server = socketserver.TCPServer((HOST,PORT), MyTcpHandler)\n",
    "        server.serve_forever()\n",
    "    except KeyboardInterrupt :\n",
    "        print('+++ 파일 서버를 종료합니다.')\n",
    "        \n",
    "runserver()"
   ]
  },
  {
   "cell_type": "markdown",
   "metadata": {},
   "source": [
    "## 198 파일 수신 프로그램 만들기\n",
    "- 서버로부터 파일을 다운로드 받는 클라이언트 프로그램을 작성"
   ]
  },
  {
   "cell_type": "code",
   "execution_count": 19,
   "metadata": {
    "execution": {
     "iopub.execute_input": "2020-06-16T05:54:12.951175Z",
     "iopub.status.busy": "2020-06-16T05:54:12.951175Z",
     "iopub.status.idle": "2020-06-16T05:54:12.954206Z",
     "shell.execute_reply": "2020-06-16T05:54:12.954206Z",
     "shell.execute_reply.started": "2020-06-16T05:54:12.951175Z"
    }
   },
   "outputs": [],
   "source": [
    "import socket\n",
    "\n",
    "HOST = 'localhost'\n",
    "PORT = 9009\n",
    "\n",
    "def getfilefromserver(filename):\n",
    "    data_trasferred = 0\n",
    "    \n",
    "    with socket.socket(socket.AF_INET, socket.SOCK_STREAM) as sock:\n",
    "        sock.connect((HOST, PORT))\n",
    "        sock.sendall(filename.encode())\n",
    "        \n",
    "        data = sock.recv(1024)\n",
    "        if not data :\n",
    "            print(f'{filename} : 서버에 존재하지 않거나 전송중 오류 발생')\n",
    "            return\n",
    "        \n",
    "        with open('download/' + filename, 'wb') as f:\n",
    "            try:\n",
    "                while data:\n",
    "                    f.write(data)\n",
    "                    data_trasferred += len(data)\n",
    "                    data = sock.recv(1024)\n",
    "            except Exception as e:\n",
    "                print(e)\n",
    "                \n",
    "    print(f'파일[{filename} 전송종료, 전송량[{data_trasferred}]]')\n",
    "\n",
    "filename = input('다운로드 받을 파일 이름을 입력하세요 :')\n",
    "getfilefromserver(filename)"
   ]
  },
  {
   "cell_type": "markdown",
   "metadata": {},
   "source": [
    "## 199 채팅 서버 만들기\n",
    "- 동시에 다수의 사용자가 대화 가능한 간단한 채팅 서버를 만들기"
   ]
  },
  {
   "cell_type": "code",
   "execution_count": 28,
   "metadata": {
    "execution": {
     "iopub.execute_input": "2020-06-16T07:35:59.325222Z",
     "iopub.status.busy": "2020-06-16T07:35:59.325222Z",
     "iopub.status.idle": "2020-06-16T07:40:49.901267Z",
     "shell.execute_reply": "2020-06-16T07:40:49.899272Z",
     "shell.execute_reply.started": "2020-06-16T07:35:59.325222Z"
    }
   },
   "outputs": [
    {
     "name": "stdout",
     "output_type": "stream",
     "text": [
      "+++채팅 서버를 시작합니다.\n",
      "+++채팅 서버를 종료하려면 Ctrl + C를 누르세요.\n",
      "[127.0.0.1]에 연결됨\n",
      "+++ 대화 참여자 수 : [1]\n",
      "하이요\n",
      "[127.0.0.1]에 연결됨\n",
      "+++ 대화 참여자 수 : [2]\n",
      "하이\n",
      "[127.0.0.1]에 연결됨\n",
      "+++ 대화 참여자 수 : [3]\n",
      "ㅇㅇㅇㅇㅇㅇ\n",
      "이게 아닌가?\n",
      "ㅇㅇㅇㅇㅇ\n",
      "ㅇㅇㅇ\n",
      "왜 한번에 안나오지\n",
      "오 나오는군..\n",
      "ㅇ그렇네요\n",
      "/quit\n",
      "+++ 대화 참여자 수 : [2]\n",
      "[127.0.0.1] 접속 종료\n",
      "/ㅂquioe\n",
      "/quit\n",
      "+++ 대화 참여자 수 : [1]\n",
      "[127.0.0.1] 접속 종료\n",
      "ㅂ\n",
      "/벼ㅑㅅ\n",
      "/quit\n",
      "+++ 대화 참여자 수 : [0]\n",
      "[127.0.0.1] 접속 종료\n",
      "+++채팅 서버를 종료 합니다.\n"
     ]
    }
   ],
   "source": [
    "import socketserver\n",
    "import threading\n",
    "\n",
    "HOST = ''\n",
    "PORT = 9009\n",
    "lock = threading.Lock()\n",
    "\n",
    "class UserManager:\n",
    "    def __init__(self):\n",
    "        self.users = {}\n",
    "    \n",
    "    def adduser(self, username, conn, addr):\n",
    "        if username in self.users:\n",
    "            conn.send('이미 등록된 사용자 입니다.\\n'.encode())\n",
    "            return None\n",
    "        \n",
    "        # 새로운 사용자를 등록\n",
    "        lock.acquire()\n",
    "        self.users[username] = (conn, addr)\n",
    "        lock.release()\n",
    "        \n",
    "        self.sendmessagetoall(f'[{username}]님이 입장하셨습니다.')\n",
    "        print(f'+++ 대화 참여자 수 : [{len(self.users)}]')\n",
    "        \n",
    "        return username\n",
    "    \n",
    "    def removeuser(self, username):\n",
    "        if username not in self.users:\n",
    "            return\n",
    "        lock.acquire()\n",
    "        del self.users[username]\n",
    "        lock.release()\n",
    "        \n",
    "        self.sendmessagetoall(f'[{username}]님이 퇴장했습니다.')\n",
    "        print(f'+++ 대화 참여자 수 : [{len(self.users)}]')\n",
    "        \n",
    "    def messagehandler(self, username, msg):\n",
    "        if msg[0] != '/':\n",
    "            self.sendmessagetoall(f'[{username}] : {msg}')\n",
    "            return\n",
    "        \n",
    "        if msg.strip() == '/quit':\n",
    "            self.removeuser(username)\n",
    "            return -1\n",
    "        \n",
    "    def sendmessagetoall(self, msg):\n",
    "        for conn, addr in self.users.values():\n",
    "            conn.send(msg.encode())\n",
    "            \n",
    "class MyTcpHandler(socketserver.BaseRequestHandler):\n",
    "    userman = UserManager()\n",
    "    \n",
    "    def handle(self):\n",
    "        print(f'[{self.client_address[0]}]에 연결됨')\n",
    "        \n",
    "        try:\n",
    "            username = self.registerusername()\n",
    "            msg = self.request.recv(1024)\n",
    "            while msg:\n",
    "                print(msg.decode())\n",
    "                if self.userman.messagehandler(username, msg.decode()) == -1:\n",
    "                    self.request.close()\n",
    "                    break\n",
    "                msg = self.request.recv(1024)\n",
    "        except Exception as e:\n",
    "            print(e)\n",
    "            \n",
    "        print(f'[{self.client_address[0]}] 접속 종료')\n",
    "        self.userman.removeuser(username)\n",
    "        \n",
    "    def registerusername(self):\n",
    "        while True:\n",
    "            self.request.send('로그인ID:'.encode())\n",
    "            username = self.request.recv(1024)\n",
    "            username = username.decode().strip()\n",
    "            if self.userman.adduser(username, self.request, self.client_address):\n",
    "                return username\n",
    "            \n",
    "class ChatingServer(socketserver.ThreadingMixIn, socketserver.TCPServer):\n",
    "    pass\n",
    "\n",
    "def runserver():\n",
    "    print('+++채팅 서버를 시작합니다.')\n",
    "    print('+++채팅 서버를 종료하려면 Ctrl + C를 누르세요.')\n",
    "    \n",
    "    try :\n",
    "        server = ChatingServer((HOST, PORT), MyTcpHandler)\n",
    "        server.serve_forever()\n",
    "        \n",
    "    except KeyboardInterrupt:\n",
    "        print('+++채팅 서버를 종료 합니다.')\n",
    "        server.shutdown()\n",
    "        server.server_close()\n",
    "        \n",
    "runserver()"
   ]
  },
  {
   "cell_type": "markdown",
   "metadata": {},
   "source": [
    "## 200 채팅 클라이언트 만들기\n",
    "- 채팅 서버와 연결된 다수의 사용자와 채팅이 가능한 클라이언트를 생성"
   ]
  },
  {
   "cell_type": "code",
   "execution_count": 22,
   "metadata": {
    "execution": {
     "iopub.execute_input": "2020-06-16T07:32:39.961186Z",
     "iopub.status.busy": "2020-06-16T07:32:39.960186Z",
     "iopub.status.idle": "2020-06-16T07:32:41.984545Z",
     "shell.execute_reply": "2020-06-16T07:32:41.983544Z",
     "shell.execute_reply.started": "2020-06-16T07:32:39.961186Z"
    }
   },
   "outputs": [
    {
     "ename": "ConnectionRefusedError",
     "evalue": "[WinError 10061] 대상 컴퓨터에서 연결을 거부했으므로 연결하지 못했습니다",
     "output_type": "error",
     "traceback": [
      "\u001b[1;31m---------------------------------------------------------------------------\u001b[0m",
      "\u001b[1;31mConnectionRefusedError\u001b[0m                    Traceback (most recent call last)",
      "\u001b[1;32m<ipython-input-22-430ae48d2e36>\u001b[0m in \u001b[0;36m<module>\u001b[1;34m\u001b[0m\n\u001b[0;32m     29\u001b[0m             \u001b[0msock\u001b[0m\u001b[1;33m.\u001b[0m\u001b[0msend\u001b[0m\u001b[1;33m(\u001b[0m\u001b[0mmsg\u001b[0m\u001b[1;33m.\u001b[0m\u001b[0mencode\u001b[0m\u001b[1;33m(\u001b[0m\u001b[1;33m)\u001b[0m\u001b[1;33m)\u001b[0m\u001b[1;33m\u001b[0m\u001b[1;33m\u001b[0m\u001b[0m\n\u001b[0;32m     30\u001b[0m \u001b[1;33m\u001b[0m\u001b[0m\n\u001b[1;32m---> 31\u001b[1;33m \u001b[0mrunchat\u001b[0m\u001b[1;33m(\u001b[0m\u001b[1;33m)\u001b[0m\u001b[1;33m\u001b[0m\u001b[1;33m\u001b[0m\u001b[0m\n\u001b[0m",
      "\u001b[1;32m<ipython-input-22-430ae48d2e36>\u001b[0m in \u001b[0;36mrunchat\u001b[1;34m()\u001b[0m\n\u001b[0;32m     17\u001b[0m \u001b[1;32mdef\u001b[0m \u001b[0mrunchat\u001b[0m\u001b[1;33m(\u001b[0m\u001b[1;33m)\u001b[0m\u001b[1;33m:\u001b[0m\u001b[1;33m\u001b[0m\u001b[1;33m\u001b[0m\u001b[0m\n\u001b[0;32m     18\u001b[0m     \u001b[1;32mwith\u001b[0m \u001b[0msocket\u001b[0m\u001b[1;33m.\u001b[0m\u001b[0msocket\u001b[0m\u001b[1;33m(\u001b[0m\u001b[0msocket\u001b[0m\u001b[1;33m.\u001b[0m\u001b[0mAF_INET\u001b[0m\u001b[1;33m,\u001b[0m \u001b[0msocket\u001b[0m\u001b[1;33m.\u001b[0m\u001b[0mSOCK_STREAM\u001b[0m\u001b[1;33m)\u001b[0m \u001b[1;32mas\u001b[0m \u001b[0msock\u001b[0m\u001b[1;33m:\u001b[0m\u001b[1;33m\u001b[0m\u001b[1;33m\u001b[0m\u001b[0m\n\u001b[1;32m---> 19\u001b[1;33m         \u001b[0msock\u001b[0m\u001b[1;33m.\u001b[0m\u001b[0mconnect\u001b[0m\u001b[1;33m(\u001b[0m\u001b[1;33m(\u001b[0m\u001b[0mHOST\u001b[0m\u001b[1;33m,\u001b[0m \u001b[0mPORT\u001b[0m\u001b[1;33m)\u001b[0m\u001b[1;33m)\u001b[0m\u001b[1;33m\u001b[0m\u001b[1;33m\u001b[0m\u001b[0m\n\u001b[0m\u001b[0;32m     20\u001b[0m         \u001b[0mt\u001b[0m \u001b[1;33m=\u001b[0m \u001b[0mThread\u001b[0m\u001b[1;33m(\u001b[0m\u001b[0mtarget\u001b[0m\u001b[1;33m=\u001b[0m\u001b[0mrcvmsg\u001b[0m\u001b[1;33m,\u001b[0m \u001b[0margs\u001b[0m \u001b[1;33m=\u001b[0m \u001b[1;33m(\u001b[0m\u001b[0msock\u001b[0m\u001b[1;33m,\u001b[0m\u001b[1;33m)\u001b[0m\u001b[1;33m)\u001b[0m\u001b[1;33m\u001b[0m\u001b[1;33m\u001b[0m\u001b[0m\n\u001b[0;32m     21\u001b[0m         \u001b[0mt\u001b[0m\u001b[1;33m.\u001b[0m\u001b[0mdaemon\u001b[0m \u001b[1;33m=\u001b[0m \u001b[1;32mTrue\u001b[0m\u001b[1;33m\u001b[0m\u001b[1;33m\u001b[0m\u001b[0m\n",
      "\u001b[1;31mConnectionRefusedError\u001b[0m: [WinError 10061] 대상 컴퓨터에서 연결을 거부했으므로 연결하지 못했습니다"
     ]
    }
   ],
   "source": [
    "import socket\n",
    "from threading import Thread\n",
    "\n",
    "HOST = 'localhost'\n",
    "PORT = 9009\n",
    "\n",
    "def rcvmsg(sock):\n",
    "    while True:\n",
    "        try:\n",
    "            data = sock.recv(1024)\n",
    "            if not data:\n",
    "                break\n",
    "            print(data.decode())\n",
    "        except:\n",
    "            pass\n",
    "        \n",
    "def runchat():\n",
    "    with socket.socket(socket.AF_INET, socket.SOCK_STREAM) as sock:\n",
    "        sock.connect((HOST, PORT))\n",
    "        t = Thread(target=rcvmsg, args = (sock,))\n",
    "        t.daemon = True\n",
    "        t.start()\n",
    "        \n",
    "        while True:\n",
    "            msg = input()\n",
    "            if msg =='/quit':\n",
    "                sock.send(msg.encode())\n",
    "                break\n",
    "            sock.send(msg.encode())\n",
    "            \n",
    "runchat()"
   ]
  },
  {
   "cell_type": "code",
   "execution_count": null,
   "metadata": {},
   "outputs": [],
   "source": []
  }
 ],
 "metadata": {
  "kernelspec": {
   "display_name": "Python 3",
   "language": "python",
   "name": "python3"
  },
  "language_info": {
   "codemirror_mode": {
    "name": "ipython",
    "version": 3
   },
   "file_extension": ".py",
   "mimetype": "text/x-python",
   "name": "python",
   "nbconvert_exporter": "python",
   "pygments_lexer": "ipython3",
   "version": "3.7.6"
  }
 },
 "nbformat": 4,
 "nbformat_minor": 4
}
