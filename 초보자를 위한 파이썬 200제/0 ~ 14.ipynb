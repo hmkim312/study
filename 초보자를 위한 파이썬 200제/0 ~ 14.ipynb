{
 "cells": [
  {
   "cell_type": "markdown",
   "metadata": {},
   "source": [
    "## 001 대화식 모드로 프로그래밍 하기"
   ]
  },
  {
   "cell_type": "code",
   "execution_count": 1,
   "metadata": {
    "execution": {
     "iopub.execute_input": "2020-06-12T08:07:35.420567Z",
     "iopub.status.busy": "2020-06-12T08:07:35.419608Z",
     "iopub.status.idle": "2020-06-12T08:07:35.427578Z",
     "shell.execute_reply": "2020-06-12T08:07:35.427578Z",
     "shell.execute_reply.started": "2020-06-12T08:07:35.420567Z"
    }
   },
   "outputs": [
    {
     "name": "stdout",
     "output_type": "stream",
     "text": [
      "안녕하세요\n"
     ]
    }
   ],
   "source": [
    "print('안녕하세요')"
   ]
  },
  {
   "cell_type": "markdown",
   "metadata": {},
   "source": [
    "## 002 텍스트 에디터로 프로그래밍 하기"
   ]
  },
  {
   "cell_type": "code",
   "execution_count": 2,
   "metadata": {
    "execution": {
     "iopub.execute_input": "2020-06-12T08:08:23.961178Z",
     "iopub.status.busy": "2020-06-12T08:08:23.960182Z",
     "iopub.status.idle": "2020-06-12T08:08:23.967171Z",
     "shell.execute_reply": "2020-06-12T08:08:23.966178Z",
     "shell.execute_reply.started": "2020-06-12T08:08:23.961178Z"
    }
   },
   "outputs": [
    {
     "name": "stdout",
     "output_type": "stream",
     "text": [
      "안녕하세요\n",
      "2\n"
     ]
    }
   ],
   "source": [
    "print('안녕하세요')\n",
    "a = 1\n",
    "b = 1\n",
    "print(a+1)"
   ]
  },
  {
   "cell_type": "markdown",
   "metadata": {},
   "source": [
    "## 003 변수명 만들기"
   ]
  },
  {
   "cell_type": "code",
   "execution_count": 4,
   "metadata": {
    "execution": {
     "iopub.execute_input": "2020-06-12T08:11:43.436440Z",
     "iopub.status.busy": "2020-06-12T08:11:43.436440Z",
     "iopub.status.idle": "2020-06-12T08:11:43.440456Z",
     "shell.execute_reply": "2020-06-12T08:11:43.440456Z",
     "shell.execute_reply.started": "2020-06-12T08:11:43.436440Z"
    }
   },
   "outputs": [],
   "source": [
    "# 변수명의 시작은 영문자나 _(언더스코어)로 시작, 대소문자 구별, 숫자와 예약어는 안됨\n",
    "_myname = 'samsjang'\n",
    "my_name = '홍길동'\n",
    "MyName2 = 'Hong gil-dong'\n",
    "counter = 1\n",
    "Counter = 2"
   ]
  },
  {
   "cell_type": "code",
   "execution_count": 1,
   "metadata": {
    "execution": {
     "iopub.execute_input": "2020-06-12T08:13:42.002714Z",
     "iopub.status.busy": "2020-06-12T08:13:42.002714Z",
     "iopub.status.idle": "2020-06-12T08:13:42.009681Z",
     "shell.execute_reply": "2020-06-12T08:13:42.008669Z",
     "shell.execute_reply.started": "2020-06-12T08:13:42.002714Z"
    }
   },
   "outputs": [
    {
     "ename": "SyntaxError",
     "evalue": "invalid syntax (<ipython-input-1-a3fd417c5b1e>, line 1)",
     "output_type": "error",
     "traceback": [
      "\u001b[1;36m  File \u001b[1;32m\"<ipython-input-1-a3fd417c5b1e>\"\u001b[1;36m, line \u001b[1;32m1\u001b[0m\n\u001b[1;33m    and = 1\u001b[0m\n\u001b[1;37m      ^\u001b[0m\n\u001b[1;31mSyntaxError\u001b[0m\u001b[1;31m:\u001b[0m invalid syntax\n"
     ]
    }
   ],
   "source": [
    "# 예약어는 변수로 못씀\n",
    "and = 1"
   ]
  },
  {
   "cell_type": "code",
   "execution_count": 4,
   "metadata": {
    "execution": {
     "iopub.execute_input": "2020-06-12T08:14:28.018799Z",
     "iopub.status.busy": "2020-06-12T08:14:28.017801Z",
     "iopub.status.idle": "2020-06-12T08:14:28.023786Z",
     "shell.execute_reply": "2020-06-12T08:14:28.022802Z",
     "shell.execute_reply.started": "2020-06-12T08:14:28.018799Z"
    },
    "scrolled": true
   },
   "outputs": [
    {
     "data": {
      "text/plain": [
       "['False',\n",
       " 'None',\n",
       " 'True',\n",
       " 'and',\n",
       " 'as',\n",
       " 'assert',\n",
       " 'async',\n",
       " 'await',\n",
       " 'break',\n",
       " 'class',\n",
       " 'continue',\n",
       " 'def',\n",
       " 'del',\n",
       " 'elif',\n",
       " 'else',\n",
       " 'except',\n",
       " 'finally',\n",
       " 'for',\n",
       " 'from',\n",
       " 'global',\n",
       " 'if',\n",
       " 'import',\n",
       " 'in',\n",
       " 'is',\n",
       " 'lambda',\n",
       " 'nonlocal',\n",
       " 'not',\n",
       " 'or',\n",
       " 'pass',\n",
       " 'raise',\n",
       " 'return',\n",
       " 'try',\n",
       " 'while',\n",
       " 'with',\n",
       " 'yield']"
      ]
     },
     "execution_count": 4,
     "metadata": {},
     "output_type": "execute_result"
    }
   ],
   "source": [
    "# 예약어 확인\n",
    "import keyword\n",
    "keyword.kwlist"
   ]
  },
  {
   "cell_type": "markdown",
   "metadata": {},
   "source": [
    "## 004 변수에 값 대입하기"
   ]
  },
  {
   "cell_type": "code",
   "execution_count": 5,
   "metadata": {
    "execution": {
     "iopub.execute_input": "2020-06-12T08:15:29.778996Z",
     "iopub.status.busy": "2020-06-12T08:15:29.777999Z",
     "iopub.status.idle": "2020-06-12T08:15:29.782984Z",
     "shell.execute_reply": "2020-06-12T08:15:29.781995Z",
     "shell.execute_reply.started": "2020-06-12T08:15:29.778996Z"
    }
   },
   "outputs": [],
   "source": [
    "number1 = 1\n",
    "pi = 3.14\n",
    "flag = True\n",
    "char = 'x'\n",
    "chars = 'I love Python'"
   ]
  },
  {
   "cell_type": "code",
   "execution_count": 7,
   "metadata": {
    "execution": {
     "iopub.execute_input": "2020-06-12T08:16:20.901389Z",
     "iopub.status.busy": "2020-06-12T08:16:20.901389Z",
     "iopub.status.idle": "2020-06-12T08:16:20.907375Z",
     "shell.execute_reply": "2020-06-12T08:16:20.907375Z",
     "shell.execute_reply.started": "2020-06-12T08:16:20.901389Z"
    }
   },
   "outputs": [
    {
     "data": {
      "text/plain": [
       "3"
      ]
     },
     "execution_count": 7,
     "metadata": {},
     "output_type": "execute_result"
    }
   ],
   "source": [
    "number = 1 # number에 숫자1을 대입, number는 정수형 자료\n",
    "number + 2 # 1 + 2가 됨"
   ]
  },
  {
   "cell_type": "code",
   "execution_count": 9,
   "metadata": {
    "execution": {
     "iopub.execute_input": "2020-06-12T08:16:44.745379Z",
     "iopub.status.busy": "2020-06-12T08:16:44.745379Z",
     "iopub.status.idle": "2020-06-12T08:16:44.748394Z",
     "shell.execute_reply": "2020-06-12T08:16:44.748394Z",
     "shell.execute_reply.started": "2020-06-12T08:16:44.745379Z"
    }
   },
   "outputs": [
    {
     "data": {
      "text/plain": [
       "'one'"
      ]
     },
     "execution_count": 9,
     "metadata": {},
     "output_type": "execute_result"
    }
   ],
   "source": [
    "number = 'one' # number에 문자열 one을 대입, number는 문자열 자료\n",
    "number"
   ]
  },
  {
   "cell_type": "markdown",
   "metadata": {},
   "source": [
    "## 005 주석처리하기"
   ]
  },
  {
   "cell_type": "code",
   "execution_count": 11,
   "metadata": {
    "execution": {
     "iopub.execute_input": "2020-06-12T08:17:35.627242Z",
     "iopub.status.busy": "2020-06-12T08:17:35.627242Z",
     "iopub.status.idle": "2020-06-12T08:17:35.630257Z",
     "shell.execute_reply": "2020-06-12T08:17:35.630257Z",
     "shell.execute_reply.started": "2020-06-12T08:17:35.627242Z"
    }
   },
   "outputs": [
    {
     "name": "stdout",
     "output_type": "stream",
     "text": [
      "6\n"
     ]
    }
   ],
   "source": [
    "# 주석처리 예시\n",
    "# 만든날짜 : 2020.06.12\n",
    "a = 1\n",
    "b = 5\n",
    "print(a + b)"
   ]
  },
  {
   "cell_type": "code",
   "execution_count": 12,
   "metadata": {
    "execution": {
     "iopub.execute_input": "2020-06-12T08:18:14.089475Z",
     "iopub.status.busy": "2020-06-12T08:18:14.088474Z",
     "iopub.status.idle": "2020-06-12T08:18:14.095463Z",
     "shell.execute_reply": "2020-06-12T08:18:14.094456Z",
     "shell.execute_reply.started": "2020-06-12T08:18:14.088474Z"
    }
   },
   "outputs": [
    {
     "name": "stdout",
     "output_type": "stream",
     "text": [
      "7\n"
     ]
    }
   ],
   "source": [
    "# 삼중 따옴표로 특정 영억 주석 처리\n",
    "\"\"\" a = 1\n",
    "b = 5\n",
    "print(a+b)\n",
    "\"\"\"\n",
    "a = 2\n",
    "b = 5\n",
    "print(a+b)"
   ]
  },
  {
   "cell_type": "markdown",
   "metadata": {},
   "source": [
    "## 006 자료형 개념 배우기"
   ]
  },
  {
   "cell_type": "code",
   "execution_count": 13,
   "metadata": {
    "execution": {
     "iopub.execute_input": "2020-06-12T08:21:27.454321Z",
     "iopub.status.busy": "2020-06-12T08:21:27.454321Z",
     "iopub.status.idle": "2020-06-12T08:21:27.460276Z",
     "shell.execute_reply": "2020-06-12T08:21:27.460276Z",
     "shell.execute_reply.started": "2020-06-12T08:21:27.454321Z"
    }
   },
   "outputs": [],
   "source": [
    "int_data = 1 # 정수 선언\n",
    "float_data = 3.14 # 실수 선언\n",
    "complex_data = 1+5j # 복소수 선언\n",
    "str_data1 = 'I love python' # 문자열 선언(영문)\n",
    "str_data2 = '반갑습니다' # 문자열 선언 (한글)\n",
    "list_data = [1,2,3] # 리스트 선언(한글)\n",
    "tuple_data = (1,2,3) # 튜플 선언\n",
    "dict_data = {0:'False', 1:'True'} # 사전 선언"
   ]
  },
  {
   "cell_type": "markdown",
   "metadata": {},
   "source": [
    "## 007 자료형 출력 개념 배우기(print)"
   ]
  },
  {
   "cell_type": "code",
   "execution_count": 15,
   "metadata": {
    "execution": {
     "iopub.execute_input": "2020-06-12T08:22:56.217177Z",
     "iopub.status.busy": "2020-06-12T08:22:56.217177Z",
     "iopub.status.idle": "2020-06-12T08:22:56.222164Z",
     "shell.execute_reply": "2020-06-12T08:22:56.222164Z",
     "shell.execute_reply.started": "2020-06-12T08:22:56.217177Z"
    }
   },
   "outputs": [
    {
     "name": "stdout",
     "output_type": "stream",
     "text": [
      "200\n",
      "I love Python\n",
      "['a', 'b', 'c']\n",
      "a\n",
      "{'a': 97, 'b': 98}\n",
      "97\n"
     ]
    }
   ],
   "source": [
    "a = 200\n",
    "msg = 'I love Python'\n",
    "list_data = ['a', 'b', 'c']\n",
    "dict_data = {'a': 97, 'b': 98}\n",
    "print(a)\n",
    "print(msg)\n",
    "print(list_data)\n",
    "print(list_data[0])\n",
    "print(dict_data)\n",
    "print(dict_data['a'])"
   ]
  },
  {
   "cell_type": "code",
   "execution_count": 16,
   "metadata": {
    "execution": {
     "iopub.execute_input": "2020-06-12T08:23:32.101771Z",
     "iopub.status.busy": "2020-06-12T08:23:32.101771Z",
     "iopub.status.idle": "2020-06-12T08:23:32.106764Z",
     "shell.execute_reply": "2020-06-12T08:23:32.106764Z",
     "shell.execute_reply.started": "2020-06-12T08:23:32.101771Z"
    }
   },
   "outputs": [
    {
     "name": "stdout",
     "output_type": "stream",
     "text": [
      "# # \n"
     ]
    }
   ],
   "source": [
    "print('# ', end = '')\n",
    "print('# ')"
   ]
  },
  {
   "cell_type": "markdown",
   "metadata": {},
   "source": [
    "## 008 들여쓰기 개념 배우기\n",
    "- 가장 바깥쪽의 실행코드는 들여쓰기 없이 시작해야함\n",
    "- 콜론 다음 라인부터 시작하는 실행코드는 들여쓰기 간격이 모두 동일해야함"
   ]
  },
  {
   "cell_type": "code",
   "execution_count": 18,
   "metadata": {
    "execution": {
     "iopub.execute_input": "2020-06-12T08:24:45.006099Z",
     "iopub.status.busy": "2020-06-12T08:24:45.006099Z",
     "iopub.status.idle": "2020-06-12T08:24:45.011086Z",
     "shell.execute_reply": "2020-06-12T08:24:45.011086Z",
     "shell.execute_reply.started": "2020-06-12T08:24:45.006099Z"
    }
   },
   "outputs": [
    {
     "name": "stdout",
     "output_type": "stream",
     "text": [
      "a가 listdata에 있습니다.\n",
      "['a', 'b', 'c']\n"
     ]
    }
   ],
   "source": [
    "listdata = ['a', 'b', 'c']\n",
    "if 'a' in listdata:\n",
    "    print('a가 listdata에 있습니다.')\n",
    "    print(listdata)\n",
    "else:\n",
    "    print('a가 listdata에 없습니다.')"
   ]
  },
  {
   "cell_type": "markdown",
   "metadata": {},
   "source": [
    "## 009 if문 개념 배우기 1"
   ]
  },
  {
   "cell_type": "code",
   "execution_count": 19,
   "metadata": {
    "execution": {
     "iopub.execute_input": "2020-06-12T08:26:12.323519Z",
     "iopub.status.busy": "2020-06-12T08:26:12.323519Z",
     "iopub.status.idle": "2020-06-12T08:26:12.328475Z",
     "shell.execute_reply": "2020-06-12T08:26:12.328475Z",
     "shell.execute_reply.started": "2020-06-12T08:26:12.323519Z"
    }
   },
   "outputs": [
    {
     "name": "stdout",
     "output_type": "stream",
     "text": [
      "x가 y보다 작습니다.\n"
     ]
    }
   ],
   "source": [
    "x = 1\n",
    "y = 2\n",
    "if x >= y:\n",
    "    print('x가 y보다 크거나 같습니다.')\n",
    "else:\n",
    "    print('x가 y보다 작습니다.')"
   ]
  },
  {
   "cell_type": "markdown",
   "metadata": {},
   "source": [
    "## 010 if문 개념 배우기 2"
   ]
  },
  {
   "cell_type": "code",
   "execution_count": 20,
   "metadata": {
    "execution": {
     "iopub.execute_input": "2020-06-12T08:27:13.719756Z",
     "iopub.status.busy": "2020-06-12T08:27:13.719756Z",
     "iopub.status.idle": "2020-06-12T08:27:13.724754Z",
     "shell.execute_reply": "2020-06-12T08:27:13.724754Z",
     "shell.execute_reply.started": "2020-06-12T08:27:13.719756Z"
    }
   },
   "outputs": [
    {
     "name": "stdout",
     "output_type": "stream",
     "text": [
      "x가 y보다 작습니다.\n"
     ]
    }
   ],
   "source": [
    "x = 1\n",
    "y = 2\n",
    "if x > y:\n",
    "    print('x가 y보다 큽니다.')\n",
    "elif x < y:\n",
    "    print('x가 y보다 작습니다.')\n",
    "else :\n",
    "    print('x와 y가 같습니다.')"
   ]
  },
  {
   "cell_type": "markdown",
   "metadata": {},
   "source": [
    "## 011 for 문 개념 배우기 1"
   ]
  },
  {
   "cell_type": "code",
   "execution_count": 21,
   "metadata": {
    "execution": {
     "iopub.execute_input": "2020-06-12T08:28:29.905086Z",
     "iopub.status.busy": "2020-06-12T08:28:29.905086Z",
     "iopub.status.idle": "2020-06-12T08:28:29.910072Z",
     "shell.execute_reply": "2020-06-12T08:28:29.909074Z",
     "shell.execute_reply.started": "2020-06-12T08:28:29.905086Z"
    }
   },
   "outputs": [
    {
     "name": "stdout",
     "output_type": "stream",
     "text": [
      "1\n",
      "2\n",
      "3\n",
      "4\n",
      "5\n"
     ]
    }
   ],
   "source": [
    "scope = [1,2,3,4,5]\n",
    "for x in scope:\n",
    "    print(x)"
   ]
  },
  {
   "cell_type": "code",
   "execution_count": 22,
   "metadata": {
    "execution": {
     "iopub.execute_input": "2020-06-12T08:28:57.549080Z",
     "iopub.status.busy": "2020-06-12T08:28:57.549080Z",
     "iopub.status.idle": "2020-06-12T08:28:57.555063Z",
     "shell.execute_reply": "2020-06-12T08:28:57.555063Z",
     "shell.execute_reply.started": "2020-06-12T08:28:57.549080Z"
    }
   },
   "outputs": [
    {
     "name": "stdout",
     "output_type": "stream",
     "text": [
      "a\n",
      "b\n",
      "c\n",
      "d\n",
      "e\n",
      "f\n"
     ]
    }
   ],
   "source": [
    "# 문자열을 범위로 지정한 예\n",
    "str = 'abcdef'\n",
    "for c in str:\n",
    "    print(c)"
   ]
  },
  {
   "cell_type": "code",
   "execution_count": 23,
   "metadata": {
    "execution": {
     "iopub.execute_input": "2020-06-12T08:29:15.971225Z",
     "iopub.status.busy": "2020-06-12T08:29:15.971225Z",
     "iopub.status.idle": "2020-06-12T08:29:15.976183Z",
     "shell.execute_reply": "2020-06-12T08:29:15.975223Z",
     "shell.execute_reply.started": "2020-06-12T08:29:15.971225Z"
    }
   },
   "outputs": [
    {
     "name": "stdout",
     "output_type": "stream",
     "text": [
      "1\n",
      "2\n",
      "3\n",
      "4\n",
      "5\n"
     ]
    }
   ],
   "source": [
    "# 리스트를 범위로 지정한 예\n",
    "list = [1,2,3,4,5]\n",
    "for c in list:\n",
    "    print(c)"
   ]
  },
  {
   "cell_type": "code",
   "execution_count": 24,
   "metadata": {
    "execution": {
     "iopub.execute_input": "2020-06-12T08:29:57.864704Z",
     "iopub.status.busy": "2020-06-12T08:29:57.864704Z",
     "iopub.status.idle": "2020-06-12T08:29:57.869690Z",
     "shell.execute_reply": "2020-06-12T08:29:57.869690Z",
     "shell.execute_reply.started": "2020-06-12T08:29:57.864704Z"
    }
   },
   "outputs": [
    {
     "name": "stdout",
     "output_type": "stream",
     "text": [
      "a\n",
      "b\n",
      "c\n"
     ]
    }
   ],
   "source": [
    "# 사전을 범위로 지정한 예\n",
    "ascii_codes = {'a':97,'b':98,'c':99,}\n",
    "for c in ascii_codes:\n",
    "    print(c)"
   ]
  },
  {
   "cell_type": "code",
   "execution_count": 25,
   "metadata": {
    "execution": {
     "iopub.execute_input": "2020-06-12T08:30:17.350730Z",
     "iopub.status.busy": "2020-06-12T08:30:17.350730Z",
     "iopub.status.idle": "2020-06-12T08:30:17.355751Z",
     "shell.execute_reply": "2020-06-12T08:30:17.355751Z",
     "shell.execute_reply.started": "2020-06-12T08:30:17.350730Z"
    }
   },
   "outputs": [
    {
     "name": "stdout",
     "output_type": "stream",
     "text": [
      "0\n",
      "1\n",
      "2\n",
      "3\n",
      "4\n",
      "5\n",
      "6\n",
      "7\n",
      "8\n",
      "9\n"
     ]
    }
   ],
   "source": [
    "# range 함수를 범위로 지정한 예\n",
    "for c in range(10):\n",
    "    print(c)"
   ]
  },
  {
   "cell_type": "markdown",
   "metadata": {
    "execution": {
     "iopub.execute_input": "2020-06-12T08:30:35.260808Z",
     "iopub.status.busy": "2020-06-12T08:30:35.260808Z",
     "iopub.status.idle": "2020-06-12T08:30:35.264824Z",
     "shell.execute_reply": "2020-06-12T08:30:35.264824Z",
     "shell.execute_reply.started": "2020-06-12T08:30:35.260808Z"
    }
   },
   "source": [
    "## 012 for 문 개념 배우기 2"
   ]
  },
  {
   "cell_type": "code",
   "execution_count": 28,
   "metadata": {
    "execution": {
     "iopub.execute_input": "2020-06-12T08:31:12.136700Z",
     "iopub.status.busy": "2020-06-12T08:31:12.136700Z",
     "iopub.status.idle": "2020-06-12T08:31:12.141680Z",
     "shell.execute_reply": "2020-06-12T08:31:12.140690Z",
     "shell.execute_reply.started": "2020-06-12T08:31:12.136700Z"
    }
   },
   "outputs": [
    {
     "name": "stdout",
     "output_type": "stream",
     "text": [
      "1\n",
      "2\n",
      "3\n"
     ]
    }
   ],
   "source": [
    "scope = [1, 2, 3, 4, 5]\n",
    "for x in scope:\n",
    "    print(x)\n",
    "    if x < 3:\n",
    "        continue\n",
    "    else:\n",
    "        break"
   ]
  },
  {
   "cell_type": "markdown",
   "metadata": {},
   "source": [
    "## 013 for 문 개념 배우기 3"
   ]
  },
  {
   "cell_type": "code",
   "execution_count": 30,
   "metadata": {
    "execution": {
     "iopub.execute_input": "2020-06-12T08:32:45.102850Z",
     "iopub.status.busy": "2020-06-12T08:32:45.102850Z",
     "iopub.status.idle": "2020-06-12T08:32:45.106861Z",
     "shell.execute_reply": "2020-06-12T08:32:45.106861Z",
     "shell.execute_reply.started": "2020-06-12T08:32:45.102850Z"
    }
   },
   "outputs": [
    {
     "name": "stdout",
     "output_type": "stream",
     "text": [
      "1\n",
      "2\n",
      "3\n",
      "Perfect\n"
     ]
    }
   ],
   "source": [
    "# for문이 break에 의해 중단됨이 없이 정상적으로 모두 실행되어야만 특정 코드를 실행할 경우 for else를 사용함\n",
    "scope = [1,2,3]\n",
    "for x in scope:\n",
    "    print(x)\n",
    "    #break\n",
    "else:\n",
    "    print('Perfect')"
   ]
  },
  {
   "cell_type": "markdown",
   "metadata": {},
   "source": [
    "## 014 while문 개념 배우기"
   ]
  },
  {
   "cell_type": "code",
   "execution_count": 34,
   "metadata": {
    "execution": {
     "iopub.execute_input": "2020-06-12T08:34:50.836726Z",
     "iopub.status.busy": "2020-06-12T08:34:50.835714Z",
     "iopub.status.idle": "2020-06-12T08:34:50.840710Z",
     "shell.execute_reply": "2020-06-12T08:34:50.840710Z",
     "shell.execute_reply.started": "2020-06-12T08:34:50.836726Z"
    }
   },
   "outputs": [
    {
     "name": "stdout",
     "output_type": "stream",
     "text": [
      "3\n",
      "4\n",
      "5\n",
      "6\n",
      "7\n",
      "8\n"
     ]
    }
   ],
   "source": [
    "x = 0\n",
    "while x < 10:\n",
    "    x = x+1\n",
    "    if x < 3:\n",
    "        continue # while 구문 처음으로 이동하여 반복문을 계속\n",
    "    print(x)\n",
    "    if x > 7:\n",
    "        break # while문 탈출"
   ]
  },
  {
   "cell_type": "code",
   "execution_count": 35,
   "metadata": {
    "execution": {
     "iopub.execute_input": "2020-06-12T08:36:14.390626Z",
     "iopub.status.busy": "2020-06-12T08:36:14.389639Z",
     "iopub.status.idle": "2020-06-12T08:36:14.396605Z",
     "shell.execute_reply": "2020-06-12T08:36:14.396605Z",
     "shell.execute_reply.started": "2020-06-12T08:36:14.390626Z"
    }
   },
   "outputs": [
    {
     "name": "stdout",
     "output_type": "stream",
     "text": [
      "447\n",
      "100128\n"
     ]
    }
   ],
   "source": [
    "# 정부 1부터 n까지 더할떄 그 합이 10만보다 커지게되는 n을 구하는 것\n",
    "x = 1\n",
    "total = 0\n",
    "while True:\n",
    "    total = total + x\n",
    "    if total > 100000:\n",
    "        print(x)\n",
    "        print(total)\n",
    "        break\n",
    "    x = x + 1"
   ]
  },
  {
   "cell_type": "code",
   "execution_count": null,
   "metadata": {},
   "outputs": [],
   "source": []
  }
 ],
 "metadata": {
  "kernelspec": {
   "display_name": "Python 3",
   "language": "python",
   "name": "python3"
  },
  "language_info": {
   "codemirror_mode": {
    "name": "ipython",
    "version": 3
   },
   "file_extension": ".py",
   "mimetype": "text/x-python",
   "name": "python",
   "nbconvert_exporter": "python",
   "pygments_lexer": "ipython3",
   "version": "3.7.6"
  }
 },
 "nbformat": 4,
 "nbformat_minor": 4
}
