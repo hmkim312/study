{
 "cells": [
  {
   "cell_type": "markdown",
   "metadata": {},
   "source": [
    "## 025 비트연산자 이해하기"
   ]
  },
  {
   "cell_type": "code",
   "execution_count": 3,
   "metadata": {
    "execution": {
     "iopub.execute_input": "2020-06-12T16:25:26.478105Z",
     "iopub.status.busy": "2020-06-12T16:25:26.478105Z",
     "iopub.status.idle": "2020-06-12T16:25:26.484098Z",
     "shell.execute_reply": "2020-06-12T16:25:26.484098Z",
     "shell.execute_reply.started": "2020-06-12T16:25:26.478105Z"
    }
   },
   "outputs": [
    {
     "name": "stdout",
     "output_type": "stream",
     "text": [
      "0x60\n",
      "0x63\n",
      "0x3\n",
      "0x30\n",
      "0x184\n"
     ]
    }
   ],
   "source": [
    "bit1 = 0x61\n",
    "bit2 = 0x62\n",
    "print(hex(bit1 & bit2))\n",
    "print(hex(bit1 | bit2))\n",
    "print(hex(bit1 ^ bit2))\n",
    "print(hex(bit1 >> 1))\n",
    "print(hex(bit1 << 2))"
   ]
  },
  {
   "cell_type": "markdown",
   "metadata": {},
   "source": [
    "## 026 시퀀스 자료형 이해하기\n",
    "- 객체가 순서를 가지고 나열되어 있는 시퀀스 자료형을 이해하고, 시퀀스 자료형이 가지는 공통적인 특성을 학습"
   ]
  },
  {
   "cell_type": "code",
   "execution_count": 4,
   "metadata": {
    "execution": {
     "iopub.execute_input": "2020-06-12T16:27:23.518883Z",
     "iopub.status.busy": "2020-06-12T16:27:23.518883Z",
     "iopub.status.idle": "2020-06-12T16:27:23.523849Z",
     "shell.execute_reply": "2020-06-12T16:27:23.522850Z",
     "shell.execute_reply.started": "2020-06-12T16:27:23.518883Z"
    }
   },
   "outputs": [],
   "source": [
    "strdata = 'abcde'  # 문자열은 시퀀스 자료형\n",
    "listdata = [1, [2, 3], '안녕'] # 리스트는 시퀀스 자료형\n",
    "tupledata = (100,200,300) # 튜플은 시퀀스 자료형"
   ]
  },
  {
   "cell_type": "markdown",
   "metadata": {
    "execution": {
     "iopub.execute_input": "2020-06-12T16:28:38.514478Z",
     "iopub.status.busy": "2020-06-12T16:28:38.514478Z",
     "iopub.status.idle": "2020-06-12T16:28:38.520462Z",
     "shell.execute_reply": "2020-06-12T16:28:38.519464Z",
     "shell.execute_reply.started": "2020-06-12T16:28:38.514478Z"
    }
   },
   "source": [
    "## 027 시퀀스 자료 인덱싱 이해하기\n",
    "- 시퀀스 자료에서 인덱스를 이용해 멤버를 취하는 방법을 이해"
   ]
  },
  {
   "cell_type": "code",
   "execution_count": 7,
   "metadata": {
    "execution": {
     "iopub.execute_input": "2020-06-12T16:29:59.256251Z",
     "iopub.status.busy": "2020-06-12T16:29:59.256251Z",
     "iopub.status.idle": "2020-06-12T16:29:59.262235Z",
     "shell.execute_reply": "2020-06-12T16:29:59.262235Z",
     "shell.execute_reply.started": "2020-06-12T16:29:59.256251Z"
    }
   },
   "outputs": [
    {
     "name": "stdout",
     "output_type": "stream",
     "text": [
      "i\n",
      "!\n",
      "1\n",
      "[1, 2, 3]\n",
      "3\n"
     ]
    }
   ],
   "source": [
    "strdata = 'Time is money!!'\n",
    "listdata = [1, 2, [1, 2, 3]]\n",
    "print(strdata[5])\n",
    "print(strdata[-2])\n",
    "print(listdata[0])\n",
    "print(listdata[-1])\n",
    "print(listdata[2][-1])"
   ]
  },
  {
   "cell_type": "markdown",
   "metadata": {},
   "source": [
    "## 028 시퀀스 자료 슬라이싱 이해하기\n",
    "- 시퀀스 자료의 일부 범위를 취하는 슬라이싱에 대해 이해하기"
   ]
  },
  {
   "cell_type": "code",
   "execution_count": 8,
   "metadata": {
    "execution": {
     "iopub.execute_input": "2020-06-12T16:30:57.544069Z",
     "iopub.status.busy": "2020-06-12T16:30:57.544069Z",
     "iopub.status.idle": "2020-06-12T16:30:57.550052Z",
     "shell.execute_reply": "2020-06-12T16:30:57.550052Z",
     "shell.execute_reply.started": "2020-06-12T16:30:57.544069Z"
    }
   },
   "outputs": [
    {
     "name": "stdout",
     "output_type": "stream",
     "text": [
      "ime \n",
      "Time is\n",
      "oney!!\n",
      "Time is mone\n",
      "y!!\n",
      "Time is money!!\n",
      "Tm smny!\n"
     ]
    }
   ],
   "source": [
    "strdata = 'Time is money!!'\n",
    "print(strdata[1:5])\n",
    "print(strdata[:7])\n",
    "print(strdata[9:])\n",
    "print(strdata[:-3])\n",
    "print(strdata[-3:])\n",
    "print(strdata[:])\n",
    "print(strdata[::2])"
   ]
  },
  {
   "cell_type": "markdown",
   "metadata": {},
   "source": [
    "## 029 시퀀스 자료 연결 이해하기\n",
    "- 자료형이 같은 시퀀스 자료 두개를 순서있게 연결하는 방법을 이해"
   ]
  },
  {
   "cell_type": "code",
   "execution_count": 10,
   "metadata": {
    "execution": {
     "iopub.execute_input": "2020-06-12T16:33:24.534717Z",
     "iopub.status.busy": "2020-06-12T16:33:24.534717Z",
     "iopub.status.idle": "2020-06-12T16:33:24.538740Z",
     "shell.execute_reply": "2020-06-12T16:33:24.538740Z",
     "shell.execute_reply.started": "2020-06-12T16:33:24.534717Z"
    }
   },
   "outputs": [
    {
     "name": "stdout",
     "output_type": "stream",
     "text": [
      "I love Python\n",
      "I love you\n",
      "[1, 2, 3, 4, 5, 6]\n"
     ]
    }
   ],
   "source": [
    "strdata1 = 'I love '\n",
    "strdata2 = 'Python'\n",
    "strdata3 = 'you'\n",
    "listdata1 = [1, 2, 3]\n",
    "listdata2 = [4, 5, 6]\n",
    "\n",
    "print(strdata1 + strdata2)\n",
    "print(strdata1 + strdata3)\n",
    "print(listdata1 + listdata2)"
   ]
  },
  {
   "cell_type": "markdown",
   "metadata": {},
   "source": [
    "## 030 시퀀스 자료 반복 이해하기\n",
    "- 동일한 시퀀스 자료를 반복 연결하는 방법에 대해 이해 "
   ]
  },
  {
   "cell_type": "code",
   "execution_count": 11,
   "metadata": {
    "execution": {
     "iopub.execute_input": "2020-06-12T16:34:50.933614Z",
     "iopub.status.busy": "2020-06-12T16:34:50.933614Z",
     "iopub.status.idle": "2020-06-12T16:34:50.939591Z",
     "shell.execute_reply": "2020-06-12T16:34:50.938611Z",
     "shell.execute_reply.started": "2020-06-12T16:34:50.933614Z"
    }
   },
   "outputs": [
    {
     "name": "stdout",
     "output_type": "stream",
     "text": [
      "ARMY들이 외칩니다.BTS!BTS!BTS!\n"
     ]
    }
   ],
   "source": [
    "artist = 'BTS!'\n",
    "fan = 'ARMY'\n",
    "dispdata = fan + '들이 외칩니다.' + artist * 3\n",
    "print(dispdata)"
   ]
  },
  {
   "cell_type": "markdown",
   "metadata": {},
   "source": [
    "## 031 시퀀스 자료 크기 이해하기\n",
    "- 시퀀스 자료의 크기에 대해 이해하고 자료의 크기를 구하는 방법을 이해"
   ]
  },
  {
   "cell_type": "code",
   "execution_count": 13,
   "metadata": {
    "execution": {
     "iopub.execute_input": "2020-06-12T16:38:40.316389Z",
     "iopub.status.busy": "2020-06-12T16:38:40.316389Z",
     "iopub.status.idle": "2020-06-12T16:38:40.321376Z",
     "shell.execute_reply": "2020-06-12T16:38:40.320378Z",
     "shell.execute_reply.started": "2020-06-12T16:38:40.316389Z"
    }
   },
   "outputs": [
    {
     "name": "stdout",
     "output_type": "stream",
     "text": [
      "13\n",
      "14\n",
      "5\n",
      "13\n"
     ]
    }
   ],
   "source": [
    "strdata1 = 'I love python'\n",
    "strdata2 = '나는 파이썬을 사랑합니다.'\n",
    "listdata = ['a', 'b', 'c', strdata1, strdata2]\n",
    "print(len(strdata1))\n",
    "print(len(strdata2))\n",
    "print(len(listdata))\n",
    "print(len(listdata[3]))"
   ]
  },
  {
   "cell_type": "markdown",
   "metadata": {},
   "source": [
    "## 032 멤버체크 이해하기\n",
    "- 어떤 값이 시퀀스 자료에 있는지 없는지 확인하는 방법"
   ]
  },
  {
   "cell_type": "code",
   "execution_count": 14,
   "metadata": {
    "execution": {
     "iopub.execute_input": "2020-06-12T16:40:48.959727Z",
     "iopub.status.busy": "2020-06-12T16:40:48.959727Z",
     "iopub.status.idle": "2020-06-12T16:40:48.965716Z",
     "shell.execute_reply": "2020-06-12T16:40:48.965716Z",
     "shell.execute_reply.started": "2020-06-12T16:40:48.959727Z"
    }
   },
   "outputs": [
    {
     "name": "stdout",
     "output_type": "stream",
     "text": [
      "False\n",
      "True\n",
      "True\n",
      "False\n"
     ]
    }
   ],
   "source": [
    "listdata = [1, 2, 3, 4]\n",
    "ret1 = 5 in listdata\n",
    "ret2 = 4 in listdata\n",
    "print(ret1)\n",
    "print(ret2)\n",
    "strdata = 'abcde'\n",
    "ret3 = 'c' in strdata\n",
    "ret4 = 'l' in strdata\n",
    "print(ret3)\n",
    "print(ret4)"
   ]
  },
  {
   "cell_type": "markdown",
   "metadata": {},
   "source": [
    "## 033 문자열 이해하기\n",
    "- 문자열을 정의하고 선언하는 방법"
   ]
  },
  {
   "cell_type": "code",
   "execution_count": 15,
   "metadata": {
    "execution": {
     "iopub.execute_input": "2020-06-12T16:44:15.787404Z",
     "iopub.status.busy": "2020-06-12T16:44:15.787404Z",
     "iopub.status.idle": "2020-06-12T16:44:15.792391Z",
     "shell.execute_reply": "2020-06-12T16:44:15.791394Z",
     "shell.execute_reply.started": "2020-06-12T16:44:15.787404Z"
    }
   },
   "outputs": [],
   "source": [
    "strdata1 = '나는 파이썬 프로그래머다'\n",
    "strdata2 = 'You are a programmer'\n",
    "strdata3 = \"\"\"I love\n",
    "    python. You love\n",
    "python tool\n",
    "\"\"\"\n",
    "strdata4 = \"My son's name is john\"\n",
    "strdata5 = '문자열 \"abc\"의 길이는 3입니다.'"
   ]
  },
  {
   "cell_type": "markdown",
   "metadata": {
    "execution": {
     "iopub.execute_input": "2020-06-12T16:44:47.349492Z",
     "iopub.status.busy": "2020-06-12T16:44:47.349492Z",
     "iopub.status.idle": "2020-06-12T16:44:47.354507Z",
     "shell.execute_reply": "2020-06-12T16:44:47.354507Z",
     "shell.execute_reply.started": "2020-06-12T16:44:47.349492Z"
    }
   },
   "source": [
    "## 034 문자열 포맷팅 이해하기\n",
    "- 값이 변하는 문자열을 표현하기 위한 문자열 포맷팅에 대해 이해"
   ]
  },
  {
   "cell_type": "code",
   "execution_count": 24,
   "metadata": {
    "execution": {
     "iopub.execute_input": "2020-06-12T16:49:02.094476Z",
     "iopub.status.busy": "2020-06-12T16:49:02.094476Z",
     "iopub.status.idle": "2020-06-12T16:49:02.100460Z",
     "shell.execute_reply": "2020-06-12T16:49:02.100460Z",
     "shell.execute_reply.started": "2020-06-12T16:49:02.094476Z"
    }
   },
   "outputs": [
    {
     "name": "stdout",
     "output_type": "stream",
     "text": [
      "나는 자바보다 파이썬에 더 익숙합니다.\n",
      "파이썬은 자바보다 5배 더 쉽습니다.\n",
      "5 + 10 = 15\n",
      "작년 세계 경제 성장률은 전년에 비해 5% 포인트 증가했다.\n"
     ]
    }
   ],
   "source": [
    "# % 포맷팅\n",
    "txt1 = '자바'\n",
    "txt2 = '파이썬'\n",
    "num1 = 5\n",
    "num2 = 10\n",
    "print('나는 %s보다 %s에 더 익숙합니다.' % (txt1, txt2))\n",
    "print('%s은 %s보다 %d배 더 쉽습니다.' % (txt2, txt1, num1))\n",
    "print('%d + %d = %d' % (num1, num2, num1 + num2))\n",
    "print('작년 세계 경제 성장률은 전년에 비해 %d%% 포인트 증가했다.' % num1)"
   ]
  },
  {
   "cell_type": "code",
   "execution_count": 25,
   "metadata": {
    "execution": {
     "iopub.execute_input": "2020-06-12T16:49:03.506757Z",
     "iopub.status.busy": "2020-06-12T16:49:03.506757Z",
     "iopub.status.idle": "2020-06-12T16:49:03.511744Z",
     "shell.execute_reply": "2020-06-12T16:49:03.511744Z",
     "shell.execute_reply.started": "2020-06-12T16:49:03.506757Z"
    }
   },
   "outputs": [
    {
     "name": "stdout",
     "output_type": "stream",
     "text": [
      "나는 자바보다 파이썬에 더 익숙합니다.\n",
      "파이썬은 자바보다 num1배 더 쉽습니다.\n",
      "5 + 10 = 15\n",
      "작년 세계 경제 성장률은 전년에 비해 5% 포인트 증가했다.\n"
     ]
    }
   ],
   "source": [
    "# f포맷팅\n",
    "txt1 = '자바'\n",
    "txt2 = '파이썬'\n",
    "num1 = 5\n",
    "num2 = 10\n",
    "print(f'나는 {txt1}보다 {txt2}에 더 익숙합니다.')\n",
    "print(f'{txt2}은 {txt1}보다 num1배 더 쉽습니다.')\n",
    "print(f'{num1} + {num2} = {num1 + num2}')\n",
    "print(f'작년 세계 경제 성장률은 전년에 비해 {num1}% 포인트 증가했다.')"
   ]
  },
  {
   "cell_type": "code",
   "execution_count": 30,
   "metadata": {
    "execution": {
     "iopub.execute_input": "2020-06-12T16:51:00.343161Z",
     "iopub.status.busy": "2020-06-12T16:51:00.343161Z",
     "iopub.status.idle": "2020-06-12T16:51:10.416049Z",
     "shell.execute_reply": "2020-06-12T16:51:10.415049Z",
     "shell.execute_reply.started": "2020-06-12T16:51:00.343161Z"
    }
   },
   "outputs": [
    {
     "name": "stdout",
     "output_type": "stream",
     "text": [
      "진행률 100%"
     ]
    }
   ],
   "source": [
    "from time import sleep\n",
    "for i in range(100):\n",
    "    msg = '\\r진행률 %d%%' %(i+1)\n",
    "    print(''*len(msg), end='')\n",
    "    print(msg, end='')\n",
    "    sleep(0.1)"
   ]
  },
  {
   "cell_type": "markdown",
   "metadata": {
    "execution": {
     "iopub.execute_input": "2020-06-12T16:52:08.218995Z",
     "iopub.status.busy": "2020-06-12T16:52:08.218995Z",
     "iopub.status.idle": "2020-06-12T16:52:08.224979Z",
     "shell.execute_reply": "2020-06-12T16:52:08.223981Z",
     "shell.execute_reply.started": "2020-06-12T16:52:08.218995Z"
    }
   },
   "source": [
    "# 035 이스케이프 문자 이해하기\n",
    "- 키보드로 입력하기 어려운 기호 등을 나타내기 위한 이스케이프 문자를 이해하기"
   ]
  },
  {
   "cell_type": "code",
   "execution_count": 33,
   "metadata": {
    "execution": {
     "iopub.execute_input": "2020-06-12T16:54:19.149530Z",
     "iopub.status.busy": "2020-06-12T16:54:19.149530Z",
     "iopub.status.idle": "2020-06-12T16:54:19.154474Z",
     "shell.execute_reply": "2020-06-12T16:54:19.153541Z",
     "shell.execute_reply.started": "2020-06-12T16:54:19.149530Z"
    }
   },
   "outputs": [
    {
     "name": "stdout",
     "output_type": "stream",
     "text": [
      "나는 파이썬을 사랑합니다. \n",
      "파이썬은 자바보다 훨씬 쉽습니다.\n",
      "Name : John Smith\tSet:Male\tAge:22\n",
      "이문장은 화면폭에 비해 너무 길어 보기가 힘듭니다.그래서 \\Enter 키를 이용해 문장을 다음줄과 연속되도록 했습니다.\n",
      "작은따옴표(')와 큰 따옴표(\")는 문자열을 정의할 때 사용합니다.\n"
     ]
    }
   ],
   "source": [
    "print('나는 파이썬을 사랑합니다. \\n파이썬은 자바보다 훨씬 쉽습니다.')\n",
    "print('Name : John Smith\\tSet:Male\\tAge:22')\n",
    "print('이문장은 화면폭에 비해 너무 길어 보기가 힘듭니다.\\\n",
    "그래서 \\\\Enter 키를 이용해 문장을 다음줄과 연속되도록 했습니다.')\n",
    "print('작은따옴표(\\')와 큰 따옴표(\")는 문자열을 정의할 때 사용합니다.')"
   ]
  },
  {
   "cell_type": "markdown",
   "metadata": {},
   "source": [
    "## 036 리스트 이해하기\n",
    "- 순서를 갖는 임의의 객체 집합인 리스트에 대해 이해"
   ]
  },
  {
   "cell_type": "code",
   "execution_count": 38,
   "metadata": {
    "execution": {
     "iopub.execute_input": "2020-06-12T17:01:42.064127Z",
     "iopub.status.busy": "2020-06-12T17:01:42.064127Z",
     "iopub.status.idle": "2020-06-12T17:01:42.071108Z",
     "shell.execute_reply": "2020-06-12T17:01:42.071108Z",
     "shell.execute_reply.started": "2020-06-12T17:01:42.064127Z"
    }
   },
   "outputs": [
    {
     "name": "stdout",
     "output_type": "stream",
     "text": [
      "[6, 2, 3, 4, 5]\n",
      "안녕하세요\n"
     ]
    }
   ],
   "source": [
    "list1 = [1, 2, 3, 4, 5]\n",
    "list2 = ['a', 'b', 'c']\n",
    "list3 = [1, 'a', 'abc', [1, 2, 3, 4, 5], ['a', 'b', 'c']]\n",
    "list1[0] = 6\n",
    "print(list1)\n",
    "\n",
    "def myfunc():\n",
    "    print('안녕하세요')\n",
    "\n",
    "list4 = [1, 2, myfunc]\n",
    "list4[2]()"
   ]
  },
  {
   "cell_type": "markdown",
   "metadata": {
    "execution": {
     "iopub.execute_input": "2020-06-12T16:56:52.526749Z",
     "iopub.status.busy": "2020-06-12T16:56:52.526749Z",
     "iopub.status.idle": "2020-06-12T16:56:52.531736Z",
     "shell.execute_reply": "2020-06-12T16:56:52.531736Z",
     "shell.execute_reply.started": "2020-06-12T16:56:52.526749Z"
    }
   },
   "source": [
    "## 037 튜플 이해하기\n",
    "- 리스트와 비슷하나 요수의 값을 변경할 수 없는 튜플에 대해 이해"
   ]
  },
  {
   "cell_type": "code",
   "execution_count": 37,
   "metadata": {
    "execution": {
     "iopub.execute_input": "2020-06-12T17:00:00.421118Z",
     "iopub.status.busy": "2020-06-12T17:00:00.421118Z",
     "iopub.status.idle": "2020-06-12T17:00:00.426141Z",
     "shell.execute_reply": "2020-06-12T17:00:00.426141Z",
     "shell.execute_reply.started": "2020-06-12T17:00:00.421118Z"
    }
   },
   "outputs": [
    {
     "name": "stdout",
     "output_type": "stream",
     "text": [
      "안녕하세요\n"
     ]
    }
   ],
   "source": [
    "tuple1 = (1, 2, 3, 4, 5)\n",
    "tuple2 = ('a', 'b', 'c')\n",
    "tuple3 = (1, 'a', 'abc', [1, 2, 3, 4, 5], ['a', 'b', 'c'])\n",
    "# tuple1[0] = 6\n",
    "\n",
    "def myfunc():\n",
    "    print('안녕하세요')\n",
    "\n",
    "tuple4 = (1, 2, myfunc)\n",
    "tuple4[2]()"
   ]
  },
  {
   "cell_type": "markdown",
   "metadata": {},
   "source": [
    "## 038 사전 이해하기\n",
    "- 키와 값을 하난의 요소로 가지는 사전 자료에 대해 이해\n",
    "- 사진은 시퀀스 자료가 아님"
   ]
  },
  {
   "cell_type": "code",
   "execution_count": 40,
   "metadata": {
    "execution": {
     "iopub.execute_input": "2020-06-12T17:03:53.792232Z",
     "iopub.status.busy": "2020-06-12T17:03:53.792232Z",
     "iopub.status.idle": "2020-06-12T17:03:53.798183Z",
     "shell.execute_reply": "2020-06-12T17:03:53.797221Z",
     "shell.execute_reply.started": "2020-06-12T17:03:53.792232Z"
    }
   },
   "outputs": [
    {
     "name": "stdout",
     "output_type": "stream",
     "text": [
      "1\n",
      "{'a': 1, 'b': 2, 'c': 3, 'd': 4}\n",
      "{'a': 1, 'b': 7, 'c': 3, 'd': 4}\n",
      "4\n"
     ]
    }
   ],
   "source": [
    "dict1 = {'a': 1, 'b': 2, 'c': 3}\n",
    "print(dict1['a'])\n",
    "dict1['d'] = 4\n",
    "print(dict1)\n",
    "dict1['b'] = 7\n",
    "print(dict1)\n",
    "print(len(dict1))"
   ]
  },
  {
   "cell_type": "markdown",
   "metadata": {},
   "source": [
    "## 039 함수 이해하기(def)\n",
    "- 특정 목정을 가진 독립된 코드 집합인 함수에 대해 이해"
   ]
  },
  {
   "cell_type": "code",
   "execution_count": 41,
   "metadata": {
    "execution": {
     "iopub.execute_input": "2020-06-12T17:06:05.240341Z",
     "iopub.status.busy": "2020-06-12T17:06:05.239344Z",
     "iopub.status.idle": "2020-06-12T17:06:05.245328Z",
     "shell.execute_reply": "2020-06-12T17:06:05.245328Z",
     "shell.execute_reply.started": "2020-06-12T17:06:05.240341Z"
    }
   },
   "outputs": [
    {
     "name": "stdout",
     "output_type": "stream",
     "text": [
      "25\n",
      "대한민국~만세!\n"
     ]
    }
   ],
   "source": [
    "def add_number(n1,n2):\n",
    "    ret = n1 + n2\n",
    "    return ret\n",
    "\n",
    "def add_txt(t1, t2):\n",
    "    print(t1 + t2)\n",
    "\n",
    "ans = add_number(10,15)\n",
    "print(ans)\n",
    "\n",
    "text1 = '대한민국~'\n",
    "text2 = '만세!'\n",
    "add_txt(text1, text2)"
   ]
  },
  {
   "cell_type": "markdown",
   "metadata": {},
   "source": [
    "## 040 함수 인자 이해하기\n",
    "- 함수로 값을 전달하는 인자에 대해 이해\n",
    "- \\*args : 가변 인자로 인자의 개수가 불명확한 경우\n",
    "- \\**kwargs : 키워드 인자가 불명확한 경우"
   ]
  },
  {
   "cell_type": "code",
   "execution_count": 45,
   "metadata": {
    "execution": {
     "iopub.execute_input": "2020-06-12T17:12:10.139814Z",
     "iopub.status.busy": "2020-06-12T17:12:10.138816Z",
     "iopub.status.idle": "2020-06-12T17:12:10.145830Z",
     "shell.execute_reply": "2020-06-12T17:12:10.145830Z",
     "shell.execute_reply.started": "2020-06-12T17:12:10.139814Z"
    }
   },
   "outputs": [
    {
     "name": "stdout",
     "output_type": "stream",
     "text": [
      "베스트:파이썬\n",
      "1등:대한민국\n",
      "()\n",
      "(3, 5, 1, 5)\n",
      "{}\n",
      "{'depth': 50, 'color': 'blue'}\n"
     ]
    }
   ],
   "source": [
    "def add_txt(t1, t2 = '파이썬'):\n",
    "    print(t1 + ':' + t2)\n",
    "    \n",
    "add_txt('베스트')\n",
    "add_txt(t2 = '대한민국', t1 = '1등')\n",
    "\n",
    "def func1(*args):\n",
    "    print(args)\n",
    "\n",
    "def func2(width, height, **kwargs):\n",
    "    print(kwargs)\n",
    "    \n",
    "func1() # 전달 받은 args가 없음\n",
    "func1(3,5,1,5)\n",
    "func2(10,20) # width, height는 전달받았지만, kwrags를 전달 받지 못함\n",
    "func2(10, 20, depth = 50, color = 'blue')"
   ]
  },
  {
   "cell_type": "markdown",
   "metadata": {
    "execution": {
     "iopub.execute_input": "2020-06-12T17:12:26.047808Z",
     "iopub.status.busy": "2020-06-12T17:12:26.046812Z",
     "iopub.status.idle": "2020-06-12T17:12:26.052769Z",
     "shell.execute_reply": "2020-06-12T17:12:26.051771Z",
     "shell.execute_reply.started": "2020-06-12T17:12:26.047808Z"
    }
   },
   "source": [
    "## 041 지역변수와 전역변수 이해하기\n",
    "- 지역변수와 전역변수의 차이를 이해\n",
    "- 지역변수 : 함수 내에서만 유효한 변수, 선언위치 함수 내부, 함수를 벗어나면 유효하지 않음, 전역변수보다 우선으로 취급\n",
    "- 전역변수 : 코드 전반에 걸쳐 유효한 변수, 선언위치 함수 외부\n",
    "- global : 함수 내부에서 전역변수를 사용하기 위한 키워드"
   ]
  },
  {
   "cell_type": "code",
   "execution_count": 49,
   "metadata": {
    "execution": {
     "iopub.execute_input": "2020-06-12T17:18:05.175739Z",
     "iopub.status.busy": "2020-06-12T17:18:05.175739Z",
     "iopub.status.idle": "2020-06-12T17:18:05.180757Z",
     "shell.execute_reply": "2020-06-12T17:18:05.180757Z",
     "shell.execute_reply.started": "2020-06-12T17:18:05.175739Z"
    }
   },
   "outputs": [
    {
     "name": "stdout",
     "output_type": "stream",
     "text": [
      "지역변수\n",
      "전역변수\n",
      "10\n",
      "10\n",
      "50\n"
     ]
    }
   ],
   "source": [
    "param = 10\n",
    "strdata = '전역변수'\n",
    "\n",
    "def func1():\n",
    "    strdata = '지역변수'\n",
    "    print(strdata)\n",
    "\n",
    "def func2(param):\n",
    "    param = 1\n",
    "\n",
    "\n",
    "def func3(): # 전역변수 param을 50으로 변경하는 함수\n",
    "    global param # 전역변수를 사용하기 위해 global 키워드를 사용\n",
    "    param = 50\n",
    "\n",
    "func1()                  # ‘지역변수’가 출력됨\n",
    "print(strdata)           # ‘전역변수’가 출력됨\n",
    "print(param)             # 10이 출력됨\n",
    "func2(param)\n",
    "print(param)             # 10이 출력됨\n",
    "func3()\n",
    "print(param)             # 50이 출력됨"
   ]
  },
  {
   "cell_type": "markdown",
   "metadata": {},
   "source": [
    "## 함수 리턴값 이해하기\n",
    "- 함수가 수행되고 난 후 결과값 반환에 대한 내용을 이해"
   ]
  },
  {
   "cell_type": "code",
   "execution_count": 54,
   "metadata": {
    "execution": {
     "iopub.execute_input": "2020-06-12T17:20:24.316821Z",
     "iopub.status.busy": "2020-06-12T17:20:24.316821Z",
     "iopub.status.idle": "2020-06-12T17:20:24.322804Z",
     "shell.execute_reply": "2020-06-12T17:20:24.322804Z",
     "shell.execute_reply.started": "2020-06-12T17:20:24.316821Z"
    }
   },
   "outputs": [
    {
     "name": "stdout",
     "output_type": "stream",
     "text": [
      "(3, 2, 1)\n",
      "c\n",
      "b\n",
      "a\n"
     ]
    }
   ],
   "source": [
    "def reverse(x, y, z):\n",
    "    return z, y, x\n",
    "\n",
    "ret = reverse(1, 2, 3) # ret에 튜플로 변수 3개가 저장\n",
    "print(ret)\n",
    "\n",
    "r1, r2, r3 = reverse('a', 'b', 'c') # r1, r2, r3에 각 변수가 저장\n",
    "print(r1)\n",
    "print(r2)\n",
    "print(r3)"
   ]
  },
  {
   "cell_type": "code",
   "execution_count": null,
   "metadata": {},
   "outputs": [],
   "source": []
  }
 ],
 "metadata": {
  "kernelspec": {
   "display_name": "Python 3",
   "language": "python",
   "name": "python3"
  },
  "language_info": {
   "codemirror_mode": {
    "name": "ipython",
    "version": 3
   },
   "file_extension": ".py",
   "mimetype": "text/x-python",
   "name": "python",
   "nbconvert_exporter": "python",
   "pygments_lexer": "ipython3",
   "version": "3.7.6"
  }
 },
 "nbformat": 4,
 "nbformat_minor": 4
}
