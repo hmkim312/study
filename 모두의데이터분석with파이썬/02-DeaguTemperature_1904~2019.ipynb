{
 "cells": [
  {
   "cell_type": "markdown",
   "metadata": {},
   "source": [
    "# 대구에서 기온이 가장 높았던 날은?"
   ]
  },
  {
   "cell_type": "code",
   "execution_count": 22,
   "metadata": {},
   "outputs": [
    {
     "name": "stdout",
     "output_type": "stream",
     "text": [
      "대구에서 가장 기온이 높았던 날은  1942-08-01 이며 기온은  40.0 도 입니다.\n"
     ]
    }
   ],
   "source": [
    "import csv\n",
    "f = open(\"..\\data\\DeaguTemperature_1904~2019.csv\")\n",
    "data = csv.reader(f)\n",
    "header = next(data)\n",
    "max_temp = -100\n",
    "max_date = \"\"\n",
    "for row in data :\n",
    "    if row[-1] == \"\" :\n",
    "        row[-1] = -100\n",
    "    row[-1] = float(row[-1])\n",
    "    if max_temp < row[-1] :\n",
    "        max_date = row[0]\n",
    "        max_temp = row[-1]\n",
    "f.close()\n",
    "print(\"대구에서 가장 기온이 높았던 날은 \", max_date, \"이며\", \"기온은 \",max_temp,\"도 입니다.\")"
   ]
  },
  {
   "cell_type": "markdown",
   "metadata": {},
   "source": [
    "# 대구에서 기온이 가장 낮았던 날은?"
   ]
  },
  {
   "cell_type": "code",
   "execution_count": 24,
   "metadata": {},
   "outputs": [
    {
     "name": "stdout",
     "output_type": "stream",
     "text": [
      "대구에서 가장 기온이 낮았던 날은  1923-01-19 이며 기온은  -20.2 도 입니다.\n"
     ]
    }
   ],
   "source": [
    "import csv\n",
    "f = open(\"..\\data\\DeaguTemperature_1904~2019.csv\")\n",
    "data = csv.reader(f)\n",
    "header = next(data)\n",
    "min_temp = 100\n",
    "min_date = \"\"\n",
    "for row in data :\n",
    "    if row[3] == \"\" :\n",
    "        row[3] = 100\n",
    "    row[3] = float(row[3])\n",
    "    if min_temp > row[3] :\n",
    "        min_date = row[0]\n",
    "        min_temp = row[3]\n",
    "f.close()\n",
    "print(\"대구에서 가장 기온이 낮았던 날은 \", min_date, \"이며\", \"기온은 \",min_temp,\"도 입니다.\")"
   ]
  },
  {
   "cell_type": "code",
   "execution_count": null,
   "metadata": {},
   "outputs": [],
   "source": []
  }
 ],
 "metadata": {
  "kernelspec": {
   "display_name": "Python 3",
   "language": "python",
   "name": "python3"
  },
  "language_info": {
   "codemirror_mode": {
    "name": "ipython",
    "version": 3
   },
   "file_extension": ".py",
   "mimetype": "text/x-python",
   "name": "python",
   "nbconvert_exporter": "python",
   "pygments_lexer": "ipython3",
   "version": "3.7.4"
  }
 },
 "nbformat": 4,
 "nbformat_minor": 2
}
