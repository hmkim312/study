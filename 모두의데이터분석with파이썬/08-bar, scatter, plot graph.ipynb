{
 "cells": [
  {
   "cell_type": "markdown",
   "metadata": {},
   "source": [
    "# 꺾은선그래프(plot)로 표현하기"
   ]
  },
  {
   "cell_type": "code",
   "execution_count": 1,
   "metadata": {},
   "outputs": [],
   "source": [
    "%matplotlib inline\n",
    "import seaborn as sns\n",
    "import matplotlib.pyplot as plt\n",
    "import pandas as pd\n",
    "import numpy as np\n",
    "import csv\n",
    "import math"
   ]
  },
  {
   "cell_type": "code",
   "execution_count": null,
   "metadata": {},
   "outputs": [],
   "source": [
    "import csv\n",
    "f = open('../data/age_gender2_2019.02.csv')\n",
    "data = csv.reader(f)\n",
    "m = []\n",
    "f = []\n",
    "name = input('궁금한 동네를 입력해주세요')\n",
    "\n",
    "for row in data :\n",
    "    if name in row[0] :\n",
    "        for i in range(3,104) : \n",
    "            m.append(int(row[i]))\n",
    "            f.append(int(row[i+103]))\n",
    "        break\n",
    "\n",
    "plt.plot(m, label = 'Male') # 꺾은선 그래프로 나타내기\n",
    "plt.plot(f, label =  'Female') # 꺾은선 그래프로 나타내기\n",
    "plt.legend()\n",
    "plt.show()\n",
    "    "
   ]
  },
  {
   "cell_type": "markdown",
   "metadata": {},
   "source": [
    "# 막대그래프(bar)로 표현하기"
   ]
  },
  {
   "cell_type": "code",
   "execution_count": null,
   "metadata": {},
   "outputs": [],
   "source": [
    "import csv\n",
    "f = open('../data/age_gender2_2019.02.csv')\n",
    "data = csv.reader(f)\n",
    "result = []\n",
    "name = input('궁금한 동네를 입력해주세요')\n",
    "\n",
    "for row in data :\n",
    "    if name in row[0] :\n",
    "        for i in range(3,104) :\n",
    "            result.append(int(row[i]) - int(row[i+103]))\n",
    "        break\n",
    "            \n",
    "plt.bar(range(101),result)\n",
    "plt.show()"
   ]
  },
  {
   "cell_type": "markdown",
   "metadata": {},
   "source": [
    "# 산점도 표현하기"
   ]
  },
  {
   "cell_type": "markdown",
   "metadata": {},
   "source": [
    "## scatter 함수로 표현하기"
   ]
  },
  {
   "cell_type": "code",
   "execution_count": null,
   "metadata": {},
   "outputs": [],
   "source": [
    "plt.style.use('ggplot')\n",
    "plt.scatter([1,2,3,4], [10,30,20,40])\n",
    "plt.show()"
   ]
  },
  {
   "cell_type": "markdown",
   "metadata": {},
   "source": [
    "## 버블차트로 표현하기"
   ]
  },
  {
   "cell_type": "code",
   "execution_count": null,
   "metadata": {
    "scrolled": true
   },
   "outputs": [],
   "source": [
    "plt.scatter([1,2,3,4], [10,30,20,40], s=[100,200,300,400]) # s는 size\n",
    "plt.show()"
   ]
  },
  {
   "cell_type": "code",
   "execution_count": null,
   "metadata": {},
   "outputs": [],
   "source": [
    "plt.scatter([1,2,3,4], [10,30,20,40], s=[10,20,30,40], c=['red','green','blue', 'gold']) #c는 버블의 색상\n",
    "plt.show()"
   ]
  },
  {
   "cell_type": "code",
   "execution_count": null,
   "metadata": {},
   "outputs": [],
   "source": [
    "plt.scatter([1,2,3,4],[10,30,20,40],s=[10,20,30,40], c=['red', 'blue', 'green', 'gold' ])\n",
    "plt.colorbar() # 컬러바 추가\n",
    "plt.show()"
   ]
  },
  {
   "cell_type": "code",
   "execution_count": null,
   "metadata": {},
   "outputs": [],
   "source": [
    "plt.scatter([1,2,3,4],[10,30,20,40],s=[10,30,20,40],c=range(4), cmap='jet') #cmap는 컬래맵 설정\n",
    "plt.colorbar()\n",
    "plt.show"
   ]
  },
  {
   "cell_type": "code",
   "execution_count": null,
   "metadata": {},
   "outputs": [],
   "source": [
    "import random\n",
    "x = []\n",
    "y = []\n",
    "size = []\n",
    "\n",
    "for i in range(100) :\n",
    "    x.append(random.randint(50,100))\n",
    "    y.append(random.randint(50,100))\n",
    "    size.append(random.randint(1,100))\n",
    "\n",
    "plt.scatter(x, y, s=size)\n",
    "plt.show()"
   ]
  },
  {
   "cell_type": "code",
   "execution_count": null,
   "metadata": {},
   "outputs": [],
   "source": [
    "x = []\n",
    "y = []\n",
    "size = []\n",
    "\n",
    "for i in range(100) :\n",
    "    x.append(random.randint(50,100))\n",
    "    y.append(random.randint(50,100))\n",
    "    size.append(random.randint(1,100))\n",
    "\n",
    "plt.scatter(x, y, s=size, c=size, cmap='jet') # c=size 사이즈별로 다른 색상\n",
    "plt.colorbar()\n",
    "plt.show()"
   ]
  },
  {
   "cell_type": "code",
   "execution_count": null,
   "metadata": {},
   "outputs": [],
   "source": [
    "x = []\n",
    "y = []\n",
    "size = []\n",
    "\n",
    "for i in range(100) :\n",
    "    x.append(random.randint(50,100))\n",
    "    y.append(random.randint(50,100))\n",
    "    size.append(random.randint(1,100))\n",
    "\n",
    "plt.scatter(x, y, s=size, c=size, cmap='jet', alpha = 0.5) # alpha로 투명도 조정\n",
    "plt.colorbar()\n",
    "plt.show()"
   ]
  },
  {
   "cell_type": "code",
   "execution_count": null,
   "metadata": {},
   "outputs": [],
   "source": [
    "import csv\n",
    "f= open('../data/age_gender2_2019.02.csv')\n",
    "data = csv.reader(f)\n",
    "m = []\n",
    "f = []\n",
    "name = input('궁금한 동네를 입력하세요')\n",
    "\n",
    "for row in data : \n",
    "    if name in row[0] :\n",
    "        for i in range(3,104) :\n",
    "            m.append(int(row[i]))\n",
    "            f.append(int(row[i+103]))\n",
    "        break\n",
    "\n",
    "plt.scatter(m , f)\n",
    "plt.show()"
   ]
  },
  {
   "cell_type": "code",
   "execution_count": null,
   "metadata": {},
   "outputs": [],
   "source": [
    "import csv\n",
    "f= open('../data/age_gender2_2019.02.csv')\n",
    "data = csv.reader(f)\n",
    "m = []\n",
    "f = []\n",
    "name = input('궁금한 동네를 입력하세요')\n",
    "\n",
    "for row in data : \n",
    "    if name in row[0] :\n",
    "        for i in range(3,104) :\n",
    "            m.append(int(row[i]))\n",
    "            f.append(int(row[i+103]))\n",
    "        break\n",
    "\n",
    "plt.scatter(m , f, c = range(101), alpha=0.5, cmap='jet') # c= range(101)는 101개의 색상, alpha=0.5는 투명도, cmap='jet'는 컬러맵 적용\n",
    "plt.colorbar()\n",
    "plt.plot(range(max(m)),range(max(m)), 'g') #추세선 추가\n",
    "plt.show()"
   ]
  },
  {
   "cell_type": "markdown",
   "metadata": {},
   "source": [
    "## 연령대별 성별 비율을 산점도로 표현하기"
   ]
  },
  {
   "cell_type": "code",
   "execution_count": null,
   "metadata": {},
   "outputs": [],
   "source": [
    "f = open('../data/age_gender2_2019.02.csv')\n",
    "data = csv.reader(f)\n",
    "m = []\n",
    "f = []\n",
    "size = []\n",
    "name = input('궁금한 동네를 입력해주세요 :D')\n",
    "\n",
    "for row in data :\n",
    "    if name in row[0] :\n",
    "        for i in range(3,104) :\n",
    "            m.append(int(row[i]))\n",
    "            f.append(int(row[i+103]))\n",
    "            size.append(math.sqrt(int(row[i]))+int(row[i+103]))\n",
    "        break\n",
    "\n",
    "plt.style.use('ggplot')\n",
    "plt.rc('font', family='Malgun Gothic')\n",
    "plt.figure(figsize=(10,5), dpi = 300)\n",
    "plt.title(name + '지역의 성별 인구 그래프')\n",
    "plt.scatter(m, f, s=size, c=range(101), alpha = 0.5, cmap = 'jet')\n",
    "plt.colorbar()\n",
    "plt.plot(range(max(m)),range(max(m)), 'g')\n",
    "plt.xlabel('남성인구수')\n",
    "plt.ylabel('여성인구수')\n",
    "plt.show()"
   ]
  },
  {
   "cell_type": "code",
   "execution_count": null,
   "metadata": {},
   "outputs": [],
   "source": []
  },
  {
   "cell_type": "code",
   "execution_count": null,
   "metadata": {},
   "outputs": [],
   "source": []
  },
  {
   "cell_type": "code",
   "execution_count": null,
   "metadata": {},
   "outputs": [],
   "source": []
  },
  {
   "cell_type": "code",
   "execution_count": null,
   "metadata": {},
   "outputs": [],
   "source": []
  },
  {
   "cell_type": "code",
   "execution_count": null,
   "metadata": {},
   "outputs": [],
   "source": []
  },
  {
   "cell_type": "code",
   "execution_count": null,
   "metadata": {},
   "outputs": [],
   "source": []
  },
  {
   "cell_type": "code",
   "execution_count": null,
   "metadata": {},
   "outputs": [],
   "source": []
  },
  {
   "cell_type": "code",
   "execution_count": null,
   "metadata": {},
   "outputs": [],
   "source": []
  },
  {
   "cell_type": "code",
   "execution_count": null,
   "metadata": {},
   "outputs": [],
   "source": []
  },
  {
   "cell_type": "code",
   "execution_count": null,
   "metadata": {},
   "outputs": [],
   "source": []
  }
 ],
 "metadata": {
  "kernelspec": {
   "display_name": "Python 3",
   "language": "python",
   "name": "python3"
  },
  "language_info": {
   "codemirror_mode": {
    "name": "ipython",
    "version": 3
   },
   "file_extension": ".py",
   "mimetype": "text/x-python",
   "name": "python",
   "nbconvert_exporter": "python",
   "pygments_lexer": "ipython3",
   "version": "3.7.3"
  }
 },
 "nbformat": 4,
 "nbformat_minor": 2
}
