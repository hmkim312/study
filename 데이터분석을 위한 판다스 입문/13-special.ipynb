{
 "cells": [
  {
   "cell_type": "markdown",
   "metadata": {},
   "source": [
    "#### 코드 성능 향상시켜 실행시간 측정하기"
   ]
  },
  {
   "cell_type": "code",
   "execution_count": 2,
   "metadata": {
    "execution": {
     "iopub.execute_input": "2020-07-14T13:15:47.099979Z",
     "iopub.status.busy": "2020-07-14T13:15:47.099003Z",
     "iopub.status.idle": "2020-07-14T13:15:47.105806Z",
     "shell.execute_reply": "2020-07-14T13:15:47.105806Z",
     "shell.execute_reply.started": "2020-07-14T13:15:47.099979Z"
    }
   },
   "outputs": [],
   "source": [
    "# 데이터 프레임 생성 및 함수 작성\n",
    "import pandas as pd\n",
    "import numpy as np\n",
    "\n",
    "df = pd.DataFrame({'a':[10,20,30], 'b':[20,30,40]})\n",
    "\n",
    "def avg_2_apply(row):\n",
    "    x = row[0]\n",
    "    y = row[1]\n",
    "    if (x == 20):\n",
    "        return np.nan\n",
    "    else:\n",
    "        return (x + y) / 2"
   ]
  },
  {
   "cell_type": "code",
   "execution_count": 5,
   "metadata": {
    "execution": {
     "iopub.execute_input": "2020-07-14T13:18:00.572168Z",
     "iopub.status.busy": "2020-07-14T13:18:00.572168Z",
     "iopub.status.idle": "2020-07-14T13:18:06.161793Z",
     "shell.execute_reply": "2020-07-14T13:18:06.160829Z",
     "shell.execute_reply.started": "2020-07-14T13:18:00.572168Z"
    }
   },
   "outputs": [
    {
     "name": "stdout",
     "output_type": "stream",
     "text": [
      "687 µs ± 16.5 µs per loop (mean ± std. dev. of 7 runs, 1000 loops each)\n"
     ]
    }
   ],
   "source": [
    "# 실행시간 측정\n",
    "%timeit df.apply(avg_2_apply, axis = 1)"
   ]
  },
  {
   "cell_type": "code",
   "execution_count": 6,
   "metadata": {
    "execution": {
     "iopub.execute_input": "2020-07-14T13:18:59.062957Z",
     "iopub.status.busy": "2020-07-14T13:18:59.061985Z",
     "iopub.status.idle": "2020-07-14T13:18:59.073698Z",
     "shell.execute_reply": "2020-07-14T13:18:59.071745Z",
     "shell.execute_reply.started": "2020-07-14T13:18:59.062957Z"
    }
   },
   "outputs": [],
   "source": [
    "# 넘파이로 벡터화한 함수 사용\n",
    "@np.vectorize\n",
    "def v_avg_2_mod(x, y):\n",
    "    if x == 20:\n",
    "        return np.nan\n",
    "    else:\n",
    "        return(x + y) /2"
   ]
  },
  {
   "cell_type": "code",
   "execution_count": 7,
   "metadata": {
    "execution": {
     "iopub.execute_input": "2020-07-14T13:19:40.129870Z",
     "iopub.status.busy": "2020-07-14T13:19:40.129870Z",
     "iopub.status.idle": "2020-07-14T13:19:44.680484Z",
     "shell.execute_reply": "2020-07-14T13:19:44.680484Z",
     "shell.execute_reply.started": "2020-07-14T13:19:40.129870Z"
    }
   },
   "outputs": [
    {
     "name": "stdout",
     "output_type": "stream",
     "text": [
      "56.3 µs ± 2.72 µs per loop (mean ± std. dev. of 7 runs, 10000 loops each)\n"
     ]
    }
   ],
   "source": [
    "# 실행시간 측정\n",
    "%timeit v_avg_2_mod(df['a'], df['b'])"
   ]
  },
  {
   "cell_type": "code",
   "execution_count": 8,
   "metadata": {
    "execution": {
     "iopub.execute_input": "2020-07-14T13:20:50.915816Z",
     "iopub.status.busy": "2020-07-14T13:20:50.915816Z",
     "iopub.status.idle": "2020-07-14T13:20:52.679290Z",
     "shell.execute_reply": "2020-07-14T13:20:52.678314Z",
     "shell.execute_reply.started": "2020-07-14T13:20:50.915816Z"
    }
   },
   "outputs": [],
   "source": [
    "# numba 라이브러리로 벡터화한 함수 사용\n",
    "import numba\n",
    "\n",
    "@numba.vectorize\n",
    "def v_avg_2_mod(x, y):\n",
    "    if x == 20:\n",
    "        return np.nan\n",
    "    else:\n",
    "        return(x + y) /2"
   ]
  },
  {
   "cell_type": "code",
   "execution_count": 9,
   "metadata": {
    "execution": {
     "iopub.execute_input": "2020-07-14T13:21:09.384220Z",
     "iopub.status.busy": "2020-07-14T13:21:09.384220Z",
     "iopub.status.idle": "2020-07-14T13:21:13.494187Z",
     "shell.execute_reply": "2020-07-14T13:21:13.494187Z",
     "shell.execute_reply.started": "2020-07-14T13:21:09.384220Z"
    }
   },
   "outputs": [
    {
     "name": "stdout",
     "output_type": "stream",
     "text": [
      "4.87 µs ± 213 ns per loop (mean ± std. dev. of 7 runs, 100000 loops each)\n"
     ]
    }
   ],
   "source": [
    "# 실행시간 측정\n",
    "%timeit v_avg_2_mod(df['a'].values, df['b'].values)"
   ]
  },
  {
   "cell_type": "markdown",
   "metadata": {},
   "source": [
    "#### 위에서 아래로 내려올수록 점점 실행 속도가 빨라짐\n",
    "#### 즉 함수를 최적화 하면 할수록 실행 속도가 빨라짐"
   ]
  },
  {
   "cell_type": "code",
   "execution_count": null,
   "metadata": {},
   "outputs": [],
   "source": []
  }
 ],
 "metadata": {
  "kernelspec": {
   "display_name": "Python 3",
   "language": "python",
   "name": "python3"
  },
  "language_info": {
   "codemirror_mode": {
    "name": "ipython",
    "version": 3
   },
   "file_extension": ".py",
   "mimetype": "text/x-python",
   "name": "python",
   "nbconvert_exporter": "python",
   "pygments_lexer": "ipython3",
   "version": "3.7.6"
  }
 },
 "nbformat": 4,
 "nbformat_minor": 4
}
