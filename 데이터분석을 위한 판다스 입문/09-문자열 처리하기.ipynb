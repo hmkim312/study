{
 "cells": [
  {
   "cell_type": "markdown",
   "metadata": {},
   "source": [
    "## 09-1 문자열 다루기"
   ]
  },
  {
   "cell_type": "markdown",
   "metadata": {},
   "source": [
    "#### 파이썬과 문자열"
   ]
  },
  {
   "cell_type": "code",
   "execution_count": 1,
   "metadata": {
    "execution": {
     "iopub.execute_input": "2020-07-10T02:56:23.923050Z",
     "iopub.status.busy": "2020-07-10T02:56:23.922054Z",
     "iopub.status.idle": "2020-07-10T02:56:23.933023Z",
     "shell.execute_reply": "2020-07-10T02:56:23.930031Z",
     "shell.execute_reply.started": "2020-07-10T02:56:23.922054Z"
    }
   },
   "outputs": [],
   "source": [
    "word = 'grail'\n",
    "sent = 'a scrtch'"
   ]
  },
  {
   "cell_type": "markdown",
   "metadata": {},
   "source": [
    "#### 문자열 추출하기"
   ]
  },
  {
   "cell_type": "code",
   "execution_count": 2,
   "metadata": {
    "execution": {
     "iopub.execute_input": "2020-07-10T02:57:35.935645Z",
     "iopub.status.busy": "2020-07-10T02:57:35.934648Z",
     "iopub.status.idle": "2020-07-10T02:57:35.953631Z",
     "shell.execute_reply": "2020-07-10T02:57:35.951609Z",
     "shell.execute_reply.started": "2020-07-10T02:57:35.935645Z"
    }
   },
   "outputs": [
    {
     "name": "stdout",
     "output_type": "stream",
     "text": [
      "g\n",
      "a\n"
     ]
    }
   ],
   "source": [
    "# index 추출\n",
    "print(word[0])\n",
    "print(sent[0])"
   ]
  },
  {
   "cell_type": "code",
   "execution_count": 3,
   "metadata": {
    "execution": {
     "iopub.execute_input": "2020-07-10T02:58:35.983807Z",
     "iopub.status.busy": "2020-07-10T02:58:35.982809Z",
     "iopub.status.idle": "2020-07-10T02:58:35.993780Z",
     "shell.execute_reply": "2020-07-10T02:58:35.991785Z",
     "shell.execute_reply.started": "2020-07-10T02:58:35.983807Z"
    }
   },
   "outputs": [
    {
     "name": "stdout",
     "output_type": "stream",
     "text": [
      "gra\n"
     ]
    }
   ],
   "source": [
    "# index slicing\n",
    "print(word[0:3])"
   ]
  },
  {
   "cell_type": "code",
   "execution_count": 5,
   "metadata": {
    "execution": {
     "iopub.execute_input": "2020-07-10T02:59:22.978597Z",
     "iopub.status.busy": "2020-07-10T02:59:22.977600Z",
     "iopub.status.idle": "2020-07-10T02:59:22.990568Z",
     "shell.execute_reply": "2020-07-10T02:59:22.987578Z",
     "shell.execute_reply.started": "2020-07-10T02:59:22.978597Z"
    }
   },
   "outputs": [
    {
     "name": "stdout",
     "output_type": "stream",
     "text": [
      "h\n",
      "\n",
      "\n"
     ]
    }
   ],
   "source": [
    "# index slicing\n",
    "print(sent[-1])\n",
    "print(sent[-9:-8])\n",
    "print(sent[0:-8])"
   ]
  },
  {
   "cell_type": "code",
   "execution_count": 6,
   "metadata": {
    "execution": {
     "iopub.execute_input": "2020-07-10T02:59:28.972177Z",
     "iopub.status.busy": "2020-07-10T02:59:28.971215Z",
     "iopub.status.idle": "2020-07-10T02:59:28.988129Z",
     "shell.execute_reply": "2020-07-10T02:59:28.986167Z",
     "shell.execute_reply.started": "2020-07-10T02:59:28.972177Z"
    }
   },
   "outputs": [
    {
     "data": {
      "text/plain": [
       "''"
      ]
     },
     "execution_count": 6,
     "metadata": {},
     "output_type": "execute_result"
    }
   ],
   "source": [
    "sent[0:-8]"
   ]
  },
  {
   "cell_type": "markdown",
   "metadata": {
    "execution": {
     "iopub.execute_input": "2020-07-10T05:09:31.016884Z",
     "iopub.status.busy": "2020-07-10T05:09:31.015944Z",
     "iopub.status.idle": "2020-07-10T05:09:31.021763Z",
     "shell.execute_reply": "2020-07-10T05:09:31.020788Z",
     "shell.execute_reply.started": "2020-07-10T05:09:31.016884Z"
    }
   },
   "source": [
    "#### 왼쪽이나 오른쪽 범위를 지정하지 않고 문자열 추출하기"
   ]
  },
  {
   "cell_type": "code",
   "execution_count": 9,
   "metadata": {
    "execution": {
     "iopub.execute_input": "2020-07-10T05:09:45.019760Z",
     "iopub.status.busy": "2020-07-10T05:09:45.019760Z",
     "iopub.status.idle": "2020-07-10T05:09:45.026591Z",
     "shell.execute_reply": "2020-07-10T05:09:45.025629Z",
     "shell.execute_reply.started": "2020-07-10T05:09:45.019760Z"
    }
   },
   "outputs": [
    {
     "name": "stdout",
     "output_type": "stream",
     "text": [
      "gra\n",
      "gra\n"
     ]
    }
   ],
   "source": [
    "# 왼쪽 범위를 비우고 문자열을 추출\n",
    "print(word[0:3])\n",
    "print(word[:3])"
   ]
  },
  {
   "cell_type": "code",
   "execution_count": 10,
   "metadata": {
    "execution": {
     "iopub.execute_input": "2020-07-10T05:10:06.995827Z",
     "iopub.status.busy": "2020-07-10T05:10:06.994851Z",
     "iopub.status.idle": "2020-07-10T05:10:07.001683Z",
     "shell.execute_reply": "2020-07-10T05:10:07.000707Z",
     "shell.execute_reply.started": "2020-07-10T05:10:06.995827Z"
    }
   },
   "outputs": [
    {
     "name": "stdout",
     "output_type": "stream",
     "text": [
      "scrtch\n",
      "scrtch\n"
     ]
    }
   ],
   "source": [
    "# 오른쪽 범위를 비우고 문자열 추출\n",
    "print(sent[2:len(sent)])\n",
    "print(sent[2:])"
   ]
  },
  {
   "cell_type": "code",
   "execution_count": 11,
   "metadata": {
    "execution": {
     "iopub.execute_input": "2020-07-10T05:10:24.017464Z",
     "iopub.status.busy": "2020-07-10T05:10:24.016490Z",
     "iopub.status.idle": "2020-07-10T05:10:24.025250Z",
     "shell.execute_reply": "2020-07-10T05:10:24.023317Z",
     "shell.execute_reply.started": "2020-07-10T05:10:24.017464Z"
    }
   },
   "outputs": [
    {
     "name": "stdout",
     "output_type": "stream",
     "text": [
      "a scrtch\n"
     ]
    }
   ],
   "source": [
    "# 양쪽 모두 비우면 모두 추출\n",
    "print(sent[:])"
   ]
  },
  {
   "cell_type": "code",
   "execution_count": 12,
   "metadata": {
    "execution": {
     "iopub.execute_input": "2020-07-10T05:10:33.012418Z",
     "iopub.status.busy": "2020-07-10T05:10:33.011444Z",
     "iopub.status.idle": "2020-07-10T05:10:33.016321Z",
     "shell.execute_reply": "2020-07-10T05:10:33.016321Z",
     "shell.execute_reply.started": "2020-07-10T05:10:33.012418Z"
    }
   },
   "outputs": [
    {
     "name": "stdout",
     "output_type": "stream",
     "text": [
      "asrc\n"
     ]
    }
   ],
   "source": [
    "# 건너뛰기\n",
    "print(sent[::2])"
   ]
  },
  {
   "cell_type": "markdown",
   "metadata": {},
   "source": [
    "## 09-2 문자열 메서드"
   ]
  },
  {
   "cell_type": "markdown",
   "metadata": {},
   "source": [
    "#### join, splitlines, replace 메서드 실습"
   ]
  },
  {
   "cell_type": "code",
   "execution_count": 13,
   "metadata": {
    "execution": {
     "iopub.execute_input": "2020-07-10T05:13:28.031637Z",
     "iopub.status.busy": "2020-07-10T05:13:28.031637Z",
     "iopub.status.idle": "2020-07-10T05:13:28.050184Z",
     "shell.execute_reply": "2020-07-10T05:13:28.049244Z",
     "shell.execute_reply.started": "2020-07-10T05:13:28.031637Z"
    }
   },
   "outputs": [
    {
     "data": {
      "text/plain": [
       "'40º 46\\' 52.837\" N'"
      ]
     },
     "execution_count": 13,
     "metadata": {},
     "output_type": "execute_result"
    }
   ],
   "source": [
    "# join\n",
    "d1 = '40º'\n",
    "m1 = \"46'\"\n",
    "s1 = '52.837\"'\n",
    "u1 = 'N'\n",
    "\n",
    "d2 = '73º'\n",
    "m2 = \"58'\"\n",
    "s2 = '26.302\"'\n",
    "u2 = 'W'\n",
    "\n",
    "coords = ' '.join([d1, m1, s1, u1])\n",
    "coords"
   ]
  },
  {
   "cell_type": "code",
   "execution_count": 15,
   "metadata": {
    "execution": {
     "iopub.execute_input": "2020-07-10T05:17:00.025538Z",
     "iopub.status.busy": "2020-07-10T05:17:00.025538Z",
     "iopub.status.idle": "2020-07-10T05:17:00.030400Z",
     "shell.execute_reply": "2020-07-10T05:17:00.029408Z",
     "shell.execute_reply.started": "2020-07-10T05:17:00.025538Z"
    }
   },
   "outputs": [
    {
     "name": "stdout",
     "output_type": "stream",
     "text": [
      "Guard : What? Ridden on a horse?\n",
      "King Arthur : Yes!\n",
      "Guard : You're using coconuts!\n",
      "King Arthur : What?\n",
      "Guard: You've got ... coconut[s] and you're bangin' 'em together.\n",
      "\n"
     ]
    }
   ],
   "source": [
    "# splitlines 메서드\n",
    "multi_str = \"\"\"Guard : What? Ridden on a horse?\n",
    "King Arthur : Yes!\n",
    "Guard : You're using coconuts!\n",
    "King Arthur : What?\n",
    "Guard: You've got ... coconut[s] and you're bangin' 'em together.\n",
    "\"\"\"\n",
    "print(multi_str)"
   ]
  },
  {
   "cell_type": "code",
   "execution_count": 16,
   "metadata": {
    "execution": {
     "iopub.execute_input": "2020-07-10T05:17:24.028773Z",
     "iopub.status.busy": "2020-07-10T05:17:24.028773Z",
     "iopub.status.idle": "2020-07-10T05:17:24.034629Z",
     "shell.execute_reply": "2020-07-10T05:17:24.033652Z",
     "shell.execute_reply.started": "2020-07-10T05:17:24.028773Z"
    }
   },
   "outputs": [
    {
     "name": "stdout",
     "output_type": "stream",
     "text": [
      "['Guard : What? Ridden on a horse?', 'King Arthur : Yes!', \"Guard : You're using coconuts!\", 'King Arthur : What?', \"Guard: You've got ... coconut[s] and you're bangin' 'em together.\"]\n"
     ]
    }
   ],
   "source": [
    "multi_str_split = multi_str.splitlines()\n",
    "print(multi_str_split)"
   ]
  },
  {
   "cell_type": "code",
   "execution_count": 17,
   "metadata": {
    "execution": {
     "iopub.execute_input": "2020-07-10T05:18:07.009816Z",
     "iopub.status.busy": "2020-07-10T05:18:07.009816Z",
     "iopub.status.idle": "2020-07-10T05:18:07.013686Z",
     "shell.execute_reply": "2020-07-10T05:18:07.013686Z",
     "shell.execute_reply.started": "2020-07-10T05:18:07.009816Z"
    }
   },
   "outputs": [
    {
     "name": "stdout",
     "output_type": "stream",
     "text": [
      "['Guard : What? Ridden on a horse?', \"Guard : You're using coconuts!\", \"Guard: You've got ... coconut[s] and you're bangin' 'em together.\"]\n"
     ]
    }
   ],
   "source": [
    "# index slicing\n",
    "guard = multi_str_split[::2]\n",
    "print(guard)"
   ]
  },
  {
   "cell_type": "code",
   "execution_count": 19,
   "metadata": {
    "execution": {
     "iopub.execute_input": "2020-07-10T05:19:09.021493Z",
     "iopub.status.busy": "2020-07-10T05:19:09.020516Z",
     "iopub.status.idle": "2020-07-10T05:19:09.028328Z",
     "shell.execute_reply": "2020-07-10T05:19:09.027353Z",
     "shell.execute_reply.started": "2020-07-10T05:19:09.021493Z"
    }
   },
   "outputs": [
    {
     "name": "stdout",
     "output_type": "stream",
     "text": [
      "['What? Ridden on a horse?', \"You're using coconuts!\", \"Guard: You've got ... coconut[s] and you're bangin' 'em together.\"]\n"
     ]
    }
   ],
   "source": [
    "# replace\n",
    "guard = multi_str.replace('Guard : ','').splitlines()[::2]\n",
    "print(guard)"
   ]
  },
  {
   "cell_type": "markdown",
   "metadata": {},
   "source": [
    "## 09-3 문자열 포매팅"
   ]
  },
  {
   "cell_type": "markdown",
   "metadata": {},
   "source": [
    "#### 문자열 포매팅하기"
   ]
  },
  {
   "cell_type": "code",
   "execution_count": 21,
   "metadata": {
    "execution": {
     "iopub.execute_input": "2020-07-10T05:23:40.992767Z",
     "iopub.status.busy": "2020-07-10T05:23:40.992767Z",
     "iopub.status.idle": "2020-07-10T05:23:40.998603Z",
     "shell.execute_reply": "2020-07-10T05:23:40.997626Z",
     "shell.execute_reply.started": "2020-07-10T05:23:40.992767Z"
    }
   },
   "outputs": [
    {
     "name": "stdout",
     "output_type": "stream",
     "text": [
      "It's just a flesh wound!\n",
      "It's just a scratch!\n"
     ]
    }
   ],
   "source": [
    "var = 'flesh wound'\n",
    "s = \"It's just a {}!\"\n",
    "print(s.format(var))\n",
    "print(s.format('scratch'))"
   ]
  },
  {
   "cell_type": "code",
   "execution_count": 22,
   "metadata": {
    "execution": {
     "iopub.execute_input": "2020-07-10T05:35:43.014876Z",
     "iopub.status.busy": "2020-07-10T05:35:43.014876Z",
     "iopub.status.idle": "2020-07-10T05:35:43.021674Z",
     "shell.execute_reply": "2020-07-10T05:35:43.019723Z",
     "shell.execute_reply.started": "2020-07-10T05:35:43.014876Z"
    }
   },
   "outputs": [
    {
     "name": "stdout",
     "output_type": "stream",
     "text": [
      "Black Knight: 'Tis but a scratch.\n",
      "King Arthur: A scratch? Your arm's off!\n"
     ]
    }
   ],
   "source": [
    "s = \"\"\"Black Knight: 'Tis but a {0}.\n",
    "King Arthur: A {0}? Your arm's off!\"\"\"\n",
    "print(s.format('scratch'))"
   ]
  },
  {
   "cell_type": "code",
   "execution_count": 23,
   "metadata": {
    "execution": {
     "iopub.execute_input": "2020-07-10T05:45:52.014661Z",
     "iopub.status.busy": "2020-07-10T05:45:52.013685Z",
     "iopub.status.idle": "2020-07-10T05:45:52.020517Z",
     "shell.execute_reply": "2020-07-10T05:45:52.019552Z",
     "shell.execute_reply.started": "2020-07-10T05:45:52.013685Z"
    }
   },
   "outputs": [
    {
     "name": "stdout",
     "output_type": "stream",
     "text": [
      "Hayden Planetarium Cordinates: 40.7815 N,73.9733 W\n"
     ]
    }
   ],
   "source": [
    "s = 'Hayden Planetarium Cordinates: {lat},{lon}'\n",
    "print(s.format(lat='40.7815 N',lon = '73.9733 W'))"
   ]
  },
  {
   "cell_type": "markdown",
   "metadata": {},
   "source": [
    "#### 숫자 데이터 포매팅하기"
   ]
  },
  {
   "cell_type": "code",
   "execution_count": 24,
   "metadata": {
    "execution": {
     "iopub.execute_input": "2020-07-10T05:46:36.008129Z",
     "iopub.status.busy": "2020-07-10T05:46:36.007158Z",
     "iopub.status.idle": "2020-07-10T05:46:36.012039Z",
     "shell.execute_reply": "2020-07-10T05:46:36.012039Z",
     "shell.execute_reply.started": "2020-07-10T05:46:36.008129Z"
    }
   },
   "outputs": [
    {
     "name": "stdout",
     "output_type": "stream",
     "text": [
      "some digits of pi: 3.14159265359\n"
     ]
    }
   ],
   "source": [
    "print('some digits of pi: {}'.format(3.14159265359))"
   ]
  },
  {
   "cell_type": "code",
   "execution_count": 25,
   "metadata": {
    "execution": {
     "iopub.execute_input": "2020-07-10T05:49:17.018337Z",
     "iopub.status.busy": "2020-07-10T05:49:17.018337Z",
     "iopub.status.idle": "2020-07-10T05:49:17.025169Z",
     "shell.execute_reply": "2020-07-10T05:49:17.024221Z",
     "shell.execute_reply.started": "2020-07-10T05:49:17.018337Z"
    }
   },
   "outputs": [
    {
     "name": "stdout",
     "output_type": "stream",
     "text": [
      "In 2005, Lu Chao of China recited 67,890 digits of pi\n"
     ]
    }
   ],
   "source": [
    "print(\"In 2005, Lu Chao of China recited {:,} digits of pi\".format(67890))"
   ]
  },
  {
   "cell_type": "code",
   "execution_count": 26,
   "metadata": {
    "execution": {
     "iopub.execute_input": "2020-07-10T05:50:02.013876Z",
     "iopub.status.busy": "2020-07-10T05:50:02.013876Z",
     "iopub.status.idle": "2020-07-10T05:50:02.018722Z",
     "shell.execute_reply": "2020-07-10T05:50:02.017770Z",
     "shell.execute_reply.started": "2020-07-10T05:50:02.013876Z"
    }
   },
   "outputs": [
    {
     "name": "stdout",
     "output_type": "stream",
     "text": [
      "I remember 0.00010310796877301516 or 0.010311% of what Lu Chao recited\n"
     ]
    }
   ],
   "source": [
    "print('I remember {0:4} or {0:4%} of what Lu Chao recited'.format(7/67890))"
   ]
  },
  {
   "cell_type": "code",
   "execution_count": 27,
   "metadata": {
    "execution": {
     "iopub.execute_input": "2020-07-10T05:50:34.016743Z",
     "iopub.status.busy": "2020-07-10T05:50:34.015765Z",
     "iopub.status.idle": "2020-07-10T05:50:34.023572Z",
     "shell.execute_reply": "2020-07-10T05:50:34.021622Z",
     "shell.execute_reply.started": "2020-07-10T05:50:34.016743Z"
    }
   },
   "outputs": [
    {
     "name": "stdout",
     "output_type": "stream",
     "text": [
      "My ID number is 00042\n"
     ]
    }
   ],
   "source": [
    "print('My ID number is {0:05d}'.format(42))"
   ]
  },
  {
   "cell_type": "markdown",
   "metadata": {},
   "source": [
    "#### % 연산자로 포매팅하기"
   ]
  },
  {
   "cell_type": "code",
   "execution_count": 28,
   "metadata": {
    "execution": {
     "iopub.execute_input": "2020-07-10T05:51:14.014775Z",
     "iopub.status.busy": "2020-07-10T05:51:14.014775Z",
     "iopub.status.idle": "2020-07-10T05:51:14.023559Z",
     "shell.execute_reply": "2020-07-10T05:51:14.021607Z",
     "shell.execute_reply.started": "2020-07-10T05:51:14.014775Z"
    }
   },
   "outputs": [
    {
     "name": "stdout",
     "output_type": "stream",
     "text": [
      "I only know 7 digits of pi\n"
     ]
    }
   ],
   "source": [
    "s = 'I only know %d digits of pi' %7\n",
    "print(s)"
   ]
  },
  {
   "cell_type": "code",
   "execution_count": 29,
   "metadata": {
    "execution": {
     "iopub.execute_input": "2020-07-10T05:53:02.024615Z",
     "iopub.status.busy": "2020-07-10T05:53:02.024615Z",
     "iopub.status.idle": "2020-07-10T05:53:02.032420Z",
     "shell.execute_reply": "2020-07-10T05:53:02.031444Z",
     "shell.execute_reply.started": "2020-07-10T05:53:02.024615Z"
    }
   },
   "outputs": [
    {
     "name": "stdout",
     "output_type": "stream",
     "text": [
      "Some digits of e: 2.72\n"
     ]
    }
   ],
   "source": [
    "print('Some digits of %(cont)s: %(value).2f' %{'cont':'e', 'value':2.718})"
   ]
  },
  {
   "cell_type": "markdown",
   "metadata": {},
   "source": [
    "## 09-4 정규식으로 문자열 처리에 날개 달기"
   ]
  },
  {
   "cell_type": "markdown",
   "metadata": {},
   "source": [
    "#### 정규식으로 전화번호 패턴 찾기"
   ]
  },
  {
   "cell_type": "code",
   "execution_count": 30,
   "metadata": {
    "execution": {
     "iopub.execute_input": "2020-07-10T05:53:56.024328Z",
     "iopub.status.busy": "2020-07-10T05:53:56.024328Z",
     "iopub.status.idle": "2020-07-10T05:53:56.030231Z",
     "shell.execute_reply": "2020-07-10T05:53:56.029228Z",
     "shell.execute_reply.started": "2020-07-10T05:53:56.024328Z"
    }
   },
   "outputs": [],
   "source": [
    "import re\n",
    "\n",
    "tele_num = '1234567890'"
   ]
  },
  {
   "cell_type": "code",
   "execution_count": 32,
   "metadata": {
    "execution": {
     "iopub.execute_input": "2020-07-10T05:54:42.007411Z",
     "iopub.status.busy": "2020-07-10T05:54:42.007411Z",
     "iopub.status.idle": "2020-07-10T05:54:42.013266Z",
     "shell.execute_reply": "2020-07-10T05:54:42.012288Z",
     "shell.execute_reply.started": "2020-07-10T05:54:42.007411Z"
    }
   },
   "outputs": [
    {
     "name": "stdout",
     "output_type": "stream",
     "text": [
      "<re.Match object; span=(0, 10), match='1234567890'>\n"
     ]
    }
   ],
   "source": [
    "m = re.match(pattern ='\\d\\d\\d\\d\\d\\d\\d\\d\\d\\d', string = tele_num)\n",
    "print(m)"
   ]
  },
  {
   "cell_type": "code",
   "execution_count": 34,
   "metadata": {
    "execution": {
     "iopub.execute_input": "2020-07-10T05:55:09.023837Z",
     "iopub.status.busy": "2020-07-10T05:55:09.023837Z",
     "iopub.status.idle": "2020-07-10T05:55:09.027776Z",
     "shell.execute_reply": "2020-07-10T05:55:09.027776Z",
     "shell.execute_reply.started": "2020-07-10T05:55:09.023837Z"
    }
   },
   "outputs": [
    {
     "name": "stdout",
     "output_type": "stream",
     "text": [
      "True\n",
      "match\n"
     ]
    }
   ],
   "source": [
    "print(bool(m))\n",
    "\n",
    "if m :\n",
    "    print('match')\n",
    "else:\n",
    "    print('No match')"
   ]
  },
  {
   "cell_type": "code",
   "execution_count": 37,
   "metadata": {
    "execution": {
     "iopub.execute_input": "2020-07-10T05:55:38.005008Z",
     "iopub.status.busy": "2020-07-10T05:55:38.005008Z",
     "iopub.status.idle": "2020-07-10T05:55:38.010863Z",
     "shell.execute_reply": "2020-07-10T05:55:38.009896Z",
     "shell.execute_reply.started": "2020-07-10T05:55:38.005008Z"
    }
   },
   "outputs": [
    {
     "name": "stdout",
     "output_type": "stream",
     "text": [
      "0\n",
      "10\n",
      "(0, 10)\n",
      "1234567890\n"
     ]
    }
   ],
   "source": [
    "print(m.start())\n",
    "print(m.end())\n",
    "print(m.span())\n",
    "print(m.group())"
   ]
  },
  {
   "cell_type": "code",
   "execution_count": 38,
   "metadata": {
    "execution": {
     "iopub.execute_input": "2020-07-10T05:56:30.027953Z",
     "iopub.status.busy": "2020-07-10T05:56:30.026965Z",
     "iopub.status.idle": "2020-07-10T05:56:30.035748Z",
     "shell.execute_reply": "2020-07-10T05:56:30.034770Z",
     "shell.execute_reply.started": "2020-07-10T05:56:30.027953Z"
    }
   },
   "outputs": [
    {
     "name": "stdout",
     "output_type": "stream",
     "text": [
      "None\n"
     ]
    }
   ],
   "source": [
    "tele_num_spaces = '123 456 7890'\n",
    "m = re.match(pattern='\\d{10}', string = tele_num_spaces)\n",
    "print(m)"
   ]
  },
  {
   "cell_type": "code",
   "execution_count": 39,
   "metadata": {
    "execution": {
     "iopub.execute_input": "2020-07-10T05:56:45.025557Z",
     "iopub.status.busy": "2020-07-10T05:56:45.024582Z",
     "iopub.status.idle": "2020-07-10T05:56:45.035313Z",
     "shell.execute_reply": "2020-07-10T05:56:45.033366Z",
     "shell.execute_reply.started": "2020-07-10T05:56:45.025557Z"
    }
   },
   "outputs": [
    {
     "name": "stdout",
     "output_type": "stream",
     "text": [
      "No match\n"
     ]
    }
   ],
   "source": [
    "if m:\n",
    "    print('match')\n",
    "else :\n",
    "    print('No match')"
   ]
  },
  {
   "cell_type": "code",
   "execution_count": 40,
   "metadata": {
    "execution": {
     "iopub.execute_input": "2020-07-10T05:59:20.018637Z",
     "iopub.status.busy": "2020-07-10T05:59:20.018637Z",
     "iopub.status.idle": "2020-07-10T05:59:20.025469Z",
     "shell.execute_reply": "2020-07-10T05:59:20.024525Z",
     "shell.execute_reply.started": "2020-07-10T05:59:20.018637Z"
    }
   },
   "outputs": [
    {
     "name": "stdout",
     "output_type": "stream",
     "text": [
      "<re.Match object; span=(0, 12), match='123 456 7890'>\n"
     ]
    }
   ],
   "source": [
    "# none으로 뜨니, 패턴을 재 작성\n",
    "p = '\\d{3}\\s?\\d{3}\\s?\\d{4}'\n",
    "m = re.match(pattern=p, string=tele_num_spaces)\n",
    "print(m)"
   ]
  },
  {
   "cell_type": "code",
   "execution_count": 42,
   "metadata": {
    "execution": {
     "iopub.execute_input": "2020-07-10T06:00:55.017808Z",
     "iopub.status.busy": "2020-07-10T06:00:55.017808Z",
     "iopub.status.idle": "2020-07-10T06:00:55.027568Z",
     "shell.execute_reply": "2020-07-10T06:00:55.025618Z",
     "shell.execute_reply.started": "2020-07-10T06:00:55.017808Z"
    }
   },
   "outputs": [
    {
     "name": "stdout",
     "output_type": "stream",
     "text": [
      "<re.Match object; span=(0, 14), match='(123) 456-7890'>\n"
     ]
    }
   ],
   "source": [
    "# 지역코드는 소괄호, 나머지는 반각 기호로 구분한것\n",
    "tele_num_space_paren_dash = '(123) 456-7890'\n",
    "p = '\\(?\\d{3}\\)?\\s?\\d{3}\\s?-?\\d{4}'\n",
    "m = re.match(pattern=p, string=tele_num_space_paren_dash)\n",
    "print(m)"
   ]
  },
  {
   "cell_type": "code",
   "execution_count": 44,
   "metadata": {
    "execution": {
     "iopub.execute_input": "2020-07-10T06:02:18.014014Z",
     "iopub.status.busy": "2020-07-10T06:02:18.013068Z",
     "iopub.status.idle": "2020-07-10T06:02:18.023770Z",
     "shell.execute_reply": "2020-07-10T06:02:18.021818Z",
     "shell.execute_reply.started": "2020-07-10T06:02:18.014014Z"
    }
   },
   "outputs": [
    {
     "name": "stdout",
     "output_type": "stream",
     "text": [
      "<re.Match object; span=(0, 17), match='+1 (123) 456-7890'>\n"
     ]
    }
   ],
   "source": [
    "# 국가코드까지 있는 전화번호 정규식\n",
    "cnty_tele_num_space_paren_dash = '+1 (123) 456-7890'\n",
    "p = '\\+?1\\s?\\(?\\d{3}\\)?\\s?\\d{3}\\s?-?\\d{4}'\n",
    "m = re.match(pattern=p, string=cnty_tele_num_space_paren_dash)\n",
    "print(m)"
   ]
  },
  {
   "cell_type": "code",
   "execution_count": 45,
   "metadata": {
    "execution": {
     "iopub.execute_input": "2020-07-10T06:03:16.027636Z",
     "iopub.status.busy": "2020-07-10T06:03:16.027636Z",
     "iopub.status.idle": "2020-07-10T06:03:16.033477Z",
     "shell.execute_reply": "2020-07-10T06:03:16.032501Z",
     "shell.execute_reply.started": "2020-07-10T06:03:16.027636Z"
    }
   },
   "outputs": [
    {
     "name": "stdout",
     "output_type": "stream",
     "text": [
      "<re.Match object; span=(0, 10), match='1234567890'>\n"
     ]
    }
   ],
   "source": [
    "# compile 메서드로 정규식 사용\n",
    "p = re.compile('\\d{10}')\n",
    "s = '1234567890'\n",
    "m = p.match(s)\n",
    "print(m)"
   ]
  },
  {
   "cell_type": "code",
   "execution_count": null,
   "metadata": {},
   "outputs": [],
   "source": []
  }
 ],
 "metadata": {
  "kernelspec": {
   "display_name": "Python 3",
   "language": "python",
   "name": "python3"
  },
  "language_info": {
   "codemirror_mode": {
    "name": "ipython",
    "version": 3
   },
   "file_extension": ".py",
   "mimetype": "text/x-python",
   "name": "python",
   "nbconvert_exporter": "python",
   "pygments_lexer": "ipython3",
   "version": "3.7.6"
  }
 },
 "nbformat": 4,
 "nbformat_minor": 4
}
